{
 "cells": [
  {
   "cell_type": "markdown",
   "metadata": {},
   "source": [
    "#### **DATA 620 - Project #3**\n",
    "\n",
    "Author: Kory Martin  \n",
    "Date: 3/20/2024  "
   ]
  },
  {
   "cell_type": "markdown",
   "metadata": {},
   "source": [
    "Instructions:\n",
    "\n",
    "- Using any of the three classifiers described in chapter 6 of Natural Language Processing with Python, and any features you can think of, build the best name gender classifier you can. \n",
    "- Begin by splitting the Names Corpus into three subsets: 500 words for the test set, 500 words for the dev-test set, and the remaining 6900 words for the training set. \n",
    "- Then, starting with the example name gender classifier, make incremental improvements. \n",
    "- Use the dev-test set to check your progress. \n",
    "- Once you are satisfied with your classifier, check its final performance on the test set. How does the performance on the test set compare to the performance on the dev-test set? \n",
    "- Is this what you'd expect?\n",
    "- Project is due 3/26.\n",
    "- Source: Natural Language Processing with Python, exercise 6.10.2.\n"
   ]
  },
  {
   "cell_type": "markdown",
   "metadata": {},
   "source": [
    "#### **1. Import Libraries**"
   ]
  },
  {
   "cell_type": "code",
   "execution_count": 291,
   "metadata": {},
   "outputs": [],
   "source": [
    "from nltk.corpus import names\n",
    "import nltk\n",
    "import random\n",
    "import pandas as pd\n",
    "import re"
   ]
  },
  {
   "cell_type": "markdown",
   "metadata": {},
   "source": [
    "#### **2. Import the names corpus**"
   ]
  },
  {
   "cell_type": "code",
   "execution_count": 292,
   "metadata": {},
   "outputs": [
    {
     "name": "stderr",
     "output_type": "stream",
     "text": [
      "[nltk_data] Downloading package names to\n",
      "[nltk_data]     /Users/korymartin/nltk_data...\n",
      "[nltk_data]   Package names is already up-to-date!\n"
     ]
    },
    {
     "data": {
      "text/plain": [
       "True"
      ]
     },
     "execution_count": 292,
     "metadata": {},
     "output_type": "execute_result"
    }
   ],
   "source": [
    "nltk.download('names')"
   ]
  },
  {
   "cell_type": "markdown",
   "metadata": {},
   "source": [
    "Create a list that combines the male and female names"
   ]
  },
  {
   "cell_type": "code",
   "execution_count": 293,
   "metadata": {},
   "outputs": [],
   "source": [
    "names = ([(name,'male') for name in names.words('male.txt')] + [(name,'female') for name in names.words('female.txt')])"
   ]
  },
  {
   "cell_type": "code",
   "execution_count": 294,
   "metadata": {},
   "outputs": [
    {
     "data": {
      "text/plain": [
       "1\n",
       "female    5001\n",
       "male      2943\n",
       "Name: count, dtype: int64"
      ]
     },
     "execution_count": 294,
     "metadata": {},
     "output_type": "execute_result"
    }
   ],
   "source": [
    "pd.DataFrame(names)[1].value_counts()"
   ]
  },
  {
   "cell_type": "markdown",
   "metadata": {},
   "source": [
    "Shuffle the names"
   ]
  },
  {
   "cell_type": "code",
   "execution_count": 295,
   "metadata": {},
   "outputs": [],
   "source": [
    "random.seed(1211)\n",
    "random.shuffle(names)"
   ]
  },
  {
   "cell_type": "markdown",
   "metadata": {},
   "source": [
    "Since there are more female names than male names, we will start by creating a balanced dataset that has an equal number of male names and female names"
   ]
  },
  {
   "cell_type": "code",
   "execution_count": 296,
   "metadata": {},
   "outputs": [],
   "source": [
    "female_names = pd.DataFrame(names).loc[pd.DataFrame(names)[1] == 'female'].copy()\n",
    "male_names = pd.DataFrame(names).loc[pd.DataFrame(names)[1] == 'male'].copy()"
   ]
  },
  {
   "cell_type": "code",
   "execution_count": 297,
   "metadata": {},
   "outputs": [],
   "source": [
    "num_male_names = len(male_names)"
   ]
  },
  {
   "cell_type": "code",
   "execution_count": 298,
   "metadata": {},
   "outputs": [],
   "source": [
    "female_names_sample = female_names.sample(num_male_names, random_state=1211).copy()"
   ]
  },
  {
   "cell_type": "code",
   "execution_count": 299,
   "metadata": {},
   "outputs": [],
   "source": [
    "balanced_names = pd.concat([male_names,female_names_sample])"
   ]
  },
  {
   "cell_type": "markdown",
   "metadata": {},
   "source": [
    "This results in the fallanced balanced dataset"
   ]
  },
  {
   "cell_type": "code",
   "execution_count": 300,
   "metadata": {},
   "outputs": [
    {
     "data": {
      "text/plain": [
       "1\n",
       "male      2943\n",
       "female    2943\n",
       "Name: count, dtype: int64"
      ]
     },
     "execution_count": 300,
     "metadata": {},
     "output_type": "execute_result"
    }
   ],
   "source": [
    "balanced_names[1].value_counts()"
   ]
  },
  {
   "cell_type": "code",
   "execution_count": 301,
   "metadata": {},
   "outputs": [],
   "source": [
    "balanced_names = balanced_names.sample(frac=1).reset_index(drop=True)"
   ]
  },
  {
   "cell_type": "markdown",
   "metadata": {},
   "source": [
    "Split the names data into training data, test data and dev-test data"
   ]
  },
  {
   "cell_type": "code",
   "execution_count": 302,
   "metadata": {},
   "outputs": [
    {
     "data": {
      "text/plain": [
       "5886"
      ]
     },
     "execution_count": 302,
     "metadata": {},
     "output_type": "execute_result"
    }
   ],
   "source": [
    "len(balanced_names)"
   ]
  },
  {
   "cell_type": "code",
   "execution_count": 303,
   "metadata": {},
   "outputs": [],
   "source": [
    "test_pct = 500/7900"
   ]
  },
  {
   "cell_type": "code",
   "execution_count": 304,
   "metadata": {},
   "outputs": [],
   "source": [
    "test_size = int(round((len(balanced_names)) * test_pct,0))\n",
    "dev_size = int(round((len(balanced_names)) * test_pct,0))\n",
    "train_size = int(len(balanced_names) - (test_size + dev_size))\n"
   ]
  },
  {
   "cell_type": "code",
   "execution_count": 305,
   "metadata": {},
   "outputs": [
    {
     "data": {
      "text/plain": [
       "5140"
      ]
     },
     "execution_count": 305,
     "metadata": {},
     "output_type": "execute_result"
    }
   ],
   "source": [
    "train_size"
   ]
  },
  {
   "cell_type": "code",
   "execution_count": 306,
   "metadata": {},
   "outputs": [],
   "source": [
    "test = names[:test_size]\n",
    "dev_test = names[dev_size:2*dev_size]\n",
    "train = names[2*dev_size:]\n",
    "\n"
   ]
  },
  {
   "cell_type": "markdown",
   "metadata": {},
   "source": [
    "#### **3. Name Classifier**\n",
    "\n",
    "Here we start by building a function that takes in a name and extract specific features that will be used to train our model"
   ]
  },
  {
   "cell_type": "markdown",
   "metadata": {},
   "source": [
    "##### **3.1 Round 1**\n",
    "\n",
    "For our first classifier, we will replicate the classifier created in our text. This classifier will be trained by using the last letter of the name as the only feature used to classify the text as **male** or **female**"
   ]
  },
  {
   "cell_type": "code",
   "execution_count": 307,
   "metadata": {},
   "outputs": [],
   "source": [
    "def gender_features(word):\n",
    "    features = {'last_letter':word[-1]}\n",
    "    return features"
   ]
  },
  {
   "cell_type": "markdown",
   "metadata": {},
   "source": [
    "Next we will create the different data sets - along with their features - to train and evaluate our classifier"
   ]
  },
  {
   "cell_type": "code",
   "execution_count": 308,
   "metadata": {},
   "outputs": [],
   "source": [
    "train_set = [(gender_features(n),g) for (n,g) in train]\n",
    "test_set = [(gender_features(n),g) for (n,g) in test]\n",
    "dev_test_set = [(gender_features(n),g) for (n,g) in dev_test]"
   ]
  },
  {
   "cell_type": "markdown",
   "metadata": {},
   "source": [
    "Next we will train the classifier using the training set"
   ]
  },
  {
   "cell_type": "code",
   "execution_count": 309,
   "metadata": {},
   "outputs": [],
   "source": [
    "classifier_a = nltk.NaiveBayesClassifier.train(train_set)\n",
    "classifier_b = nltk.DecisionTreeClassifier.train(train_set)"
   ]
  },
  {
   "cell_type": "markdown",
   "metadata": {},
   "source": [
    "Here we see that both the Naive and Decision Tree classifiers have an accuracy of 77%"
   ]
  },
  {
   "cell_type": "code",
   "execution_count": 310,
   "metadata": {},
   "outputs": [
    {
     "name": "stdout",
     "output_type": "stream",
     "text": [
      "Naive Bayes Classifier Accuracy: 0.7774798927613941\n",
      "Decision Tree Classifier Accuracy: 0.7774798927613941\n"
     ]
    }
   ],
   "source": [
    "print('Naive Bayes Classifier Accuracy: {}'.format(nltk.classify.accuracy(classifier_a,test_set)))\n",
    "print('Decision Tree Classifier Accuracy: {}'.format(nltk.classify.accuracy(classifier_b,test_set)))"
   ]
  },
  {
   "cell_type": "markdown",
   "metadata": {},
   "source": [
    "We will now use our dev_test set to examine the errors generated by our classifier and use this to identify other features that can be used to improve upon our classifier"
   ]
  },
  {
   "cell_type": "code",
   "execution_count": 311,
   "metadata": {},
   "outputs": [],
   "source": [
    "errors = []\n",
    "for (name,tag) in dev_test:\n",
    "    guess = classifier_a.classify(gender_features(name))\n",
    "    if guess != tag:\n",
    "        errors.append((tag,guess,name))"
   ]
  },
  {
   "cell_type": "code",
   "execution_count": 312,
   "metadata": {},
   "outputs": [],
   "source": [
    "errors_df = pd.DataFrame(errors).rename(columns={0:'correct', 1:'guess', 2:'name'})"
   ]
  },
  {
   "cell_type": "markdown",
   "metadata": {},
   "source": [
    "Looking at the errors log, we can begin to explore some additional features that may be helpful in improving our model. "
   ]
  },
  {
   "cell_type": "code",
   "execution_count": 313,
   "metadata": {},
   "outputs": [],
   "source": [
    "r1_errors = errors_df.sort_values(by=['correct','name'], ascending=[False,True])"
   ]
  },
  {
   "cell_type": "code",
   "execution_count": 314,
   "metadata": {},
   "outputs": [],
   "source": [
    "errors_info = [{'first_letter':r1_errors.loc[i,'name'][0].lower(), \\\n",
    "    'correct':r1_errors.loc[i,'correct'], \\\n",
    "        'guess':r1_errors.loc[i,'guess']} for i in range(len(r1_errors))]"
   ]
  },
  {
   "cell_type": "code",
   "execution_count": 315,
   "metadata": {},
   "outputs": [
    {
     "data": {
      "text/html": [
       "<div>\n",
       "<style scoped>\n",
       "    .dataframe tbody tr th:only-of-type {\n",
       "        vertical-align: middle;\n",
       "    }\n",
       "\n",
       "    .dataframe tbody tr th {\n",
       "        vertical-align: top;\n",
       "    }\n",
       "\n",
       "    .dataframe thead th {\n",
       "        text-align: right;\n",
       "    }\n",
       "</style>\n",
       "<table border=\"1\" class=\"dataframe\">\n",
       "  <thead>\n",
       "    <tr style=\"text-align: right;\">\n",
       "      <th>correct</th>\n",
       "      <th>female</th>\n",
       "      <th>male</th>\n",
       "    </tr>\n",
       "    <tr>\n",
       "      <th>first_letter</th>\n",
       "      <th></th>\n",
       "      <th></th>\n",
       "    </tr>\n",
       "  </thead>\n",
       "  <tbody>\n",
       "    <tr>\n",
       "      <th>a</th>\n",
       "      <td>2</td>\n",
       "      <td>1</td>\n",
       "    </tr>\n",
       "    <tr>\n",
       "      <th>b</th>\n",
       "      <td>3</td>\n",
       "      <td>3</td>\n",
       "    </tr>\n",
       "    <tr>\n",
       "      <th>c</th>\n",
       "      <td>3</td>\n",
       "      <td>3</td>\n",
       "    </tr>\n",
       "    <tr>\n",
       "      <th>d</th>\n",
       "      <td>2</td>\n",
       "      <td>4</td>\n",
       "    </tr>\n",
       "    <tr>\n",
       "      <th>e</th>\n",
       "      <td>4</td>\n",
       "      <td>2</td>\n",
       "    </tr>\n",
       "    <tr>\n",
       "      <th>f</th>\n",
       "      <td>2</td>\n",
       "      <td>1</td>\n",
       "    </tr>\n",
       "    <tr>\n",
       "      <th>g</th>\n",
       "      <td>2</td>\n",
       "      <td>0</td>\n",
       "    </tr>\n",
       "    <tr>\n",
       "      <th>h</th>\n",
       "      <td>1</td>\n",
       "      <td>2</td>\n",
       "    </tr>\n",
       "    <tr>\n",
       "      <th>j</th>\n",
       "      <td>5</td>\n",
       "      <td>3</td>\n",
       "    </tr>\n",
       "    <tr>\n",
       "      <th>k</th>\n",
       "      <td>4</td>\n",
       "      <td>0</td>\n",
       "    </tr>\n",
       "    <tr>\n",
       "      <th>l</th>\n",
       "      <td>1</td>\n",
       "      <td>3</td>\n",
       "    </tr>\n",
       "    <tr>\n",
       "      <th>m</th>\n",
       "      <td>4</td>\n",
       "      <td>2</td>\n",
       "    </tr>\n",
       "    <tr>\n",
       "      <th>n</th>\n",
       "      <td>0</td>\n",
       "      <td>2</td>\n",
       "    </tr>\n",
       "    <tr>\n",
       "      <th>p</th>\n",
       "      <td>0</td>\n",
       "      <td>1</td>\n",
       "    </tr>\n",
       "    <tr>\n",
       "      <th>r</th>\n",
       "      <td>1</td>\n",
       "      <td>3</td>\n",
       "    </tr>\n",
       "    <tr>\n",
       "      <th>s</th>\n",
       "      <td>6</td>\n",
       "      <td>4</td>\n",
       "    </tr>\n",
       "    <tr>\n",
       "      <th>t</th>\n",
       "      <td>3</td>\n",
       "      <td>6</td>\n",
       "    </tr>\n",
       "    <tr>\n",
       "      <th>w</th>\n",
       "      <td>1</td>\n",
       "      <td>0</td>\n",
       "    </tr>\n",
       "    <tr>\n",
       "      <th>y</th>\n",
       "      <td>0</td>\n",
       "      <td>1</td>\n",
       "    </tr>\n",
       "    <tr>\n",
       "      <th>z</th>\n",
       "      <td>0</td>\n",
       "      <td>1</td>\n",
       "    </tr>\n",
       "  </tbody>\n",
       "</table>\n",
       "</div>"
      ],
      "text/plain": [
       "correct       female  male\n",
       "first_letter              \n",
       "a                  2     1\n",
       "b                  3     3\n",
       "c                  3     3\n",
       "d                  2     4\n",
       "e                  4     2\n",
       "f                  2     1\n",
       "g                  2     0\n",
       "h                  1     2\n",
       "j                  5     3\n",
       "k                  4     0\n",
       "l                  1     3\n",
       "m                  4     2\n",
       "n                  0     2\n",
       "p                  0     1\n",
       "r                  1     3\n",
       "s                  6     4\n",
       "t                  3     6\n",
       "w                  1     0\n",
       "y                  0     1\n",
       "z                  0     1"
      ]
     },
     "execution_count": 315,
     "metadata": {},
     "output_type": "execute_result"
    }
   ],
   "source": [
    "x = pd.DataFrame(errors_info).sort_values(by='first_letter')\n",
    "pd.crosstab(x['first_letter'], x['correct'])"
   ]
  },
  {
   "cell_type": "markdown",
   "metadata": {},
   "source": [
    "Based on reviewing the data based on first letter of the name, it appears that the data is misclassifying names that begin with the letters a,c,d,m,p,s. I think this is worth attempting to enhance the features function to include a first letter. For starters, we will just focus on including the first letter of the name as a feature; and then depending on what we find with our errors, it may be worth being more explicit and creating a feature based on if the name begins with one of the letters mentioned above"
   ]
  },
  {
   "cell_type": "markdown",
   "metadata": {},
   "source": [
    "##### **3.2 Round 2 - Include first letter** "
   ]
  },
  {
   "cell_type": "markdown",
   "metadata": {},
   "source": [
    "As mentioned at the end of the previous step, we will include a feature for the first letter of the name "
   ]
  },
  {
   "cell_type": "code",
   "execution_count": 316,
   "metadata": {},
   "outputs": [],
   "source": [
    "def gender_features(word):\n",
    "    features = {'last_letter':word[-1], 'first_letter':word[0].lower()}\n",
    "    return features"
   ]
  },
  {
   "cell_type": "code",
   "execution_count": 317,
   "metadata": {},
   "outputs": [],
   "source": [
    "featuresets = [(gender_features(n),g) for (n,g) in names]"
   ]
  },
  {
   "cell_type": "code",
   "execution_count": 318,
   "metadata": {},
   "outputs": [],
   "source": [
    "train_set = [(gender_features(n),g) for (n,g) in train]\n",
    "test_set = [(gender_features(n),g) for (n,g) in test]\n",
    "dev_test_set = [(gender_features(n),g) for (n,g) in dev_test]"
   ]
  },
  {
   "cell_type": "code",
   "execution_count": 319,
   "metadata": {},
   "outputs": [],
   "source": [
    "classifier_a = nltk.NaiveBayesClassifier.train(train_set)\n",
    "classifier_b = nltk.DecisionTreeClassifier.train(train_set)"
   ]
  },
  {
   "cell_type": "markdown",
   "metadata": {},
   "source": [
    "We see that including the first initial of the letter improved the accuracy score from 77% to 78.9% for the Naive Bayes Classifier and from 77% to 89.6% for the Decision Tree Classifier. "
   ]
  },
  {
   "cell_type": "code",
   "execution_count": 320,
   "metadata": {},
   "outputs": [
    {
     "name": "stdout",
     "output_type": "stream",
     "text": [
      "Naive Bayes Classifier Accuracy: 0.7882037533512064\n",
      "Decision Tree Classifier Accuracy: 0.7962466487935657\n"
     ]
    }
   ],
   "source": [
    "print('Naive Bayes Classifier Accuracy: {}'.format(nltk.classify.accuracy(classifier_a,test_set)))\n",
    "print('Decision Tree Classifier Accuracy: {}'.format(nltk.classify.accuracy(classifier_b,test_set)))"
   ]
  },
  {
   "cell_type": "markdown",
   "metadata": {},
   "source": [
    "We will now use our dev_test set to examine the errors generated by our classifier and use this to identify other features that can be used to improve upon our classifier"
   ]
  },
  {
   "cell_type": "code",
   "execution_count": 321,
   "metadata": {},
   "outputs": [
    {
     "data": {
      "text/plain": [
       "[({'last_letter': 'a', 'first_letter': 'm'}, 'female'),\n",
       " ({'last_letter': 'a', 'first_letter': 'a'}, 'female'),\n",
       " ({'last_letter': 'a', 'first_letter': 'e'}, 'female'),\n",
       " ({'last_letter': 'e', 'first_letter': 'm'}, 'female'),\n",
       " ({'last_letter': 't', 'first_letter': 'e'}, 'male'),\n",
       " ({'last_letter': 'c', 'first_letter': 'f'}, 'male'),\n",
       " ({'last_letter': 'e', 'first_letter': 'j'}, 'female'),\n",
       " ({'last_letter': 'e', 'first_letter': 'r'}, 'female'),\n",
       " ({'last_letter': 'e', 'first_letter': 'f'}, 'male'),\n",
       " ({'last_letter': 'y', 'first_letter': 'f'}, 'female'),\n",
       " ({'last_letter': 'e', 'first_letter': 'd'}, 'female'),\n",
       " ({'last_letter': 'a', 'first_letter': 'n'}, 'female'),\n",
       " ({'last_letter': 'y', 'first_letter': 'a'}, 'female'),\n",
       " ({'last_letter': 'n', 'first_letter': 'c'}, 'female'),\n",
       " ({'last_letter': 'y', 'first_letter': 'j'}, 'male'),\n",
       " ({'last_letter': 'a', 'first_letter': 'r'}, 'female'),\n",
       " ({'last_letter': 'n', 'first_letter': 's'}, 'male'),\n",
       " ({'last_letter': 'a', 'first_letter': 'm'}, 'female'),\n",
       " ({'last_letter': 'n', 'first_letter': 'e'}, 'male'),\n",
       " ({'last_letter': 'r', 'first_letter': 's'}, 'male'),\n",
       " ({'last_letter': 'n', 'first_letter': 'm'}, 'female'),\n",
       " ({'last_letter': 'a', 'first_letter': 'f'}, 'female'),\n",
       " ({'last_letter': 'a', 'first_letter': 'c'}, 'female'),\n",
       " ({'last_letter': 'l', 'first_letter': 't'}, 'female'),\n",
       " ({'last_letter': 'a', 'first_letter': 's'}, 'female'),\n",
       " ({'last_letter': 'a', 'first_letter': 'n'}, 'female'),\n",
       " ({'last_letter': 'e', 'first_letter': 'c'}, 'male'),\n",
       " ({'last_letter': 'a', 'first_letter': 't'}, 'female'),\n",
       " ({'last_letter': 's', 'first_letter': 'm'}, 'male'),\n",
       " ({'last_letter': 'i', 'first_letter': 'l'}, 'female'),\n",
       " ({'last_letter': 'r', 'first_letter': 'f'}, 'male'),\n",
       " ({'last_letter': 'e', 'first_letter': 'd'}, 'female'),\n",
       " ({'last_letter': 'y', 'first_letter': 't'}, 'male'),\n",
       " ({'last_letter': 'a', 'first_letter': 'n'}, 'female'),\n",
       " ({'last_letter': 'o', 'first_letter': 'a'}, 'male'),\n",
       " ({'last_letter': 'e', 'first_letter': 'b'}, 'male'),\n",
       " ({'last_letter': 'e', 'first_letter': 'e'}, 'female'),\n",
       " ({'last_letter': 'e', 'first_letter': 'm'}, 'female'),\n",
       " ({'last_letter': 's', 'first_letter': 'a'}, 'female'),\n",
       " ({'last_letter': 'l', 'first_letter': 'g'}, 'female'),\n",
       " ({'last_letter': 'l', 'first_letter': 's'}, 'female'),\n",
       " ({'last_letter': 'e', 'first_letter': 'h'}, 'female'),\n",
       " ({'last_letter': 'a', 'first_letter': 'g'}, 'female'),\n",
       " ({'last_letter': 'e', 'first_letter': 'z'}, 'male'),\n",
       " ({'last_letter': 'a', 'first_letter': 'i'}, 'female'),\n",
       " ({'last_letter': 'n', 'first_letter': 'h'}, 'male'),\n",
       " ({'last_letter': 'y', 'first_letter': 'l'}, 'female'),\n",
       " ({'last_letter': 'a', 'first_letter': 'j'}, 'female'),\n",
       " ({'last_letter': 'a', 'first_letter': 'e'}, 'female'),\n",
       " ({'last_letter': 'a', 'first_letter': 'l'}, 'female'),\n",
       " ({'last_letter': 'k', 'first_letter': 'k'}, 'male'),\n",
       " ({'last_letter': 'a', 'first_letter': 'm'}, 'female'),\n",
       " ({'last_letter': 'n', 'first_letter': 'j'}, 'female'),\n",
       " ({'last_letter': 'e', 'first_letter': 'e'}, 'female'),\n",
       " ({'last_letter': 'e', 'first_letter': 'b'}, 'female'),\n",
       " ({'last_letter': 'l', 'first_letter': 'o'}, 'male'),\n",
       " ({'last_letter': 'e', 'first_letter': 's'}, 'female'),\n",
       " ({'last_letter': 'e', 'first_letter': 'f'}, 'female'),\n",
       " ({'last_letter': 'e', 'first_letter': 'e'}, 'female'),\n",
       " ({'last_letter': 'l', 'first_letter': 'k'}, 'male'),\n",
       " ({'last_letter': 'n', 'first_letter': 'j'}, 'female'),\n",
       " ({'last_letter': 'n', 'first_letter': 'u'}, 'male'),\n",
       " ({'last_letter': 'e', 'first_letter': 'a'}, 'female'),\n",
       " ({'last_letter': 'e', 'first_letter': 'l'}, 'female'),\n",
       " ({'last_letter': 'i', 'first_letter': 'k'}, 'female'),\n",
       " ({'last_letter': 'n', 'first_letter': 'd'}, 'male'),\n",
       " ({'last_letter': 'e', 'first_letter': 'y'}, 'female'),\n",
       " ({'last_letter': 'a', 'first_letter': 'f'}, 'female'),\n",
       " ({'last_letter': 'e', 'first_letter': 'g'}, 'female'),\n",
       " ({'last_letter': 'e', 'first_letter': 'e'}, 'female'),\n",
       " ({'last_letter': 'e', 'first_letter': 'j'}, 'female'),\n",
       " ({'last_letter': 'a', 'first_letter': 't'}, 'female'),\n",
       " ({'last_letter': 'e', 'first_letter': 'm'}, 'female'),\n",
       " ({'last_letter': 'n', 'first_letter': 'k'}, 'female'),\n",
       " ({'last_letter': 'a', 'first_letter': 'a'}, 'female'),\n",
       " ({'last_letter': 'y', 'first_letter': 'm'}, 'female'),\n",
       " ({'last_letter': 'b', 'first_letter': 'b'}, 'female'),\n",
       " ({'last_letter': 'a', 'first_letter': 'a'}, 'female'),\n",
       " ({'last_letter': 'a', 'first_letter': 'j'}, 'female'),\n",
       " ({'last_letter': 'n', 'first_letter': 't'}, 'male'),\n",
       " ({'last_letter': 'o', 'first_letter': 'g'}, 'male'),\n",
       " ({'last_letter': 'e', 'first_letter': 'a'}, 'female'),\n",
       " ({'last_letter': 'e', 'first_letter': 'e'}, 'male'),\n",
       " ({'last_letter': 'd', 'first_letter': 'o'}, 'male'),\n",
       " ({'last_letter': 'n', 'first_letter': 'r'}, 'female'),\n",
       " ({'last_letter': 'n', 'first_letter': 'b'}, 'female'),\n",
       " ({'last_letter': 'n', 'first_letter': 'd'}, 'male'),\n",
       " ({'last_letter': 's', 'first_letter': 't'}, 'female'),\n",
       " ({'last_letter': 'y', 'first_letter': 'm'}, 'male'),\n",
       " ({'last_letter': 'a', 'first_letter': 'c'}, 'female'),\n",
       " ({'last_letter': 'c', 'first_letter': 'j'}, 'male'),\n",
       " ({'last_letter': 'n', 'first_letter': 'o'}, 'male'),\n",
       " ({'last_letter': 'e', 'first_letter': 'l'}, 'male'),\n",
       " ({'last_letter': 'e', 'first_letter': 's'}, 'female'),\n",
       " ({'last_letter': 'e', 'first_letter': 'o'}, 'female'),\n",
       " ({'last_letter': 'n', 'first_letter': 'o'}, 'male'),\n",
       " ({'last_letter': 'i', 'first_letter': 'p'}, 'female'),\n",
       " ({'last_letter': 'e', 'first_letter': 'd'}, 'female'),\n",
       " ({'last_letter': 'i', 'first_letter': 'a'}, 'female'),\n",
       " ({'last_letter': 'l', 'first_letter': 'g'}, 'male'),\n",
       " ({'last_letter': 'e', 'first_letter': 'a'}, 'male'),\n",
       " ({'last_letter': 'e', 'first_letter': 'p'}, 'male'),\n",
       " ({'last_letter': 'e', 'first_letter': 'd'}, 'male'),\n",
       " ({'last_letter': 'e', 'first_letter': 'b'}, 'female'),\n",
       " ({'last_letter': 'e', 'first_letter': 'a'}, 'female'),\n",
       " ({'last_letter': 'e', 'first_letter': 'r'}, 'female'),\n",
       " ({'last_letter': 'n', 'first_letter': 'd'}, 'male'),\n",
       " ({'last_letter': 'e', 'first_letter': 'v'}, 'female'),\n",
       " ({'last_letter': 'f', 'first_letter': 'l'}, 'male'),\n",
       " ({'last_letter': 'a', 'first_letter': 'a'}, 'female'),\n",
       " ({'last_letter': 's', 'first_letter': 'a'}, 'male'),\n",
       " ({'last_letter': 'u', 'first_letter': 'l'}, 'male'),\n",
       " ({'last_letter': 'a', 'first_letter': 'm'}, 'female'),\n",
       " ({'last_letter': 'e', 'first_letter': 'e'}, 'female'),\n",
       " ({'last_letter': 's', 'first_letter': 'm'}, 'male'),\n",
       " ({'last_letter': 'd', 'first_letter': 'e'}, 'female'),\n",
       " ({'last_letter': 'a', 'first_letter': 'e'}, 'female'),\n",
       " ({'last_letter': 'l', 'first_letter': 'a'}, 'female'),\n",
       " ({'last_letter': 'a', 'first_letter': 'm'}, 'female'),\n",
       " ({'last_letter': 'e', 'first_letter': 'j'}, 'female'),\n",
       " ({'last_letter': 'e', 'first_letter': 'b'}, 'male'),\n",
       " ({'last_letter': 's', 'first_letter': 'b'}, 'male'),\n",
       " ({'last_letter': 'y', 'first_letter': 'd'}, 'female'),\n",
       " ({'last_letter': 'a', 'first_letter': 't'}, 'female'),\n",
       " ({'last_letter': 'e', 'first_letter': 'k'}, 'female'),\n",
       " ({'last_letter': 'a', 'first_letter': 'z'}, 'female'),\n",
       " ({'last_letter': 'e', 'first_letter': 'h'}, 'female'),\n",
       " ({'last_letter': 'e', 'first_letter': 's'}, 'female'),\n",
       " ({'last_letter': 'o', 'first_letter': 'l'}, 'male'),\n",
       " ({'last_letter': 'e', 'first_letter': 'n'}, 'male'),\n",
       " ({'last_letter': 'e', 'first_letter': 'd'}, 'male'),\n",
       " ({'last_letter': 't', 'first_letter': 's'}, 'male'),\n",
       " ({'last_letter': 'i', 'first_letter': 'l'}, 'female'),\n",
       " ({'last_letter': 'a', 'first_letter': 'g'}, 'female'),\n",
       " ({'last_letter': 'a', 'first_letter': 'k'}, 'female'),\n",
       " ({'last_letter': 'e', 'first_letter': 'j'}, 'female'),\n",
       " ({'last_letter': 'r', 'first_letter': 'h'}, 'female'),\n",
       " ({'last_letter': 'e', 'first_letter': 'f'}, 'female'),\n",
       " ({'last_letter': 'e', 'first_letter': 'm'}, 'female'),\n",
       " ({'last_letter': 't', 'first_letter': 'b'}, 'male'),\n",
       " ({'last_letter': 'n', 'first_letter': 'd'}, 'female'),\n",
       " ({'last_letter': 'g', 'first_letter': 'i'}, 'male'),\n",
       " ({'last_letter': 'a', 'first_letter': 'l'}, 'female'),\n",
       " ({'last_letter': 'e', 'first_letter': 'k'}, 'female'),\n",
       " ({'last_letter': 'n', 'first_letter': 'l'}, 'female'),\n",
       " ({'last_letter': 'm', 'first_letter': 'l'}, 'male'),\n",
       " ({'last_letter': 'i', 'first_letter': 'h'}, 'female'),\n",
       " ({'last_letter': 'd', 'first_letter': 'f'}, 'female'),\n",
       " ({'last_letter': 'e', 'first_letter': 'h'}, 'female'),\n",
       " ({'last_letter': 'a', 'first_letter': 'n'}, 'female'),\n",
       " ({'last_letter': 'y', 'first_letter': 'c'}, 'male'),\n",
       " ({'last_letter': 'e', 'first_letter': 'j'}, 'male'),\n",
       " ({'last_letter': 'a', 'first_letter': 'm'}, 'female'),\n",
       " ({'last_letter': 'n', 'first_letter': 'a'}, 'male'),\n",
       " ({'last_letter': 's', 'first_letter': 'f'}, 'female'),\n",
       " ({'last_letter': 'a', 'first_letter': 'p'}, 'female'),\n",
       " ({'last_letter': 'y', 'first_letter': 'c'}, 'female'),\n",
       " ({'last_letter': 'a', 'first_letter': 'b'}, 'female'),\n",
       " ({'last_letter': 'a', 'first_letter': 'l'}, 'female'),\n",
       " ({'last_letter': 'i', 'first_letter': 'y'}, 'male'),\n",
       " ({'last_letter': 'a', 'first_letter': 'l'}, 'female'),\n",
       " ({'last_letter': 'a', 'first_letter': 'm'}, 'female'),\n",
       " ({'last_letter': 'e', 'first_letter': 'c'}, 'male'),\n",
       " ({'last_letter': 'a', 'first_letter': 'c'}, 'female'),\n",
       " ({'last_letter': 'a', 'first_letter': 'd'}, 'female'),\n",
       " ({'last_letter': 't', 'first_letter': 't'}, 'male'),\n",
       " ({'last_letter': 'l', 'first_letter': 't'}, 'male'),\n",
       " ({'last_letter': 'e', 'first_letter': 'r'}, 'male'),\n",
       " ({'last_letter': 'a', 'first_letter': 'f'}, 'female'),\n",
       " ({'last_letter': 'a', 'first_letter': 'p'}, 'female'),\n",
       " ({'last_letter': 'a', 'first_letter': 'g'}, 'female'),\n",
       " ({'last_letter': 'i', 'first_letter': 'j'}, 'female'),\n",
       " ({'last_letter': 'e', 'first_letter': 'm'}, 'female'),\n",
       " ({'last_letter': 'e', 'first_letter': 's'}, 'female'),\n",
       " ({'last_letter': 'e', 'first_letter': 'd'}, 'female'),\n",
       " ({'last_letter': 'a', 'first_letter': 'd'}, 'female'),\n",
       " ({'last_letter': 'r', 'first_letter': 'c'}, 'male'),\n",
       " ({'last_letter': 'n', 'first_letter': 'b'}, 'male'),\n",
       " ({'last_letter': 'o', 'first_letter': 'm'}, 'male'),\n",
       " ({'last_letter': 'h', 'first_letter': 'w'}, 'female'),\n",
       " ({'last_letter': 'n', 'first_letter': 'k'}, 'female'),\n",
       " ({'last_letter': 'r', 'first_letter': 's'}, 'male'),\n",
       " ({'last_letter': 'e', 'first_letter': 'r'}, 'female'),\n",
       " ({'last_letter': 'n', 'first_letter': 's'}, 'female'),\n",
       " ({'last_letter': 'o', 'first_letter': 'a'}, 'male'),\n",
       " ({'last_letter': 'y', 'first_letter': 'c'}, 'female'),\n",
       " ({'last_letter': 'b', 'first_letter': 'r'}, 'male'),\n",
       " ({'last_letter': 'd', 'first_letter': 'r'}, 'male'),\n",
       " ({'last_letter': 'a', 'first_letter': 'c'}, 'female'),\n",
       " ({'last_letter': 'a', 'first_letter': 'r'}, 'female'),\n",
       " ({'last_letter': 'a', 'first_letter': 'f'}, 'female'),\n",
       " ({'last_letter': 'y', 'first_letter': 'l'}, 'male'),\n",
       " ({'last_letter': 'y', 'first_letter': 'm'}, 'male'),\n",
       " ({'last_letter': 'e', 'first_letter': 't'}, 'male'),\n",
       " ({'last_letter': 'e', 'first_letter': 'l'}, 'male'),\n",
       " ({'last_letter': 'y', 'first_letter': 't'}, 'female'),\n",
       " ({'last_letter': 'd', 'first_letter': 's'}, 'male'),\n",
       " ({'last_letter': 'e', 'first_letter': 's'}, 'male'),\n",
       " ({'last_letter': 'n', 'first_letter': 't'}, 'female'),\n",
       " ({'last_letter': 'y', 'first_letter': 't'}, 'male'),\n",
       " ({'last_letter': 'y', 'first_letter': 'l'}, 'female'),\n",
       " ({'last_letter': 'a', 'first_letter': 'a'}, 'female'),\n",
       " ({'last_letter': 's', 'first_letter': 'a'}, 'male'),\n",
       " ({'last_letter': 'a', 'first_letter': 'a'}, 'female'),\n",
       " ({'last_letter': 'o', 'first_letter': 'g'}, 'male'),\n",
       " ({'last_letter': 'n', 'first_letter': 'l'}, 'male'),\n",
       " ({'last_letter': 's', 'first_letter': 'm'}, 'male'),\n",
       " ({'last_letter': 'n', 'first_letter': 'g'}, 'male'),\n",
       " ({'last_letter': 'a', 'first_letter': 'm'}, 'female'),\n",
       " ({'last_letter': 'h', 'first_letter': 'h'}, 'male'),\n",
       " ({'last_letter': 'a', 'first_letter': 'g'}, 'female'),\n",
       " ({'last_letter': 't', 'first_letter': 'b'}, 'male'),\n",
       " ({'last_letter': 'a', 'first_letter': 't'}, 'female'),\n",
       " ({'last_letter': 'e', 'first_letter': 'c'}, 'female'),\n",
       " ({'last_letter': 'u', 'first_letter': 'm'}, 'male'),\n",
       " ({'last_letter': 'e', 'first_letter': 'v'}, 'female'),\n",
       " ({'last_letter': 'n', 'first_letter': 'g'}, 'female'),\n",
       " ({'last_letter': 'e', 'first_letter': 'a'}, 'female'),\n",
       " ({'last_letter': 'a', 'first_letter': 'c'}, 'female'),\n",
       " ({'last_letter': 'e', 'first_letter': 'm'}, 'female'),\n",
       " ({'last_letter': 'e', 'first_letter': 'v'}, 'female'),\n",
       " ({'last_letter': 'e', 'first_letter': 'a'}, 'female'),\n",
       " ({'last_letter': 'n', 'first_letter': 'c'}, 'female'),\n",
       " ({'last_letter': 'm', 'first_letter': 'r'}, 'male'),\n",
       " ({'last_letter': 't', 'first_letter': 't'}, 'male'),\n",
       " ({'last_letter': 'y', 'first_letter': 'e'}, 'male'),\n",
       " ({'last_letter': 'i', 'first_letter': 'b'}, 'female'),\n",
       " ({'last_letter': 'a', 'first_letter': 'g'}, 'female'),\n",
       " ({'last_letter': 'o', 'first_letter': 'a'}, 'male'),\n",
       " ({'last_letter': 'e', 'first_letter': 'm'}, 'female'),\n",
       " ({'last_letter': 'a', 'first_letter': 'l'}, 'female'),\n",
       " ({'last_letter': 'a', 'first_letter': 'g'}, 'female'),\n",
       " ({'last_letter': 'a', 'first_letter': 'e'}, 'female'),\n",
       " ({'last_letter': 'a', 'first_letter': 't'}, 'female'),\n",
       " ({'last_letter': 'n', 'first_letter': 'r'}, 'male'),\n",
       " ({'last_letter': 'a', 'first_letter': 'd'}, 'female'),\n",
       " ({'last_letter': 'e', 'first_letter': 'c'}, 'female'),\n",
       " ({'last_letter': 'e', 'first_letter': 'd'}, 'male'),\n",
       " ({'last_letter': 'd', 'first_letter': 'b'}, 'female'),\n",
       " ({'last_letter': 'e', 'first_letter': 'j'}, 'female'),\n",
       " ({'last_letter': 'm', 'first_letter': 't'}, 'male'),\n",
       " ({'last_letter': 'e', 'first_letter': 'n'}, 'female'),\n",
       " ({'last_letter': 'l', 'first_letter': 'h'}, 'male'),\n",
       " ({'last_letter': 'e', 'first_letter': 'b'}, 'male'),\n",
       " ({'last_letter': 'e', 'first_letter': 'c'}, 'female'),\n",
       " ({'last_letter': 'g', 'first_letter': 'o'}, 'male'),\n",
       " ({'last_letter': 'y', 'first_letter': 'c'}, 'female'),\n",
       " ({'last_letter': 'r', 'first_letter': 'f'}, 'male'),\n",
       " ({'last_letter': 'i', 'first_letter': 't'}, 'female'),\n",
       " ({'last_letter': 'a', 'first_letter': 'b'}, 'female'),\n",
       " ({'last_letter': 'y', 'first_letter': 't'}, 'female'),\n",
       " ({'last_letter': 'n', 'first_letter': 'm'}, 'male'),\n",
       " ({'last_letter': 'y', 'first_letter': 'r'}, 'male'),\n",
       " ({'last_letter': 'd', 'first_letter': 's'}, 'female'),\n",
       " ({'last_letter': 'o', 'first_letter': 'g'}, 'male'),\n",
       " ({'last_letter': 'a', 'first_letter': 's'}, 'female'),\n",
       " ({'last_letter': 't', 'first_letter': 'w'}, 'female'),\n",
       " ({'last_letter': 'e', 'first_letter': 'n'}, 'female'),\n",
       " ({'last_letter': 'h', 'first_letter': 'h'}, 'male'),\n",
       " ({'last_letter': 'n', 'first_letter': 'e'}, 'male'),\n",
       " ({'last_letter': 'i', 'first_letter': 's'}, 'female'),\n",
       " ({'last_letter': 'r', 'first_letter': 'i'}, 'male'),\n",
       " ({'last_letter': 'r', 'first_letter': 'e'}, 'female'),\n",
       " ({'last_letter': 'a', 'first_letter': 'z'}, 'female'),\n",
       " ({'last_letter': 'a', 'first_letter': 'k'}, 'female'),\n",
       " ({'last_letter': 'e', 'first_letter': 'm'}, 'female'),\n",
       " ({'last_letter': 'n', 'first_letter': 'n'}, 'male'),\n",
       " ({'last_letter': 'e', 'first_letter': 'd'}, 'female'),\n",
       " ({'last_letter': 'y', 'first_letter': 'r'}, 'female'),\n",
       " ({'last_letter': 'n', 'first_letter': 's'}, 'male'),\n",
       " ({'last_letter': 'd', 'first_letter': 'e'}, 'female'),\n",
       " ({'last_letter': 'e', 'first_letter': 's'}, 'female'),\n",
       " ({'last_letter': 'e', 'first_letter': 'm'}, 'female'),\n",
       " ({'last_letter': 'k', 'first_letter': 's'}, 'male'),\n",
       " ({'last_letter': 'r', 'first_letter': 'k'}, 'male'),\n",
       " ({'last_letter': 'a', 'first_letter': 'r'}, 'female'),\n",
       " ({'last_letter': 's', 'first_letter': 'r'}, 'male'),\n",
       " ({'last_letter': 'e', 'first_letter': 'j'}, 'female'),\n",
       " ({'last_letter': 'i', 'first_letter': 'h'}, 'female'),\n",
       " ({'last_letter': 't', 'first_letter': 'a'}, 'male'),\n",
       " ({'last_letter': 'e', 'first_letter': 'j'}, 'female'),\n",
       " ({'last_letter': 'l', 'first_letter': 'd'}, 'female'),\n",
       " ({'last_letter': 'a', 'first_letter': 's'}, 'female'),\n",
       " ({'last_letter': 't', 'first_letter': 'e'}, 'female'),\n",
       " ({'last_letter': 'e', 'first_letter': 'l'}, 'female'),\n",
       " ({'last_letter': 'e', 'first_letter': 'e'}, 'female'),\n",
       " ({'last_letter': 'y', 'first_letter': 'b'}, 'female'),\n",
       " ({'last_letter': 's', 'first_letter': 'l'}, 'male'),\n",
       " ({'last_letter': 'a', 'first_letter': 'a'}, 'female'),\n",
       " ({'last_letter': 'e', 'first_letter': 'c'}, 'female'),\n",
       " ({'last_letter': 'e', 'first_letter': 'v'}, 'female'),\n",
       " ({'last_letter': 'o', 'first_letter': 'c'}, 'male'),\n",
       " ({'last_letter': 'e', 'first_letter': 't'}, 'male'),\n",
       " ({'last_letter': 'l', 'first_letter': 'p'}, 'male'),\n",
       " ({'last_letter': 'a', 'first_letter': 'l'}, 'female'),\n",
       " ({'last_letter': 'e', 'first_letter': 'c'}, 'female'),\n",
       " ({'last_letter': 'e', 'first_letter': 't'}, 'male'),\n",
       " ({'last_letter': 'e', 'first_letter': 's'}, 'male'),\n",
       " ({'last_letter': 'o', 'first_letter': 'j'}, 'female'),\n",
       " ({'last_letter': 'k', 'first_letter': 'h'}, 'male'),\n",
       " ({'last_letter': 'e', 'first_letter': 'j'}, 'male'),\n",
       " ({'last_letter': 'h', 'first_letter': 'k'}, 'female'),\n",
       " ({'last_letter': 'a', 'first_letter': 'e'}, 'female'),\n",
       " ({'last_letter': 'p', 'first_letter': 'f'}, 'male'),\n",
       " ({'last_letter': 'e', 'first_letter': 'e'}, 'female'),\n",
       " ({'last_letter': 'y', 'first_letter': 'n'}, 'male'),\n",
       " ({'last_letter': 'a', 'first_letter': 'b'}, 'female'),\n",
       " ({'last_letter': 'e', 'first_letter': 'j'}, 'female'),\n",
       " ({'last_letter': 'e', 'first_letter': 's'}, 'male'),\n",
       " ({'last_letter': 'n', 'first_letter': 'j'}, 'female'),\n",
       " ({'last_letter': 'y', 'first_letter': 'd'}, 'male'),\n",
       " ({'last_letter': 'd', 'first_letter': 'r'}, 'male'),\n",
       " ({'last_letter': 'd', 'first_letter': 'r'}, 'male'),\n",
       " ({'last_letter': 'l', 'first_letter': 'k'}, 'female'),\n",
       " ({'last_letter': 'e', 'first_letter': 't'}, 'male'),\n",
       " ({'last_letter': 'e', 'first_letter': 'g'}, 'female'),\n",
       " ({'last_letter': 'a', 'first_letter': 'z'}, 'female'),\n",
       " ({'last_letter': 'a', 'first_letter': 'l'}, 'female'),\n",
       " ({'last_letter': 'a', 'first_letter': 'c'}, 'female'),\n",
       " ({'last_letter': 'e', 'first_letter': 'n'}, 'female'),\n",
       " ({'last_letter': 'n', 'first_letter': 's'}, 'female'),\n",
       " ({'last_letter': 'e', 'first_letter': 'r'}, 'male'),\n",
       " ({'last_letter': 'e', 'first_letter': 'a'}, 'female'),\n",
       " ({'last_letter': 'a', 'first_letter': 'l'}, 'female'),\n",
       " ({'last_letter': 'e', 'first_letter': 's'}, 'male'),\n",
       " ({'last_letter': 'n', 'first_letter': 'j'}, 'female'),\n",
       " ({'last_letter': 'i', 'first_letter': 'g'}, 'female'),\n",
       " ({'last_letter': 'i', 'first_letter': 'c'}, 'female'),\n",
       " ({'last_letter': 'a', 'first_letter': 'e'}, 'female'),\n",
       " ({'last_letter': 'e', 'first_letter': 'b'}, 'female'),\n",
       " ({'last_letter': 'e', 'first_letter': 'a'}, 'female'),\n",
       " ({'last_letter': 'k', 'first_letter': 'b'}, 'male'),\n",
       " ({'last_letter': 's', 'first_letter': 't'}, 'male'),\n",
       " ({'last_letter': 't', 'first_letter': 't'}, 'male'),\n",
       " ({'last_letter': 'd', 'first_letter': 's'}, 'female'),\n",
       " ({'last_letter': 'l', 'first_letter': 'k'}, 'female'),\n",
       " ({'last_letter': 'y', 'first_letter': 'h'}, 'female'),\n",
       " ({'last_letter': 'a', 'first_letter': 'm'}, 'female'),\n",
       " ({'last_letter': 'i', 'first_letter': 'b'}, 'female'),\n",
       " ({'last_letter': 'i', 'first_letter': 'm'}, 'female'),\n",
       " ({'last_letter': 'n', 'first_letter': 'c'}, 'female'),\n",
       " ({'last_letter': 'y', 'first_letter': 'b'}, 'female'),\n",
       " ({'last_letter': 'y', 'first_letter': 'h'}, 'female'),\n",
       " ({'last_letter': 'a', 'first_letter': 'c'}, 'female'),\n",
       " ({'last_letter': 'e', 'first_letter': 'l'}, 'female'),\n",
       " ({'last_letter': 'n', 'first_letter': 's'}, 'female'),\n",
       " ({'last_letter': 'e', 'first_letter': 'f'}, 'female'),\n",
       " ({'last_letter': 'r', 'first_letter': 'r'}, 'male'),\n",
       " ({'last_letter': 'e', 'first_letter': 'r'}, 'female'),\n",
       " ({'last_letter': 'i', 'first_letter': 'k'}, 'female'),\n",
       " ({'last_letter': 'l', 'first_letter': 'm'}, 'female'),\n",
       " ({'last_letter': 'e', 'first_letter': 'r'}, 'female'),\n",
       " ({'last_letter': 'l', 'first_letter': 'a'}, 'male'),\n",
       " ({'last_letter': 'y', 'first_letter': 'm'}, 'female'),\n",
       " ({'last_letter': 'a', 'first_letter': 'e'}, 'female'),\n",
       " ({'last_letter': 'e', 'first_letter': 'c'}, 'female'),\n",
       " ({'last_letter': 'l', 'first_letter': 'k'}, 'male'),\n",
       " ({'last_letter': 'e', 'first_letter': 'a'}, 'female'),\n",
       " ({'last_letter': 'a', 'first_letter': 'd'}, 'female'),\n",
       " ({'last_letter': 'k', 'first_letter': 'e'}, 'male'),\n",
       " ({'last_letter': 'n', 'first_letter': 'm'}, 'male'),\n",
       " ({'last_letter': 'r', 'first_letter': 'f'}, 'male'),\n",
       " ({'last_letter': 'n', 'first_letter': 'h'}, 'male'),\n",
       " ({'last_letter': 'l', 'first_letter': 'm'}, 'female'),\n",
       " ({'last_letter': 'e', 'first_letter': 'j'}, 'female'),\n",
       " ({'last_letter': 'a', 'first_letter': 'r'}, 'female'),\n",
       " ({'last_letter': 'm', 'first_letter': 'm'}, 'female'),\n",
       " ({'last_letter': 'n', 'first_letter': 'm'}, 'male'),\n",
       " ({'last_letter': 'e', 'first_letter': 'l'}, 'female'),\n",
       " ({'last_letter': 'e', 'first_letter': 'r'}, 'female'),\n",
       " ({'last_letter': 'i', 'first_letter': 'b'}, 'female'),\n",
       " ({'last_letter': 'a', 'first_letter': 'k'}, 'female'),\n",
       " ({'last_letter': 'y', 'first_letter': 'a'}, 'female')]"
      ]
     },
     "execution_count": 321,
     "metadata": {},
     "output_type": "execute_result"
    }
   ],
   "source": [
    "dev_test_set"
   ]
  },
  {
   "cell_type": "code",
   "execution_count": 322,
   "metadata": {},
   "outputs": [],
   "source": [
    "errors = []\n",
    "for (name,tag) in dev_test:\n",
    "    guess = classifier_b.classify(gender_features(name))\n",
    "    if guess != tag:\n",
    "        errors.append((tag,guess,name))"
   ]
  },
  {
   "cell_type": "code",
   "execution_count": 323,
   "metadata": {},
   "outputs": [],
   "source": [
    "errors_df = pd.DataFrame(errors).rename(columns={0:'correct', 1:'guess', 2:'name'})"
   ]
  },
  {
   "cell_type": "markdown",
   "metadata": {},
   "source": [
    "Looking at the errors log, we can begin to explore some additional features that may be helpful in improving our model. "
   ]
  },
  {
   "cell_type": "code",
   "execution_count": 324,
   "metadata": {},
   "outputs": [],
   "source": [
    "r2_errors = errors_df.sort_values(by=['correct','name'], ascending=[False,True])"
   ]
  },
  {
   "cell_type": "code",
   "execution_count": 325,
   "metadata": {},
   "outputs": [
    {
     "data": {
      "text/html": [
       "<div>\n",
       "<style scoped>\n",
       "    .dataframe tbody tr th:only-of-type {\n",
       "        vertical-align: middle;\n",
       "    }\n",
       "\n",
       "    .dataframe tbody tr th {\n",
       "        vertical-align: top;\n",
       "    }\n",
       "\n",
       "    .dataframe thead th {\n",
       "        text-align: right;\n",
       "    }\n",
       "</style>\n",
       "<table border=\"1\" class=\"dataframe\">\n",
       "  <thead>\n",
       "    <tr style=\"text-align: right;\">\n",
       "      <th></th>\n",
       "      <th>correct</th>\n",
       "      <th>guess</th>\n",
       "      <th>name</th>\n",
       "    </tr>\n",
       "  </thead>\n",
       "  <tbody>\n",
       "    <tr>\n",
       "      <th>79</th>\n",
       "      <td>male</td>\n",
       "      <td>female</td>\n",
       "      <td>Anatol</td>\n",
       "    </tr>\n",
       "    <tr>\n",
       "      <th>16</th>\n",
       "      <td>male</td>\n",
       "      <td>female</td>\n",
       "      <td>Arnie</td>\n",
       "    </tr>\n",
       "    <tr>\n",
       "      <th>6</th>\n",
       "      <td>male</td>\n",
       "      <td>female</td>\n",
       "      <td>Benjie</td>\n",
       "    </tr>\n",
       "    <tr>\n",
       "      <th>50</th>\n",
       "      <td>male</td>\n",
       "      <td>female</td>\n",
       "      <td>Blare</td>\n",
       "    </tr>\n",
       "    <tr>\n",
       "      <th>21</th>\n",
       "      <td>male</td>\n",
       "      <td>female</td>\n",
       "      <td>Brooke</td>\n",
       "    </tr>\n",
       "  </tbody>\n",
       "</table>\n",
       "</div>"
      ],
      "text/plain": [
       "   correct   guess    name\n",
       "79    male  female  Anatol\n",
       "16    male  female   Arnie\n",
       "6     male  female  Benjie\n",
       "50    male  female   Blare\n",
       "21    male  female  Brooke"
      ]
     },
     "execution_count": 325,
     "metadata": {},
     "output_type": "execute_result"
    }
   ],
   "source": [
    "r2_errors.head()"
   ]
  },
  {
   "cell_type": "markdown",
   "metadata": {},
   "source": [
    "I've decided to try out the combination of the first and last letter as a potential feature. When looking at the errors data frame based on this feature, there are a lot of 0s in the count, suggesting that it may represent a pretty linear decision boundary. Thus, I will incorporate this in the next updates to our feature set function"
   ]
  },
  {
   "cell_type": "code",
   "execution_count": 326,
   "metadata": {},
   "outputs": [],
   "source": [
    "errors_info = [{'first_letter':r2_errors.loc[i,'name'][0].lower(), \\\n",
    "    'first_last':r2_errors.loc[i,'name'][0].lower()+r2_errors.loc[i,'name'][-1:].lower(), \\\n",
    "    'correct':r2_errors.loc[i,'correct'], \\\n",
    "        'guess':r2_errors.loc[i,'guess']} for i in range(len(r2_errors))]"
   ]
  },
  {
   "cell_type": "code",
   "execution_count": 327,
   "metadata": {},
   "outputs": [
    {
     "data": {
      "text/html": [
       "<div>\n",
       "<style scoped>\n",
       "    .dataframe tbody tr th:only-of-type {\n",
       "        vertical-align: middle;\n",
       "    }\n",
       "\n",
       "    .dataframe tbody tr th {\n",
       "        vertical-align: top;\n",
       "    }\n",
       "\n",
       "    .dataframe thead th {\n",
       "        text-align: right;\n",
       "    }\n",
       "</style>\n",
       "<table border=\"1\" class=\"dataframe\">\n",
       "  <thead>\n",
       "    <tr style=\"text-align: right;\">\n",
       "      <th>correct</th>\n",
       "      <th>female</th>\n",
       "      <th>male</th>\n",
       "    </tr>\n",
       "    <tr>\n",
       "      <th>first_last</th>\n",
       "      <th></th>\n",
       "      <th></th>\n",
       "    </tr>\n",
       "  </thead>\n",
       "  <tbody>\n",
       "    <tr>\n",
       "      <th>ae</th>\n",
       "      <td>0</td>\n",
       "      <td>1</td>\n",
       "    </tr>\n",
       "    <tr>\n",
       "      <th>al</th>\n",
       "      <td>0</td>\n",
       "      <td>1</td>\n",
       "    </tr>\n",
       "    <tr>\n",
       "      <th>as</th>\n",
       "      <td>1</td>\n",
       "      <td>0</td>\n",
       "    </tr>\n",
       "    <tr>\n",
       "      <th>bb</th>\n",
       "      <td>1</td>\n",
       "      <td>0</td>\n",
       "    </tr>\n",
       "    <tr>\n",
       "      <th>bd</th>\n",
       "      <td>1</td>\n",
       "      <td>0</td>\n",
       "    </tr>\n",
       "    <tr>\n",
       "      <th>be</th>\n",
       "      <td>0</td>\n",
       "      <td>3</td>\n",
       "    </tr>\n",
       "    <tr>\n",
       "      <th>bn</th>\n",
       "      <td>1</td>\n",
       "      <td>0</td>\n",
       "    </tr>\n",
       "    <tr>\n",
       "      <th>ce</th>\n",
       "      <td>0</td>\n",
       "      <td>2</td>\n",
       "    </tr>\n",
       "    <tr>\n",
       "      <th>co</th>\n",
       "      <td>0</td>\n",
       "      <td>1</td>\n",
       "    </tr>\n",
       "    <tr>\n",
       "      <th>cy</th>\n",
       "      <td>0</td>\n",
       "      <td>1</td>\n",
       "    </tr>\n",
       "    <tr>\n",
       "      <th>de</th>\n",
       "      <td>0</td>\n",
       "      <td>3</td>\n",
       "    </tr>\n",
       "    <tr>\n",
       "      <th>dl</th>\n",
       "      <td>1</td>\n",
       "      <td>0</td>\n",
       "    </tr>\n",
       "    <tr>\n",
       "      <th>dn</th>\n",
       "      <td>1</td>\n",
       "      <td>0</td>\n",
       "    </tr>\n",
       "    <tr>\n",
       "      <th>dy</th>\n",
       "      <td>0</td>\n",
       "      <td>1</td>\n",
       "    </tr>\n",
       "    <tr>\n",
       "      <th>ed</th>\n",
       "      <td>2</td>\n",
       "      <td>0</td>\n",
       "    </tr>\n",
       "    <tr>\n",
       "      <th>ee</th>\n",
       "      <td>0</td>\n",
       "      <td>1</td>\n",
       "    </tr>\n",
       "    <tr>\n",
       "      <th>en</th>\n",
       "      <td>0</td>\n",
       "      <td>2</td>\n",
       "    </tr>\n",
       "    <tr>\n",
       "      <th>er</th>\n",
       "      <td>1</td>\n",
       "      <td>0</td>\n",
       "    </tr>\n",
       "    <tr>\n",
       "      <th>et</th>\n",
       "      <td>1</td>\n",
       "      <td>0</td>\n",
       "    </tr>\n",
       "    <tr>\n",
       "      <th>ey</th>\n",
       "      <td>0</td>\n",
       "      <td>1</td>\n",
       "    </tr>\n",
       "    <tr>\n",
       "      <th>fd</th>\n",
       "      <td>1</td>\n",
       "      <td>0</td>\n",
       "    </tr>\n",
       "    <tr>\n",
       "      <th>fe</th>\n",
       "      <td>0</td>\n",
       "      <td>1</td>\n",
       "    </tr>\n",
       "    <tr>\n",
       "      <th>fp</th>\n",
       "      <td>0</td>\n",
       "      <td>1</td>\n",
       "    </tr>\n",
       "    <tr>\n",
       "      <th>fs</th>\n",
       "      <td>1</td>\n",
       "      <td>0</td>\n",
       "    </tr>\n",
       "    <tr>\n",
       "      <th>gl</th>\n",
       "      <td>0</td>\n",
       "      <td>1</td>\n",
       "    </tr>\n",
       "    <tr>\n",
       "      <th>gn</th>\n",
       "      <td>1</td>\n",
       "      <td>0</td>\n",
       "    </tr>\n",
       "    <tr>\n",
       "      <th>hr</th>\n",
       "      <td>1</td>\n",
       "      <td>0</td>\n",
       "    </tr>\n",
       "    <tr>\n",
       "      <th>hy</th>\n",
       "      <td>2</td>\n",
       "      <td>0</td>\n",
       "    </tr>\n",
       "    <tr>\n",
       "      <th>ig</th>\n",
       "      <td>0</td>\n",
       "      <td>1</td>\n",
       "    </tr>\n",
       "    <tr>\n",
       "      <th>je</th>\n",
       "      <td>0</td>\n",
       "      <td>2</td>\n",
       "    </tr>\n",
       "    <tr>\n",
       "      <th>jo</th>\n",
       "      <td>1</td>\n",
       "      <td>0</td>\n",
       "    </tr>\n",
       "    <tr>\n",
       "      <th>jy</th>\n",
       "      <td>0</td>\n",
       "      <td>1</td>\n",
       "    </tr>\n",
       "    <tr>\n",
       "      <th>kl</th>\n",
       "      <td>0</td>\n",
       "      <td>2</td>\n",
       "    </tr>\n",
       "    <tr>\n",
       "      <th>le</th>\n",
       "      <td>0</td>\n",
       "      <td>2</td>\n",
       "    </tr>\n",
       "    <tr>\n",
       "      <th>ln</th>\n",
       "      <td>1</td>\n",
       "      <td>0</td>\n",
       "    </tr>\n",
       "    <tr>\n",
       "      <th>lu</th>\n",
       "      <td>0</td>\n",
       "      <td>1</td>\n",
       "    </tr>\n",
       "    <tr>\n",
       "      <th>ly</th>\n",
       "      <td>0</td>\n",
       "      <td>1</td>\n",
       "    </tr>\n",
       "    <tr>\n",
       "      <th>ml</th>\n",
       "      <td>2</td>\n",
       "      <td>0</td>\n",
       "    </tr>\n",
       "    <tr>\n",
       "      <th>mm</th>\n",
       "      <td>1</td>\n",
       "      <td>0</td>\n",
       "    </tr>\n",
       "    <tr>\n",
       "      <th>mn</th>\n",
       "      <td>0</td>\n",
       "      <td>3</td>\n",
       "    </tr>\n",
       "    <tr>\n",
       "      <th>mu</th>\n",
       "      <td>0</td>\n",
       "      <td>1</td>\n",
       "    </tr>\n",
       "    <tr>\n",
       "      <th>my</th>\n",
       "      <td>0</td>\n",
       "      <td>2</td>\n",
       "    </tr>\n",
       "    <tr>\n",
       "      <th>ne</th>\n",
       "      <td>0</td>\n",
       "      <td>1</td>\n",
       "    </tr>\n",
       "    <tr>\n",
       "      <th>ny</th>\n",
       "      <td>0</td>\n",
       "      <td>1</td>\n",
       "    </tr>\n",
       "    <tr>\n",
       "      <th>pe</th>\n",
       "      <td>0</td>\n",
       "      <td>1</td>\n",
       "    </tr>\n",
       "    <tr>\n",
       "      <th>re</th>\n",
       "      <td>0</td>\n",
       "      <td>2</td>\n",
       "    </tr>\n",
       "    <tr>\n",
       "      <th>rn</th>\n",
       "      <td>0</td>\n",
       "      <td>1</td>\n",
       "    </tr>\n",
       "    <tr>\n",
       "      <th>ry</th>\n",
       "      <td>1</td>\n",
       "      <td>0</td>\n",
       "    </tr>\n",
       "    <tr>\n",
       "      <th>sd</th>\n",
       "      <td>2</td>\n",
       "      <td>0</td>\n",
       "    </tr>\n",
       "    <tr>\n",
       "      <th>se</th>\n",
       "      <td>0</td>\n",
       "      <td>4</td>\n",
       "    </tr>\n",
       "    <tr>\n",
       "      <th>sn</th>\n",
       "      <td>3</td>\n",
       "      <td>0</td>\n",
       "    </tr>\n",
       "    <tr>\n",
       "      <th>te</th>\n",
       "      <td>0</td>\n",
       "      <td>4</td>\n",
       "    </tr>\n",
       "    <tr>\n",
       "      <th>tl</th>\n",
       "      <td>1</td>\n",
       "      <td>0</td>\n",
       "    </tr>\n",
       "    <tr>\n",
       "      <th>tn</th>\n",
       "      <td>1</td>\n",
       "      <td>0</td>\n",
       "    </tr>\n",
       "    <tr>\n",
       "      <th>ts</th>\n",
       "      <td>1</td>\n",
       "      <td>0</td>\n",
       "    </tr>\n",
       "    <tr>\n",
       "      <th>ty</th>\n",
       "      <td>0</td>\n",
       "      <td>2</td>\n",
       "    </tr>\n",
       "    <tr>\n",
       "      <th>wh</th>\n",
       "      <td>1</td>\n",
       "      <td>0</td>\n",
       "    </tr>\n",
       "    <tr>\n",
       "      <th>wt</th>\n",
       "      <td>1</td>\n",
       "      <td>0</td>\n",
       "    </tr>\n",
       "    <tr>\n",
       "      <th>yi</th>\n",
       "      <td>0</td>\n",
       "      <td>1</td>\n",
       "    </tr>\n",
       "  </tbody>\n",
       "</table>\n",
       "</div>"
      ],
      "text/plain": [
       "correct     female  male\n",
       "first_last              \n",
       "ae               0     1\n",
       "al               0     1\n",
       "as               1     0\n",
       "bb               1     0\n",
       "bd               1     0\n",
       "be               0     3\n",
       "bn               1     0\n",
       "ce               0     2\n",
       "co               0     1\n",
       "cy               0     1\n",
       "de               0     3\n",
       "dl               1     0\n",
       "dn               1     0\n",
       "dy               0     1\n",
       "ed               2     0\n",
       "ee               0     1\n",
       "en               0     2\n",
       "er               1     0\n",
       "et               1     0\n",
       "ey               0     1\n",
       "fd               1     0\n",
       "fe               0     1\n",
       "fp               0     1\n",
       "fs               1     0\n",
       "gl               0     1\n",
       "gn               1     0\n",
       "hr               1     0\n",
       "hy               2     0\n",
       "ig               0     1\n",
       "je               0     2\n",
       "jo               1     0\n",
       "jy               0     1\n",
       "kl               0     2\n",
       "le               0     2\n",
       "ln               1     0\n",
       "lu               0     1\n",
       "ly               0     1\n",
       "ml               2     0\n",
       "mm               1     0\n",
       "mn               0     3\n",
       "mu               0     1\n",
       "my               0     2\n",
       "ne               0     1\n",
       "ny               0     1\n",
       "pe               0     1\n",
       "re               0     2\n",
       "rn               0     1\n",
       "ry               1     0\n",
       "sd               2     0\n",
       "se               0     4\n",
       "sn               3     0\n",
       "te               0     4\n",
       "tl               1     0\n",
       "tn               1     0\n",
       "ts               1     0\n",
       "ty               0     2\n",
       "wh               1     0\n",
       "wt               1     0\n",
       "yi               0     1"
      ]
     },
     "execution_count": 327,
     "metadata": {},
     "output_type": "execute_result"
    }
   ],
   "source": [
    "x = pd.DataFrame(errors_info).sort_values(by='first_letter')\n",
    "pd.crosstab(x['first_last'], x['correct'])"
   ]
  },
  {
   "cell_type": "markdown",
   "metadata": {},
   "source": [
    "##### **3.3 Round 3 - First and Last Letter combination** "
   ]
  },
  {
   "cell_type": "code",
   "execution_count": 328,
   "metadata": {},
   "outputs": [],
   "source": [
    "def gender_features(word):\n",
    "    features = {'last_letter':word[-1], 'first_letter':word[0].lower(), 'first_last':word[0].lower()+word[-1:]}\n",
    "    return features"
   ]
  },
  {
   "cell_type": "code",
   "execution_count": 329,
   "metadata": {},
   "outputs": [],
   "source": [
    "featuresets = [(gender_features(n),g) for (n,g) in names]"
   ]
  },
  {
   "cell_type": "code",
   "execution_count": 330,
   "metadata": {},
   "outputs": [],
   "source": [
    "train_set = [(gender_features(n),g) for (n,g) in train]\n",
    "test_set = [(gender_features(n),g) for (n,g) in test]\n",
    "dev_test_set = [(gender_features(n),g) for (n,g) in dev_test]"
   ]
  },
  {
   "cell_type": "code",
   "execution_count": 331,
   "metadata": {},
   "outputs": [],
   "source": [
    "classifier_a = nltk.NaiveBayesClassifier.train(train_set)\n",
    "classifier_b = nltk.DecisionTreeClassifier.train(train_set)"
   ]
  },
  {
   "cell_type": "markdown",
   "metadata": {},
   "source": [
    "We see that this new feature improved our Naive Bayes classifier from 78.9% to 79.6%, while the Decision Tree Classifier did not improve much."
   ]
  },
  {
   "cell_type": "code",
   "execution_count": 332,
   "metadata": {},
   "outputs": [
    {
     "name": "stdout",
     "output_type": "stream",
     "text": [
      "Naive Bayes Classifier Accuracy: 0.7962466487935657\n",
      "Decision Tree Classifier Accuracy: 0.7962466487935657\n"
     ]
    }
   ],
   "source": [
    "print('Naive Bayes Classifier Accuracy: {}'.format(nltk.classify.accuracy(classifier_a,test_set)))\n",
    "print('Decision Tree Classifier Accuracy: {}'.format(nltk.classify.accuracy(classifier_b,test_set)))"
   ]
  },
  {
   "cell_type": "code",
   "execution_count": 333,
   "metadata": {},
   "outputs": [
    {
     "data": {
      "text/plain": [
       "[({'last_letter': 'a', 'first_letter': 'm', 'first_last': 'ma'}, 'female'),\n",
       " ({'last_letter': 'a', 'first_letter': 'a', 'first_last': 'aa'}, 'female'),\n",
       " ({'last_letter': 'a', 'first_letter': 'e', 'first_last': 'ea'}, 'female'),\n",
       " ({'last_letter': 'e', 'first_letter': 'm', 'first_last': 'me'}, 'female'),\n",
       " ({'last_letter': 't', 'first_letter': 'e', 'first_last': 'et'}, 'male'),\n",
       " ({'last_letter': 'c', 'first_letter': 'f', 'first_last': 'fc'}, 'male'),\n",
       " ({'last_letter': 'e', 'first_letter': 'j', 'first_last': 'je'}, 'female'),\n",
       " ({'last_letter': 'e', 'first_letter': 'r', 'first_last': 're'}, 'female'),\n",
       " ({'last_letter': 'e', 'first_letter': 'f', 'first_last': 'fe'}, 'male'),\n",
       " ({'last_letter': 'y', 'first_letter': 'f', 'first_last': 'fy'}, 'female'),\n",
       " ({'last_letter': 'e', 'first_letter': 'd', 'first_last': 'de'}, 'female'),\n",
       " ({'last_letter': 'a', 'first_letter': 'n', 'first_last': 'na'}, 'female'),\n",
       " ({'last_letter': 'y', 'first_letter': 'a', 'first_last': 'ay'}, 'female'),\n",
       " ({'last_letter': 'n', 'first_letter': 'c', 'first_last': 'cn'}, 'female'),\n",
       " ({'last_letter': 'y', 'first_letter': 'j', 'first_last': 'jy'}, 'male'),\n",
       " ({'last_letter': 'a', 'first_letter': 'r', 'first_last': 'ra'}, 'female'),\n",
       " ({'last_letter': 'n', 'first_letter': 's', 'first_last': 'sn'}, 'male'),\n",
       " ({'last_letter': 'a', 'first_letter': 'm', 'first_last': 'ma'}, 'female'),\n",
       " ({'last_letter': 'n', 'first_letter': 'e', 'first_last': 'en'}, 'male'),\n",
       " ({'last_letter': 'r', 'first_letter': 's', 'first_last': 'sr'}, 'male'),\n",
       " ({'last_letter': 'n', 'first_letter': 'm', 'first_last': 'mn'}, 'female'),\n",
       " ({'last_letter': 'a', 'first_letter': 'f', 'first_last': 'fa'}, 'female'),\n",
       " ({'last_letter': 'a', 'first_letter': 'c', 'first_last': 'ca'}, 'female'),\n",
       " ({'last_letter': 'l', 'first_letter': 't', 'first_last': 'tl'}, 'female'),\n",
       " ({'last_letter': 'a', 'first_letter': 's', 'first_last': 'sa'}, 'female'),\n",
       " ({'last_letter': 'a', 'first_letter': 'n', 'first_last': 'na'}, 'female'),\n",
       " ({'last_letter': 'e', 'first_letter': 'c', 'first_last': 'ce'}, 'male'),\n",
       " ({'last_letter': 'a', 'first_letter': 't', 'first_last': 'ta'}, 'female'),\n",
       " ({'last_letter': 's', 'first_letter': 'm', 'first_last': 'ms'}, 'male'),\n",
       " ({'last_letter': 'i', 'first_letter': 'l', 'first_last': 'li'}, 'female'),\n",
       " ({'last_letter': 'r', 'first_letter': 'f', 'first_last': 'fr'}, 'male'),\n",
       " ({'last_letter': 'e', 'first_letter': 'd', 'first_last': 'de'}, 'female'),\n",
       " ({'last_letter': 'y', 'first_letter': 't', 'first_last': 'ty'}, 'male'),\n",
       " ({'last_letter': 'a', 'first_letter': 'n', 'first_last': 'na'}, 'female'),\n",
       " ({'last_letter': 'o', 'first_letter': 'a', 'first_last': 'ao'}, 'male'),\n",
       " ({'last_letter': 'e', 'first_letter': 'b', 'first_last': 'be'}, 'male'),\n",
       " ({'last_letter': 'e', 'first_letter': 'e', 'first_last': 'ee'}, 'female'),\n",
       " ({'last_letter': 'e', 'first_letter': 'm', 'first_last': 'me'}, 'female'),\n",
       " ({'last_letter': 's', 'first_letter': 'a', 'first_last': 'as'}, 'female'),\n",
       " ({'last_letter': 'l', 'first_letter': 'g', 'first_last': 'gl'}, 'female'),\n",
       " ({'last_letter': 'l', 'first_letter': 's', 'first_last': 'sl'}, 'female'),\n",
       " ({'last_letter': 'e', 'first_letter': 'h', 'first_last': 'he'}, 'female'),\n",
       " ({'last_letter': 'a', 'first_letter': 'g', 'first_last': 'ga'}, 'female'),\n",
       " ({'last_letter': 'e', 'first_letter': 'z', 'first_last': 'ze'}, 'male'),\n",
       " ({'last_letter': 'a', 'first_letter': 'i', 'first_last': 'ia'}, 'female'),\n",
       " ({'last_letter': 'n', 'first_letter': 'h', 'first_last': 'hn'}, 'male'),\n",
       " ({'last_letter': 'y', 'first_letter': 'l', 'first_last': 'ly'}, 'female'),\n",
       " ({'last_letter': 'a', 'first_letter': 'j', 'first_last': 'ja'}, 'female'),\n",
       " ({'last_letter': 'a', 'first_letter': 'e', 'first_last': 'ea'}, 'female'),\n",
       " ({'last_letter': 'a', 'first_letter': 'l', 'first_last': 'la'}, 'female'),\n",
       " ({'last_letter': 'k', 'first_letter': 'k', 'first_last': 'kk'}, 'male'),\n",
       " ({'last_letter': 'a', 'first_letter': 'm', 'first_last': 'ma'}, 'female'),\n",
       " ({'last_letter': 'n', 'first_letter': 'j', 'first_last': 'jn'}, 'female'),\n",
       " ({'last_letter': 'e', 'first_letter': 'e', 'first_last': 'ee'}, 'female'),\n",
       " ({'last_letter': 'e', 'first_letter': 'b', 'first_last': 'be'}, 'female'),\n",
       " ({'last_letter': 'l', 'first_letter': 'o', 'first_last': 'ol'}, 'male'),\n",
       " ({'last_letter': 'e', 'first_letter': 's', 'first_last': 'se'}, 'female'),\n",
       " ({'last_letter': 'e', 'first_letter': 'f', 'first_last': 'fe'}, 'female'),\n",
       " ({'last_letter': 'e', 'first_letter': 'e', 'first_last': 'ee'}, 'female'),\n",
       " ({'last_letter': 'l', 'first_letter': 'k', 'first_last': 'kl'}, 'male'),\n",
       " ({'last_letter': 'n', 'first_letter': 'j', 'first_last': 'jn'}, 'female'),\n",
       " ({'last_letter': 'n', 'first_letter': 'u', 'first_last': 'un'}, 'male'),\n",
       " ({'last_letter': 'e', 'first_letter': 'a', 'first_last': 'ae'}, 'female'),\n",
       " ({'last_letter': 'e', 'first_letter': 'l', 'first_last': 'le'}, 'female'),\n",
       " ({'last_letter': 'i', 'first_letter': 'k', 'first_last': 'ki'}, 'female'),\n",
       " ({'last_letter': 'n', 'first_letter': 'd', 'first_last': 'dn'}, 'male'),\n",
       " ({'last_letter': 'e', 'first_letter': 'y', 'first_last': 'ye'}, 'female'),\n",
       " ({'last_letter': 'a', 'first_letter': 'f', 'first_last': 'fa'}, 'female'),\n",
       " ({'last_letter': 'e', 'first_letter': 'g', 'first_last': 'ge'}, 'female'),\n",
       " ({'last_letter': 'e', 'first_letter': 'e', 'first_last': 'ee'}, 'female'),\n",
       " ({'last_letter': 'e', 'first_letter': 'j', 'first_last': 'je'}, 'female'),\n",
       " ({'last_letter': 'a', 'first_letter': 't', 'first_last': 'ta'}, 'female'),\n",
       " ({'last_letter': 'e', 'first_letter': 'm', 'first_last': 'me'}, 'female'),\n",
       " ({'last_letter': 'n', 'first_letter': 'k', 'first_last': 'kn'}, 'female'),\n",
       " ({'last_letter': 'a', 'first_letter': 'a', 'first_last': 'aa'}, 'female'),\n",
       " ({'last_letter': 'y', 'first_letter': 'm', 'first_last': 'my'}, 'female'),\n",
       " ({'last_letter': 'b', 'first_letter': 'b', 'first_last': 'bb'}, 'female'),\n",
       " ({'last_letter': 'a', 'first_letter': 'a', 'first_last': 'aa'}, 'female'),\n",
       " ({'last_letter': 'a', 'first_letter': 'j', 'first_last': 'ja'}, 'female'),\n",
       " ({'last_letter': 'n', 'first_letter': 't', 'first_last': 'tn'}, 'male'),\n",
       " ({'last_letter': 'o', 'first_letter': 'g', 'first_last': 'go'}, 'male'),\n",
       " ({'last_letter': 'e', 'first_letter': 'a', 'first_last': 'ae'}, 'female'),\n",
       " ({'last_letter': 'e', 'first_letter': 'e', 'first_last': 'ee'}, 'male'),\n",
       " ({'last_letter': 'd', 'first_letter': 'o', 'first_last': 'od'}, 'male'),\n",
       " ({'last_letter': 'n', 'first_letter': 'r', 'first_last': 'rn'}, 'female'),\n",
       " ({'last_letter': 'n', 'first_letter': 'b', 'first_last': 'bn'}, 'female'),\n",
       " ({'last_letter': 'n', 'first_letter': 'd', 'first_last': 'dn'}, 'male'),\n",
       " ({'last_letter': 's', 'first_letter': 't', 'first_last': 'ts'}, 'female'),\n",
       " ({'last_letter': 'y', 'first_letter': 'm', 'first_last': 'my'}, 'male'),\n",
       " ({'last_letter': 'a', 'first_letter': 'c', 'first_last': 'ca'}, 'female'),\n",
       " ({'last_letter': 'c', 'first_letter': 'j', 'first_last': 'jc'}, 'male'),\n",
       " ({'last_letter': 'n', 'first_letter': 'o', 'first_last': 'on'}, 'male'),\n",
       " ({'last_letter': 'e', 'first_letter': 'l', 'first_last': 'le'}, 'male'),\n",
       " ({'last_letter': 'e', 'first_letter': 's', 'first_last': 'se'}, 'female'),\n",
       " ({'last_letter': 'e', 'first_letter': 'o', 'first_last': 'oe'}, 'female'),\n",
       " ({'last_letter': 'n', 'first_letter': 'o', 'first_last': 'on'}, 'male'),\n",
       " ({'last_letter': 'i', 'first_letter': 'p', 'first_last': 'pi'}, 'female'),\n",
       " ({'last_letter': 'e', 'first_letter': 'd', 'first_last': 'de'}, 'female'),\n",
       " ({'last_letter': 'i', 'first_letter': 'a', 'first_last': 'ai'}, 'female'),\n",
       " ({'last_letter': 'l', 'first_letter': 'g', 'first_last': 'gl'}, 'male'),\n",
       " ({'last_letter': 'e', 'first_letter': 'a', 'first_last': 'ae'}, 'male'),\n",
       " ({'last_letter': 'e', 'first_letter': 'p', 'first_last': 'pe'}, 'male'),\n",
       " ({'last_letter': 'e', 'first_letter': 'd', 'first_last': 'de'}, 'male'),\n",
       " ({'last_letter': 'e', 'first_letter': 'b', 'first_last': 'be'}, 'female'),\n",
       " ({'last_letter': 'e', 'first_letter': 'a', 'first_last': 'ae'}, 'female'),\n",
       " ({'last_letter': 'e', 'first_letter': 'r', 'first_last': 're'}, 'female'),\n",
       " ({'last_letter': 'n', 'first_letter': 'd', 'first_last': 'dn'}, 'male'),\n",
       " ({'last_letter': 'e', 'first_letter': 'v', 'first_last': 've'}, 'female'),\n",
       " ({'last_letter': 'f', 'first_letter': 'l', 'first_last': 'lf'}, 'male'),\n",
       " ({'last_letter': 'a', 'first_letter': 'a', 'first_last': 'aa'}, 'female'),\n",
       " ({'last_letter': 's', 'first_letter': 'a', 'first_last': 'as'}, 'male'),\n",
       " ({'last_letter': 'u', 'first_letter': 'l', 'first_last': 'lu'}, 'male'),\n",
       " ({'last_letter': 'a', 'first_letter': 'm', 'first_last': 'ma'}, 'female'),\n",
       " ({'last_letter': 'e', 'first_letter': 'e', 'first_last': 'ee'}, 'female'),\n",
       " ({'last_letter': 's', 'first_letter': 'm', 'first_last': 'ms'}, 'male'),\n",
       " ({'last_letter': 'd', 'first_letter': 'e', 'first_last': 'ed'}, 'female'),\n",
       " ({'last_letter': 'a', 'first_letter': 'e', 'first_last': 'ea'}, 'female'),\n",
       " ({'last_letter': 'l', 'first_letter': 'a', 'first_last': 'al'}, 'female'),\n",
       " ({'last_letter': 'a', 'first_letter': 'm', 'first_last': 'ma'}, 'female'),\n",
       " ({'last_letter': 'e', 'first_letter': 'j', 'first_last': 'je'}, 'female'),\n",
       " ({'last_letter': 'e', 'first_letter': 'b', 'first_last': 'be'}, 'male'),\n",
       " ({'last_letter': 's', 'first_letter': 'b', 'first_last': 'bs'}, 'male'),\n",
       " ({'last_letter': 'y', 'first_letter': 'd', 'first_last': 'dy'}, 'female'),\n",
       " ({'last_letter': 'a', 'first_letter': 't', 'first_last': 'ta'}, 'female'),\n",
       " ({'last_letter': 'e', 'first_letter': 'k', 'first_last': 'ke'}, 'female'),\n",
       " ({'last_letter': 'a', 'first_letter': 'z', 'first_last': 'za'}, 'female'),\n",
       " ({'last_letter': 'e', 'first_letter': 'h', 'first_last': 'he'}, 'female'),\n",
       " ({'last_letter': 'e', 'first_letter': 's', 'first_last': 'se'}, 'female'),\n",
       " ({'last_letter': 'o', 'first_letter': 'l', 'first_last': 'lo'}, 'male'),\n",
       " ({'last_letter': 'e', 'first_letter': 'n', 'first_last': 'ne'}, 'male'),\n",
       " ({'last_letter': 'e', 'first_letter': 'd', 'first_last': 'de'}, 'male'),\n",
       " ({'last_letter': 't', 'first_letter': 's', 'first_last': 'st'}, 'male'),\n",
       " ({'last_letter': 'i', 'first_letter': 'l', 'first_last': 'li'}, 'female'),\n",
       " ({'last_letter': 'a', 'first_letter': 'g', 'first_last': 'ga'}, 'female'),\n",
       " ({'last_letter': 'a', 'first_letter': 'k', 'first_last': 'ka'}, 'female'),\n",
       " ({'last_letter': 'e', 'first_letter': 'j', 'first_last': 'je'}, 'female'),\n",
       " ({'last_letter': 'r', 'first_letter': 'h', 'first_last': 'hr'}, 'female'),\n",
       " ({'last_letter': 'e', 'first_letter': 'f', 'first_last': 'fe'}, 'female'),\n",
       " ({'last_letter': 'e', 'first_letter': 'm', 'first_last': 'me'}, 'female'),\n",
       " ({'last_letter': 't', 'first_letter': 'b', 'first_last': 'bt'}, 'male'),\n",
       " ({'last_letter': 'n', 'first_letter': 'd', 'first_last': 'dn'}, 'female'),\n",
       " ({'last_letter': 'g', 'first_letter': 'i', 'first_last': 'ig'}, 'male'),\n",
       " ({'last_letter': 'a', 'first_letter': 'l', 'first_last': 'la'}, 'female'),\n",
       " ({'last_letter': 'e', 'first_letter': 'k', 'first_last': 'ke'}, 'female'),\n",
       " ({'last_letter': 'n', 'first_letter': 'l', 'first_last': 'ln'}, 'female'),\n",
       " ({'last_letter': 'm', 'first_letter': 'l', 'first_last': 'lm'}, 'male'),\n",
       " ({'last_letter': 'i', 'first_letter': 'h', 'first_last': 'hi'}, 'female'),\n",
       " ({'last_letter': 'd', 'first_letter': 'f', 'first_last': 'fd'}, 'female'),\n",
       " ({'last_letter': 'e', 'first_letter': 'h', 'first_last': 'he'}, 'female'),\n",
       " ({'last_letter': 'a', 'first_letter': 'n', 'first_last': 'na'}, 'female'),\n",
       " ({'last_letter': 'y', 'first_letter': 'c', 'first_last': 'cy'}, 'male'),\n",
       " ({'last_letter': 'e', 'first_letter': 'j', 'first_last': 'je'}, 'male'),\n",
       " ({'last_letter': 'a', 'first_letter': 'm', 'first_last': 'ma'}, 'female'),\n",
       " ({'last_letter': 'n', 'first_letter': 'a', 'first_last': 'an'}, 'male'),\n",
       " ({'last_letter': 's', 'first_letter': 'f', 'first_last': 'fs'}, 'female'),\n",
       " ({'last_letter': 'a', 'first_letter': 'p', 'first_last': 'pa'}, 'female'),\n",
       " ({'last_letter': 'y', 'first_letter': 'c', 'first_last': 'cy'}, 'female'),\n",
       " ({'last_letter': 'a', 'first_letter': 'b', 'first_last': 'ba'}, 'female'),\n",
       " ({'last_letter': 'a', 'first_letter': 'l', 'first_last': 'la'}, 'female'),\n",
       " ({'last_letter': 'i', 'first_letter': 'y', 'first_last': 'yi'}, 'male'),\n",
       " ({'last_letter': 'a', 'first_letter': 'l', 'first_last': 'la'}, 'female'),\n",
       " ({'last_letter': 'a', 'first_letter': 'm', 'first_last': 'ma'}, 'female'),\n",
       " ({'last_letter': 'e', 'first_letter': 'c', 'first_last': 'ce'}, 'male'),\n",
       " ({'last_letter': 'a', 'first_letter': 'c', 'first_last': 'ca'}, 'female'),\n",
       " ({'last_letter': 'a', 'first_letter': 'd', 'first_last': 'da'}, 'female'),\n",
       " ({'last_letter': 't', 'first_letter': 't', 'first_last': 'tt'}, 'male'),\n",
       " ({'last_letter': 'l', 'first_letter': 't', 'first_last': 'tl'}, 'male'),\n",
       " ({'last_letter': 'e', 'first_letter': 'r', 'first_last': 're'}, 'male'),\n",
       " ({'last_letter': 'a', 'first_letter': 'f', 'first_last': 'fa'}, 'female'),\n",
       " ({'last_letter': 'a', 'first_letter': 'p', 'first_last': 'pa'}, 'female'),\n",
       " ({'last_letter': 'a', 'first_letter': 'g', 'first_last': 'ga'}, 'female'),\n",
       " ({'last_letter': 'i', 'first_letter': 'j', 'first_last': 'ji'}, 'female'),\n",
       " ({'last_letter': 'e', 'first_letter': 'm', 'first_last': 'me'}, 'female'),\n",
       " ({'last_letter': 'e', 'first_letter': 's', 'first_last': 'se'}, 'female'),\n",
       " ({'last_letter': 'e', 'first_letter': 'd', 'first_last': 'de'}, 'female'),\n",
       " ({'last_letter': 'a', 'first_letter': 'd', 'first_last': 'da'}, 'female'),\n",
       " ({'last_letter': 'r', 'first_letter': 'c', 'first_last': 'cr'}, 'male'),\n",
       " ({'last_letter': 'n', 'first_letter': 'b', 'first_last': 'bn'}, 'male'),\n",
       " ({'last_letter': 'o', 'first_letter': 'm', 'first_last': 'mo'}, 'male'),\n",
       " ({'last_letter': 'h', 'first_letter': 'w', 'first_last': 'wh'}, 'female'),\n",
       " ({'last_letter': 'n', 'first_letter': 'k', 'first_last': 'kn'}, 'female'),\n",
       " ({'last_letter': 'r', 'first_letter': 's', 'first_last': 'sr'}, 'male'),\n",
       " ({'last_letter': 'e', 'first_letter': 'r', 'first_last': 're'}, 'female'),\n",
       " ({'last_letter': 'n', 'first_letter': 's', 'first_last': 'sn'}, 'female'),\n",
       " ({'last_letter': 'o', 'first_letter': 'a', 'first_last': 'ao'}, 'male'),\n",
       " ({'last_letter': 'y', 'first_letter': 'c', 'first_last': 'cy'}, 'female'),\n",
       " ({'last_letter': 'b', 'first_letter': 'r', 'first_last': 'rb'}, 'male'),\n",
       " ({'last_letter': 'd', 'first_letter': 'r', 'first_last': 'rd'}, 'male'),\n",
       " ({'last_letter': 'a', 'first_letter': 'c', 'first_last': 'ca'}, 'female'),\n",
       " ({'last_letter': 'a', 'first_letter': 'r', 'first_last': 'ra'}, 'female'),\n",
       " ({'last_letter': 'a', 'first_letter': 'f', 'first_last': 'fa'}, 'female'),\n",
       " ({'last_letter': 'y', 'first_letter': 'l', 'first_last': 'ly'}, 'male'),\n",
       " ({'last_letter': 'y', 'first_letter': 'm', 'first_last': 'my'}, 'male'),\n",
       " ({'last_letter': 'e', 'first_letter': 't', 'first_last': 'te'}, 'male'),\n",
       " ({'last_letter': 'e', 'first_letter': 'l', 'first_last': 'le'}, 'male'),\n",
       " ({'last_letter': 'y', 'first_letter': 't', 'first_last': 'ty'}, 'female'),\n",
       " ({'last_letter': 'd', 'first_letter': 's', 'first_last': 'sd'}, 'male'),\n",
       " ({'last_letter': 'e', 'first_letter': 's', 'first_last': 'se'}, 'male'),\n",
       " ({'last_letter': 'n', 'first_letter': 't', 'first_last': 'tn'}, 'female'),\n",
       " ({'last_letter': 'y', 'first_letter': 't', 'first_last': 'ty'}, 'male'),\n",
       " ({'last_letter': 'y', 'first_letter': 'l', 'first_last': 'ly'}, 'female'),\n",
       " ({'last_letter': 'a', 'first_letter': 'a', 'first_last': 'aa'}, 'female'),\n",
       " ({'last_letter': 's', 'first_letter': 'a', 'first_last': 'as'}, 'male'),\n",
       " ({'last_letter': 'a', 'first_letter': 'a', 'first_last': 'aa'}, 'female'),\n",
       " ({'last_letter': 'o', 'first_letter': 'g', 'first_last': 'go'}, 'male'),\n",
       " ({'last_letter': 'n', 'first_letter': 'l', 'first_last': 'ln'}, 'male'),\n",
       " ({'last_letter': 's', 'first_letter': 'm', 'first_last': 'ms'}, 'male'),\n",
       " ({'last_letter': 'n', 'first_letter': 'g', 'first_last': 'gn'}, 'male'),\n",
       " ({'last_letter': 'a', 'first_letter': 'm', 'first_last': 'ma'}, 'female'),\n",
       " ({'last_letter': 'h', 'first_letter': 'h', 'first_last': 'hh'}, 'male'),\n",
       " ({'last_letter': 'a', 'first_letter': 'g', 'first_last': 'ga'}, 'female'),\n",
       " ({'last_letter': 't', 'first_letter': 'b', 'first_last': 'bt'}, 'male'),\n",
       " ({'last_letter': 'a', 'first_letter': 't', 'first_last': 'ta'}, 'female'),\n",
       " ({'last_letter': 'e', 'first_letter': 'c', 'first_last': 'ce'}, 'female'),\n",
       " ({'last_letter': 'u', 'first_letter': 'm', 'first_last': 'mu'}, 'male'),\n",
       " ({'last_letter': 'e', 'first_letter': 'v', 'first_last': 've'}, 'female'),\n",
       " ({'last_letter': 'n', 'first_letter': 'g', 'first_last': 'gn'}, 'female'),\n",
       " ({'last_letter': 'e', 'first_letter': 'a', 'first_last': 'ae'}, 'female'),\n",
       " ({'last_letter': 'a', 'first_letter': 'c', 'first_last': 'ca'}, 'female'),\n",
       " ({'last_letter': 'e', 'first_letter': 'm', 'first_last': 'me'}, 'female'),\n",
       " ({'last_letter': 'e', 'first_letter': 'v', 'first_last': 've'}, 'female'),\n",
       " ({'last_letter': 'e', 'first_letter': 'a', 'first_last': 'ae'}, 'female'),\n",
       " ({'last_letter': 'n', 'first_letter': 'c', 'first_last': 'cn'}, 'female'),\n",
       " ({'last_letter': 'm', 'first_letter': 'r', 'first_last': 'rm'}, 'male'),\n",
       " ({'last_letter': 't', 'first_letter': 't', 'first_last': 'tt'}, 'male'),\n",
       " ({'last_letter': 'y', 'first_letter': 'e', 'first_last': 'ey'}, 'male'),\n",
       " ({'last_letter': 'i', 'first_letter': 'b', 'first_last': 'bi'}, 'female'),\n",
       " ({'last_letter': 'a', 'first_letter': 'g', 'first_last': 'ga'}, 'female'),\n",
       " ({'last_letter': 'o', 'first_letter': 'a', 'first_last': 'ao'}, 'male'),\n",
       " ({'last_letter': 'e', 'first_letter': 'm', 'first_last': 'me'}, 'female'),\n",
       " ({'last_letter': 'a', 'first_letter': 'l', 'first_last': 'la'}, 'female'),\n",
       " ({'last_letter': 'a', 'first_letter': 'g', 'first_last': 'ga'}, 'female'),\n",
       " ({'last_letter': 'a', 'first_letter': 'e', 'first_last': 'ea'}, 'female'),\n",
       " ({'last_letter': 'a', 'first_letter': 't', 'first_last': 'ta'}, 'female'),\n",
       " ({'last_letter': 'n', 'first_letter': 'r', 'first_last': 'rn'}, 'male'),\n",
       " ({'last_letter': 'a', 'first_letter': 'd', 'first_last': 'da'}, 'female'),\n",
       " ({'last_letter': 'e', 'first_letter': 'c', 'first_last': 'ce'}, 'female'),\n",
       " ({'last_letter': 'e', 'first_letter': 'd', 'first_last': 'de'}, 'male'),\n",
       " ({'last_letter': 'd', 'first_letter': 'b', 'first_last': 'bd'}, 'female'),\n",
       " ({'last_letter': 'e', 'first_letter': 'j', 'first_last': 'je'}, 'female'),\n",
       " ({'last_letter': 'm', 'first_letter': 't', 'first_last': 'tm'}, 'male'),\n",
       " ({'last_letter': 'e', 'first_letter': 'n', 'first_last': 'ne'}, 'female'),\n",
       " ({'last_letter': 'l', 'first_letter': 'h', 'first_last': 'hl'}, 'male'),\n",
       " ({'last_letter': 'e', 'first_letter': 'b', 'first_last': 'be'}, 'male'),\n",
       " ({'last_letter': 'e', 'first_letter': 'c', 'first_last': 'ce'}, 'female'),\n",
       " ({'last_letter': 'g', 'first_letter': 'o', 'first_last': 'og'}, 'male'),\n",
       " ({'last_letter': 'y', 'first_letter': 'c', 'first_last': 'cy'}, 'female'),\n",
       " ({'last_letter': 'r', 'first_letter': 'f', 'first_last': 'fr'}, 'male'),\n",
       " ({'last_letter': 'i', 'first_letter': 't', 'first_last': 'ti'}, 'female'),\n",
       " ({'last_letter': 'a', 'first_letter': 'b', 'first_last': 'ba'}, 'female'),\n",
       " ({'last_letter': 'y', 'first_letter': 't', 'first_last': 'ty'}, 'female'),\n",
       " ({'last_letter': 'n', 'first_letter': 'm', 'first_last': 'mn'}, 'male'),\n",
       " ({'last_letter': 'y', 'first_letter': 'r', 'first_last': 'ry'}, 'male'),\n",
       " ({'last_letter': 'd', 'first_letter': 's', 'first_last': 'sd'}, 'female'),\n",
       " ({'last_letter': 'o', 'first_letter': 'g', 'first_last': 'go'}, 'male'),\n",
       " ({'last_letter': 'a', 'first_letter': 's', 'first_last': 'sa'}, 'female'),\n",
       " ({'last_letter': 't', 'first_letter': 'w', 'first_last': 'wt'}, 'female'),\n",
       " ({'last_letter': 'e', 'first_letter': 'n', 'first_last': 'ne'}, 'female'),\n",
       " ({'last_letter': 'h', 'first_letter': 'h', 'first_last': 'hh'}, 'male'),\n",
       " ({'last_letter': 'n', 'first_letter': 'e', 'first_last': 'en'}, 'male'),\n",
       " ({'last_letter': 'i', 'first_letter': 's', 'first_last': 'si'}, 'female'),\n",
       " ({'last_letter': 'r', 'first_letter': 'i', 'first_last': 'ir'}, 'male'),\n",
       " ({'last_letter': 'r', 'first_letter': 'e', 'first_last': 'er'}, 'female'),\n",
       " ({'last_letter': 'a', 'first_letter': 'z', 'first_last': 'za'}, 'female'),\n",
       " ({'last_letter': 'a', 'first_letter': 'k', 'first_last': 'ka'}, 'female'),\n",
       " ({'last_letter': 'e', 'first_letter': 'm', 'first_last': 'me'}, 'female'),\n",
       " ({'last_letter': 'n', 'first_letter': 'n', 'first_last': 'nn'}, 'male'),\n",
       " ({'last_letter': 'e', 'first_letter': 'd', 'first_last': 'de'}, 'female'),\n",
       " ({'last_letter': 'y', 'first_letter': 'r', 'first_last': 'ry'}, 'female'),\n",
       " ({'last_letter': 'n', 'first_letter': 's', 'first_last': 'sn'}, 'male'),\n",
       " ({'last_letter': 'd', 'first_letter': 'e', 'first_last': 'ed'}, 'female'),\n",
       " ({'last_letter': 'e', 'first_letter': 's', 'first_last': 'se'}, 'female'),\n",
       " ({'last_letter': 'e', 'first_letter': 'm', 'first_last': 'me'}, 'female'),\n",
       " ({'last_letter': 'k', 'first_letter': 's', 'first_last': 'sk'}, 'male'),\n",
       " ({'last_letter': 'r', 'first_letter': 'k', 'first_last': 'kr'}, 'male'),\n",
       " ({'last_letter': 'a', 'first_letter': 'r', 'first_last': 'ra'}, 'female'),\n",
       " ({'last_letter': 's', 'first_letter': 'r', 'first_last': 'rs'}, 'male'),\n",
       " ({'last_letter': 'e', 'first_letter': 'j', 'first_last': 'je'}, 'female'),\n",
       " ({'last_letter': 'i', 'first_letter': 'h', 'first_last': 'hi'}, 'female'),\n",
       " ({'last_letter': 't', 'first_letter': 'a', 'first_last': 'at'}, 'male'),\n",
       " ({'last_letter': 'e', 'first_letter': 'j', 'first_last': 'je'}, 'female'),\n",
       " ({'last_letter': 'l', 'first_letter': 'd', 'first_last': 'dl'}, 'female'),\n",
       " ({'last_letter': 'a', 'first_letter': 's', 'first_last': 'sa'}, 'female'),\n",
       " ({'last_letter': 't', 'first_letter': 'e', 'first_last': 'et'}, 'female'),\n",
       " ({'last_letter': 'e', 'first_letter': 'l', 'first_last': 'le'}, 'female'),\n",
       " ({'last_letter': 'e', 'first_letter': 'e', 'first_last': 'ee'}, 'female'),\n",
       " ({'last_letter': 'y', 'first_letter': 'b', 'first_last': 'by'}, 'female'),\n",
       " ({'last_letter': 's', 'first_letter': 'l', 'first_last': 'ls'}, 'male'),\n",
       " ({'last_letter': 'a', 'first_letter': 'a', 'first_last': 'aa'}, 'female'),\n",
       " ({'last_letter': 'e', 'first_letter': 'c', 'first_last': 'ce'}, 'female'),\n",
       " ({'last_letter': 'e', 'first_letter': 'v', 'first_last': 've'}, 'female'),\n",
       " ({'last_letter': 'o', 'first_letter': 'c', 'first_last': 'co'}, 'male'),\n",
       " ({'last_letter': 'e', 'first_letter': 't', 'first_last': 'te'}, 'male'),\n",
       " ({'last_letter': 'l', 'first_letter': 'p', 'first_last': 'pl'}, 'male'),\n",
       " ({'last_letter': 'a', 'first_letter': 'l', 'first_last': 'la'}, 'female'),\n",
       " ({'last_letter': 'e', 'first_letter': 'c', 'first_last': 'ce'}, 'female'),\n",
       " ({'last_letter': 'e', 'first_letter': 't', 'first_last': 'te'}, 'male'),\n",
       " ({'last_letter': 'e', 'first_letter': 's', 'first_last': 'se'}, 'male'),\n",
       " ({'last_letter': 'o', 'first_letter': 'j', 'first_last': 'jo'}, 'female'),\n",
       " ({'last_letter': 'k', 'first_letter': 'h', 'first_last': 'hk'}, 'male'),\n",
       " ({'last_letter': 'e', 'first_letter': 'j', 'first_last': 'je'}, 'male'),\n",
       " ({'last_letter': 'h', 'first_letter': 'k', 'first_last': 'kh'}, 'female'),\n",
       " ({'last_letter': 'a', 'first_letter': 'e', 'first_last': 'ea'}, 'female'),\n",
       " ({'last_letter': 'p', 'first_letter': 'f', 'first_last': 'fp'}, 'male'),\n",
       " ({'last_letter': 'e', 'first_letter': 'e', 'first_last': 'ee'}, 'female'),\n",
       " ({'last_letter': 'y', 'first_letter': 'n', 'first_last': 'ny'}, 'male'),\n",
       " ({'last_letter': 'a', 'first_letter': 'b', 'first_last': 'ba'}, 'female'),\n",
       " ({'last_letter': 'e', 'first_letter': 'j', 'first_last': 'je'}, 'female'),\n",
       " ({'last_letter': 'e', 'first_letter': 's', 'first_last': 'se'}, 'male'),\n",
       " ({'last_letter': 'n', 'first_letter': 'j', 'first_last': 'jn'}, 'female'),\n",
       " ({'last_letter': 'y', 'first_letter': 'd', 'first_last': 'dy'}, 'male'),\n",
       " ({'last_letter': 'd', 'first_letter': 'r', 'first_last': 'rd'}, 'male'),\n",
       " ({'last_letter': 'd', 'first_letter': 'r', 'first_last': 'rd'}, 'male'),\n",
       " ({'last_letter': 'l', 'first_letter': 'k', 'first_last': 'kl'}, 'female'),\n",
       " ({'last_letter': 'e', 'first_letter': 't', 'first_last': 'te'}, 'male'),\n",
       " ({'last_letter': 'e', 'first_letter': 'g', 'first_last': 'ge'}, 'female'),\n",
       " ({'last_letter': 'a', 'first_letter': 'z', 'first_last': 'za'}, 'female'),\n",
       " ({'last_letter': 'a', 'first_letter': 'l', 'first_last': 'la'}, 'female'),\n",
       " ({'last_letter': 'a', 'first_letter': 'c', 'first_last': 'ca'}, 'female'),\n",
       " ({'last_letter': 'e', 'first_letter': 'n', 'first_last': 'ne'}, 'female'),\n",
       " ({'last_letter': 'n', 'first_letter': 's', 'first_last': 'sn'}, 'female'),\n",
       " ({'last_letter': 'e', 'first_letter': 'r', 'first_last': 're'}, 'male'),\n",
       " ({'last_letter': 'e', 'first_letter': 'a', 'first_last': 'ae'}, 'female'),\n",
       " ({'last_letter': 'a', 'first_letter': 'l', 'first_last': 'la'}, 'female'),\n",
       " ({'last_letter': 'e', 'first_letter': 's', 'first_last': 'se'}, 'male'),\n",
       " ({'last_letter': 'n', 'first_letter': 'j', 'first_last': 'jn'}, 'female'),\n",
       " ({'last_letter': 'i', 'first_letter': 'g', 'first_last': 'gi'}, 'female'),\n",
       " ({'last_letter': 'i', 'first_letter': 'c', 'first_last': 'ci'}, 'female'),\n",
       " ({'last_letter': 'a', 'first_letter': 'e', 'first_last': 'ea'}, 'female'),\n",
       " ({'last_letter': 'e', 'first_letter': 'b', 'first_last': 'be'}, 'female'),\n",
       " ({'last_letter': 'e', 'first_letter': 'a', 'first_last': 'ae'}, 'female'),\n",
       " ({'last_letter': 'k', 'first_letter': 'b', 'first_last': 'bk'}, 'male'),\n",
       " ({'last_letter': 's', 'first_letter': 't', 'first_last': 'ts'}, 'male'),\n",
       " ({'last_letter': 't', 'first_letter': 't', 'first_last': 'tt'}, 'male'),\n",
       " ({'last_letter': 'd', 'first_letter': 's', 'first_last': 'sd'}, 'female'),\n",
       " ({'last_letter': 'l', 'first_letter': 'k', 'first_last': 'kl'}, 'female'),\n",
       " ({'last_letter': 'y', 'first_letter': 'h', 'first_last': 'hy'}, 'female'),\n",
       " ({'last_letter': 'a', 'first_letter': 'm', 'first_last': 'ma'}, 'female'),\n",
       " ({'last_letter': 'i', 'first_letter': 'b', 'first_last': 'bi'}, 'female'),\n",
       " ({'last_letter': 'i', 'first_letter': 'm', 'first_last': 'mi'}, 'female'),\n",
       " ({'last_letter': 'n', 'first_letter': 'c', 'first_last': 'cn'}, 'female'),\n",
       " ({'last_letter': 'y', 'first_letter': 'b', 'first_last': 'by'}, 'female'),\n",
       " ({'last_letter': 'y', 'first_letter': 'h', 'first_last': 'hy'}, 'female'),\n",
       " ({'last_letter': 'a', 'first_letter': 'c', 'first_last': 'ca'}, 'female'),\n",
       " ({'last_letter': 'e', 'first_letter': 'l', 'first_last': 'le'}, 'female'),\n",
       " ({'last_letter': 'n', 'first_letter': 's', 'first_last': 'sn'}, 'female'),\n",
       " ({'last_letter': 'e', 'first_letter': 'f', 'first_last': 'fe'}, 'female'),\n",
       " ({'last_letter': 'r', 'first_letter': 'r', 'first_last': 'rr'}, 'male'),\n",
       " ({'last_letter': 'e', 'first_letter': 'r', 'first_last': 're'}, 'female'),\n",
       " ({'last_letter': 'i', 'first_letter': 'k', 'first_last': 'ki'}, 'female'),\n",
       " ({'last_letter': 'l', 'first_letter': 'm', 'first_last': 'ml'}, 'female'),\n",
       " ({'last_letter': 'e', 'first_letter': 'r', 'first_last': 're'}, 'female'),\n",
       " ({'last_letter': 'l', 'first_letter': 'a', 'first_last': 'al'}, 'male'),\n",
       " ({'last_letter': 'y', 'first_letter': 'm', 'first_last': 'my'}, 'female'),\n",
       " ({'last_letter': 'a', 'first_letter': 'e', 'first_last': 'ea'}, 'female'),\n",
       " ({'last_letter': 'e', 'first_letter': 'c', 'first_last': 'ce'}, 'female'),\n",
       " ({'last_letter': 'l', 'first_letter': 'k', 'first_last': 'kl'}, 'male'),\n",
       " ({'last_letter': 'e', 'first_letter': 'a', 'first_last': 'ae'}, 'female'),\n",
       " ({'last_letter': 'a', 'first_letter': 'd', 'first_last': 'da'}, 'female'),\n",
       " ({'last_letter': 'k', 'first_letter': 'e', 'first_last': 'ek'}, 'male'),\n",
       " ({'last_letter': 'n', 'first_letter': 'm', 'first_last': 'mn'}, 'male'),\n",
       " ({'last_letter': 'r', 'first_letter': 'f', 'first_last': 'fr'}, 'male'),\n",
       " ({'last_letter': 'n', 'first_letter': 'h', 'first_last': 'hn'}, 'male'),\n",
       " ({'last_letter': 'l', 'first_letter': 'm', 'first_last': 'ml'}, 'female'),\n",
       " ({'last_letter': 'e', 'first_letter': 'j', 'first_last': 'je'}, 'female'),\n",
       " ({'last_letter': 'a', 'first_letter': 'r', 'first_last': 'ra'}, 'female'),\n",
       " ({'last_letter': 'm', 'first_letter': 'm', 'first_last': 'mm'}, 'female'),\n",
       " ({'last_letter': 'n', 'first_letter': 'm', 'first_last': 'mn'}, 'male'),\n",
       " ({'last_letter': 'e', 'first_letter': 'l', 'first_last': 'le'}, 'female'),\n",
       " ({'last_letter': 'e', 'first_letter': 'r', 'first_last': 're'}, 'female'),\n",
       " ({'last_letter': 'i', 'first_letter': 'b', 'first_last': 'bi'}, 'female'),\n",
       " ({'last_letter': 'a', 'first_letter': 'k', 'first_last': 'ka'}, 'female'),\n",
       " ({'last_letter': 'y', 'first_letter': 'a', 'first_last': 'ay'}, 'female')]"
      ]
     },
     "execution_count": 333,
     "metadata": {},
     "output_type": "execute_result"
    }
   ],
   "source": [
    "dev_test_set"
   ]
  },
  {
   "cell_type": "code",
   "execution_count": 334,
   "metadata": {},
   "outputs": [],
   "source": [
    "errors = []\n",
    "for (name,tag) in dev_test:\n",
    "    guess = classifier_a.classify(gender_features(name))\n",
    "    if guess != tag:\n",
    "        errors.append((tag,guess,name))"
   ]
  },
  {
   "cell_type": "code",
   "execution_count": 335,
   "metadata": {},
   "outputs": [],
   "source": [
    "errors_df = pd.DataFrame(errors).rename(columns={0:'correct', 1:'guess', 2:'name'})"
   ]
  },
  {
   "cell_type": "markdown",
   "metadata": {},
   "source": [
    "Looking at the errors log, we can begin to explore some additional features that may be helpful in improving our model. "
   ]
  },
  {
   "cell_type": "code",
   "execution_count": 336,
   "metadata": {},
   "outputs": [],
   "source": [
    "r3_errors = errors_df.sort_values(by=['correct','name'], ascending=[False,True])"
   ]
  },
  {
   "cell_type": "code",
   "execution_count": 337,
   "metadata": {},
   "outputs": [
    {
     "data": {
      "text/html": [
       "<div>\n",
       "<style scoped>\n",
       "    .dataframe tbody tr th:only-of-type {\n",
       "        vertical-align: middle;\n",
       "    }\n",
       "\n",
       "    .dataframe tbody tr th {\n",
       "        vertical-align: top;\n",
       "    }\n",
       "\n",
       "    .dataframe thead th {\n",
       "        text-align: right;\n",
       "    }\n",
       "</style>\n",
       "<table border=\"1\" class=\"dataframe\">\n",
       "  <thead>\n",
       "    <tr style=\"text-align: right;\">\n",
       "      <th></th>\n",
       "      <th>correct</th>\n",
       "      <th>guess</th>\n",
       "      <th>name</th>\n",
       "    </tr>\n",
       "  </thead>\n",
       "  <tbody>\n",
       "    <tr>\n",
       "      <th>77</th>\n",
       "      <td>male</td>\n",
       "      <td>female</td>\n",
       "      <td>Anatol</td>\n",
       "    </tr>\n",
       "    <tr>\n",
       "      <th>16</th>\n",
       "      <td>male</td>\n",
       "      <td>female</td>\n",
       "      <td>Arnie</td>\n",
       "    </tr>\n",
       "    <tr>\n",
       "      <th>4</th>\n",
       "      <td>male</td>\n",
       "      <td>female</td>\n",
       "      <td>Benjie</td>\n",
       "    </tr>\n",
       "    <tr>\n",
       "      <th>48</th>\n",
       "      <td>male</td>\n",
       "      <td>female</td>\n",
       "      <td>Blare</td>\n",
       "    </tr>\n",
       "    <tr>\n",
       "      <th>21</th>\n",
       "      <td>male</td>\n",
       "      <td>female</td>\n",
       "      <td>Brooke</td>\n",
       "    </tr>\n",
       "  </tbody>\n",
       "</table>\n",
       "</div>"
      ],
      "text/plain": [
       "   correct   guess    name\n",
       "77    male  female  Anatol\n",
       "16    male  female   Arnie\n",
       "4     male  female  Benjie\n",
       "48    male  female   Blare\n",
       "21    male  female  Brooke"
      ]
     },
     "execution_count": 337,
     "metadata": {},
     "output_type": "execute_result"
    }
   ],
   "source": [
    "r3_errors.head()"
   ]
  },
  {
   "cell_type": "markdown",
   "metadata": {},
   "source": [
    "I've decided to try out the combination of the first and last letter as a potential feature. When looking at the errors data frame based on this feature, there are a lot of 0s in the count, suggesting that it may represent a pretty linear decision boundary. Thus, I will incorporate this in the next updates to our feature set function"
   ]
  },
  {
   "cell_type": "markdown",
   "metadata": {},
   "source": [
    "##### **3.4 Round 4 - Flagged First Character**"
   ]
  },
  {
   "cell_type": "markdown",
   "metadata": {},
   "source": [
    "Since we're still seeing some strong misclassifications based on the first name, I'm going to expand the feature function to include a categorical variable based on if the first letter is one of several letters mentioned at the end of Round 1"
   ]
  },
  {
   "cell_type": "markdown",
   "metadata": {},
   "source": [
    "Here I created a lambda function to set a flag if the first letter of the name is in the special set of characters a,c,d,m,p,s."
   ]
  },
  {
   "cell_type": "code",
   "execution_count": 338,
   "metadata": {},
   "outputs": [],
   "source": [
    "x = lambda a: 1 if re.search('^[acdmps]',a) != None else 0"
   ]
  },
  {
   "cell_type": "markdown",
   "metadata": {},
   "source": [
    "Updated the features function to include this new flag. But also removed the first_letter feature, since that would be suspected to be highly correlated to the new feature which is looking at the first character"
   ]
  },
  {
   "cell_type": "code",
   "execution_count": 339,
   "metadata": {},
   "outputs": [],
   "source": [
    "def gender_features(word):\n",
    "    features = {'last_letter':word[-1], \\\n",
    "            'first_last':word[0].lower()+word[-1:],\n",
    "            'flagged_character':x(word[0].lower())}\n",
    "    return features"
   ]
  },
  {
   "cell_type": "code",
   "execution_count": 340,
   "metadata": {},
   "outputs": [],
   "source": [
    "featuresets = [(gender_features(n),g) for (n,g) in names]"
   ]
  },
  {
   "cell_type": "code",
   "execution_count": 341,
   "metadata": {},
   "outputs": [],
   "source": [
    "train_set = [(gender_features(n),g) for (n,g) in train]\n",
    "test_set = [(gender_features(n),g) for (n,g) in test]\n",
    "dev_test_set = [(gender_features(n),g) for (n,g) in dev_test]"
   ]
  },
  {
   "cell_type": "code",
   "execution_count": 342,
   "metadata": {},
   "outputs": [],
   "source": [
    "classifier_a = nltk.NaiveBayesClassifier.train(train_set)\n",
    "classifier_b = nltk.DecisionTreeClassifier.train(train_set)"
   ]
  },
  {
   "cell_type": "markdown",
   "metadata": {},
   "source": [
    "When we run this, we see that this new feature actually reduced the improvement in the Naive Bayes classifier - and brought it back in line with the first classifier; while once again, there isn't any real improvement in our Decision Tree Classifier"
   ]
  },
  {
   "cell_type": "code",
   "execution_count": 343,
   "metadata": {},
   "outputs": [
    {
     "name": "stdout",
     "output_type": "stream",
     "text": [
      "Naive Bayes Classifier Accuracy: 0.7801608579088471\n",
      "Decision Tree Classifier Accuracy: 0.7962466487935657\n"
     ]
    }
   ],
   "source": [
    "print('Naive Bayes Classifier Accuracy: {}'.format(nltk.classify.accuracy(classifier_a,test_set)))\n",
    "print('Decision Tree Classifier Accuracy: {}'.format(nltk.classify.accuracy(classifier_b,test_set)))"
   ]
  },
  {
   "cell_type": "markdown",
   "metadata": {},
   "source": [
    "#### **4. Conclusion**"
   ]
  },
  {
   "cell_type": "markdown",
   "metadata": {},
   "source": [
    "In this example, I was able to see how we can use text based data and natural language processing to develop a supervised classifier. I think the biggest challenge was figuring out features that could be considered useful and predictive in nature to inform our classifier. While the process that I undertook was mainly a manual iterative process, I think there are probably more non-trivial aspects of a name that can potentially be used for features. However, at the same time, by reviewing some of the misclassified data in the dev_test data, it's evident that there are some names that are not universally Female or Male names; and while the classifier is probably effective at classifying names that are less ambiguous, it's this subset of more ambiguous names that it has a harder time classying correctly"
   ]
  }
 ],
 "metadata": {
  "kernelspec": {
   "display_name": "env",
   "language": "python",
   "name": "python3"
  },
  "language_info": {
   "codemirror_mode": {
    "name": "ipython",
    "version": 3
   },
   "file_extension": ".py",
   "mimetype": "text/x-python",
   "name": "python",
   "nbconvert_exporter": "python",
   "pygments_lexer": "ipython3",
   "version": "3.11.7"
  }
 },
 "nbformat": 4,
 "nbformat_minor": 2
}
