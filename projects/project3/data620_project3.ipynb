{
 "cells": [
  {
   "cell_type": "markdown",
   "metadata": {},
   "source": [
    "#### **DATA 620 - Project #3**\n",
    "\n",
    "Author: Kory Martin  \n",
    "Date: 3/20/2024  "
   ]
  },
  {
   "cell_type": "markdown",
   "metadata": {},
   "source": [
    "Instructions:\n",
    "\n",
    "- Using any of the three classifiers described in chapter 6 of Natural Language Processing with Python, and any features you can think of, build the best name gender classifier you can. \n",
    "- Begin by splitting the Names Corpus into three subsets: 500 words for the test set, 500 words for the dev-test set, and the remaining 6900 words for the training set. \n",
    "- Then, starting with the example name gender classifier, make incremental improvements. \n",
    "- Use the dev-test set to check your progress. \n",
    "- Once you are satisfied with your classifier, check its final performance on the test set. How does the performance on the test set compare to the performance on the dev-test set? \n",
    "- Is this what you'd expect?\n",
    "- Project is due 3/26.\n",
    "- Source: Natural Language Processing with Python, exercise 6.10.2.\n"
   ]
  },
  {
   "cell_type": "markdown",
   "metadata": {},
   "source": [
    "#### **1. Import Libraries**"
   ]
  },
  {
   "cell_type": "code",
   "execution_count": 132,
   "metadata": {},
   "outputs": [],
   "source": [
    "from nltk.corpus import names\n",
    "import nltk\n",
    "import random\n",
    "import pandas as pd\n",
    "import re"
   ]
  },
  {
   "cell_type": "markdown",
   "metadata": {},
   "source": [
    "#### **2. Import the names corpus**"
   ]
  },
  {
   "cell_type": "code",
   "execution_count": 133,
   "metadata": {},
   "outputs": [
    {
     "name": "stderr",
     "output_type": "stream",
     "text": [
      "[nltk_data] Downloading package names to\n",
      "[nltk_data]     /Users/korymartin/nltk_data...\n",
      "[nltk_data]   Package names is already up-to-date!\n"
     ]
    },
    {
     "data": {
      "text/plain": [
       "True"
      ]
     },
     "execution_count": 133,
     "metadata": {},
     "output_type": "execute_result"
    }
   ],
   "source": [
    "nltk.download('names')"
   ]
  },
  {
   "cell_type": "markdown",
   "metadata": {},
   "source": [
    "Create a list that combines the male and female names"
   ]
  },
  {
   "cell_type": "code",
   "execution_count": 134,
   "metadata": {},
   "outputs": [],
   "source": [
    "names = ([(name,'male') for name in names.words('male.txt')] + [(name,'female') for name in names.words('female.txt')])"
   ]
  },
  {
   "cell_type": "code",
   "execution_count": 135,
   "metadata": {},
   "outputs": [
    {
     "data": {
      "text/plain": [
       "1\n",
       "female    5001\n",
       "male      2943\n",
       "Name: count, dtype: int64"
      ]
     },
     "execution_count": 135,
     "metadata": {},
     "output_type": "execute_result"
    }
   ],
   "source": [
    "pd.DataFrame(names)[1].value_counts()"
   ]
  },
  {
   "cell_type": "markdown",
   "metadata": {},
   "source": [
    "Shuffle the names"
   ]
  },
  {
   "cell_type": "code",
   "execution_count": 136,
   "metadata": {},
   "outputs": [],
   "source": [
    "random.shuffle(names)"
   ]
  },
  {
   "cell_type": "markdown",
   "metadata": {},
   "source": [
    "Since there are more female names than male names, we will start by creating a balanced dataset that has an equal number of male names and female names"
   ]
  },
  {
   "cell_type": "code",
   "execution_count": 137,
   "metadata": {},
   "outputs": [],
   "source": [
    "female_names = pd.DataFrame(names).loc[pd.DataFrame(names)[1] == 'female'].copy()\n",
    "male_names = pd.DataFrame(names).loc[pd.DataFrame(names)[1] == 'male'].copy()"
   ]
  },
  {
   "cell_type": "code",
   "execution_count": 138,
   "metadata": {},
   "outputs": [],
   "source": [
    "num_male_names = len(male_names)"
   ]
  },
  {
   "cell_type": "code",
   "execution_count": 139,
   "metadata": {},
   "outputs": [],
   "source": [
    "female_names_sample = female_names.sample(num_male_names, random_state=1211).copy()"
   ]
  },
  {
   "cell_type": "code",
   "execution_count": 140,
   "metadata": {},
   "outputs": [],
   "source": [
    "balanced_names = pd.concat([male_names,female_names_sample])"
   ]
  },
  {
   "cell_type": "markdown",
   "metadata": {},
   "source": [
    "This results in the fallanced balanced dataset"
   ]
  },
  {
   "cell_type": "code",
   "execution_count": 141,
   "metadata": {},
   "outputs": [
    {
     "data": {
      "text/plain": [
       "1\n",
       "male      2943\n",
       "female    2943\n",
       "Name: count, dtype: int64"
      ]
     },
     "execution_count": 141,
     "metadata": {},
     "output_type": "execute_result"
    }
   ],
   "source": [
    "balanced_names[1].value_counts()"
   ]
  },
  {
   "cell_type": "code",
   "execution_count": 142,
   "metadata": {},
   "outputs": [],
   "source": [
    "balanced_names = balanced_names.sample(frac=1).reset_index(drop=True)"
   ]
  },
  {
   "cell_type": "markdown",
   "metadata": {},
   "source": [
    "Split the names data into training data, test data and dev-test data"
   ]
  },
  {
   "cell_type": "code",
   "execution_count": 143,
   "metadata": {},
   "outputs": [
    {
     "data": {
      "text/plain": [
       "5886"
      ]
     },
     "execution_count": 143,
     "metadata": {},
     "output_type": "execute_result"
    }
   ],
   "source": [
    "len(balanced_names)"
   ]
  },
  {
   "cell_type": "code",
   "execution_count": 144,
   "metadata": {},
   "outputs": [],
   "source": [
    "test_pct = 500/7900"
   ]
  },
  {
   "cell_type": "code",
   "execution_count": 145,
   "metadata": {},
   "outputs": [],
   "source": [
    "test_size = int(round((len(balanced_names)) * test_pct,0))\n",
    "dev_size = int(round((len(balanced_names)) * test_pct,0))\n",
    "train_size = int(len(balanced_names) - (test_size + dev_size))\n"
   ]
  },
  {
   "cell_type": "code",
   "execution_count": 146,
   "metadata": {},
   "outputs": [
    {
     "data": {
      "text/plain": [
       "5140"
      ]
     },
     "execution_count": 146,
     "metadata": {},
     "output_type": "execute_result"
    }
   ],
   "source": [
    "train_size"
   ]
  },
  {
   "cell_type": "code",
   "execution_count": 147,
   "metadata": {},
   "outputs": [],
   "source": [
    "test = names[:test_size]\n",
    "dev_test = names[dev_size:2*dev_size]\n",
    "train = names[2*dev_size:]\n",
    "\n"
   ]
  },
  {
   "cell_type": "markdown",
   "metadata": {},
   "source": [
    "#### **3. Name Classifier**\n",
    "\n",
    "Here we start by building a function that takes in a name and extract specific features that will be used to train our model"
   ]
  },
  {
   "cell_type": "markdown",
   "metadata": {},
   "source": [
    "##### **3.1 Round 1**\n",
    "\n",
    "For our first classifier, we will replicate the classifier created in our text. This classifier will be trained by using the last letter of the name as the only feature used to classify the text as **male** or **female**"
   ]
  },
  {
   "cell_type": "code",
   "execution_count": 148,
   "metadata": {},
   "outputs": [],
   "source": [
    "def gender_features(word):\n",
    "    features = {'last_letter':word[-1]}\n",
    "    return features"
   ]
  },
  {
   "cell_type": "markdown",
   "metadata": {},
   "source": [
    "Next we will create the different data sets - along with their features - to train and evaluate our classifier"
   ]
  },
  {
   "cell_type": "code",
   "execution_count": 149,
   "metadata": {},
   "outputs": [],
   "source": [
    "train_set = [(gender_features(n),g) for (n,g) in train]\n",
    "test_set = [(gender_features(n),g) for (n,g) in test]\n",
    "dev_test_set = [(gender_features(n),g) for (n,g) in dev_test]"
   ]
  },
  {
   "cell_type": "markdown",
   "metadata": {},
   "source": [
    "Next we will train the classifier using the training set"
   ]
  },
  {
   "cell_type": "code",
   "execution_count": 150,
   "metadata": {},
   "outputs": [],
   "source": [
    "classifier_a = nltk.NaiveBayesClassifier.train(train_set)\n",
    "classifier_b = nltk.DecisionTreeClassifier.train(train_set)"
   ]
  },
  {
   "cell_type": "markdown",
   "metadata": {},
   "source": [
    "Here we see that both the Naive and Decision Tree classifiers have an accuracy of 77%"
   ]
  },
  {
   "cell_type": "code",
   "execution_count": 151,
   "metadata": {},
   "outputs": [
    {
     "name": "stdout",
     "output_type": "stream",
     "text": [
      "Naive Bayes Classifier Accuracy: 0.774798927613941\n",
      "Decision Tree Classifier Accuracy: 0.774798927613941\n"
     ]
    }
   ],
   "source": [
    "print('Naive Bayes Classifier Accuracy: {}'.format(nltk.classify.accuracy(classifier_a,test_set)))\n",
    "print('Decision Tree Classifier Accuracy: {}'.format(nltk.classify.accuracy(classifier_b,test_set)))"
   ]
  },
  {
   "cell_type": "markdown",
   "metadata": {},
   "source": [
    "We will now use our dev_test set to examine the errors generated by our classifier and use this to identify other features that can be used to improve upon our classifier"
   ]
  },
  {
   "cell_type": "code",
   "execution_count": 152,
   "metadata": {},
   "outputs": [],
   "source": [
    "errors = []\n",
    "for (name,tag) in dev_test:\n",
    "    guess = classifier_a.classify(gender_features(name))\n",
    "    if guess != tag:\n",
    "        errors.append((tag,guess,name))"
   ]
  },
  {
   "cell_type": "code",
   "execution_count": 153,
   "metadata": {},
   "outputs": [],
   "source": [
    "errors_df = pd.DataFrame(errors).rename(columns={0:'correct', 1:'guess', 2:'name'})"
   ]
  },
  {
   "cell_type": "markdown",
   "metadata": {},
   "source": [
    "Looking at the errors log, we can begin to explore some additional features that may be helpful in improving our model. "
   ]
  },
  {
   "cell_type": "code",
   "execution_count": 154,
   "metadata": {},
   "outputs": [],
   "source": [
    "r1_errors = errors_df.sort_values(by=['correct','name'], ascending=[False,True])"
   ]
  },
  {
   "cell_type": "code",
   "execution_count": 155,
   "metadata": {},
   "outputs": [],
   "source": [
    "errors_info = [{'first_letter':r1_errors.loc[i,'name'][0].lower(), \\\n",
    "    'correct':r1_errors.loc[i,'correct'], \\\n",
    "        'guess':r1_errors.loc[i,'guess']} for i in range(len(r1_errors))]"
   ]
  },
  {
   "cell_type": "code",
   "execution_count": 156,
   "metadata": {},
   "outputs": [
    {
     "data": {
      "text/html": [
       "<div>\n",
       "<style scoped>\n",
       "    .dataframe tbody tr th:only-of-type {\n",
       "        vertical-align: middle;\n",
       "    }\n",
       "\n",
       "    .dataframe tbody tr th {\n",
       "        vertical-align: top;\n",
       "    }\n",
       "\n",
       "    .dataframe thead th {\n",
       "        text-align: right;\n",
       "    }\n",
       "</style>\n",
       "<table border=\"1\" class=\"dataframe\">\n",
       "  <thead>\n",
       "    <tr style=\"text-align: right;\">\n",
       "      <th>correct</th>\n",
       "      <th>female</th>\n",
       "      <th>male</th>\n",
       "    </tr>\n",
       "    <tr>\n",
       "      <th>first_letter</th>\n",
       "      <th></th>\n",
       "      <th></th>\n",
       "    </tr>\n",
       "  </thead>\n",
       "  <tbody>\n",
       "    <tr>\n",
       "      <th>a</th>\n",
       "      <td>4</td>\n",
       "      <td>3</td>\n",
       "    </tr>\n",
       "    <tr>\n",
       "      <th>b</th>\n",
       "      <td>1</td>\n",
       "      <td>3</td>\n",
       "    </tr>\n",
       "    <tr>\n",
       "      <th>c</th>\n",
       "      <td>3</td>\n",
       "      <td>2</td>\n",
       "    </tr>\n",
       "    <tr>\n",
       "      <th>d</th>\n",
       "      <td>6</td>\n",
       "      <td>3</td>\n",
       "    </tr>\n",
       "    <tr>\n",
       "      <th>e</th>\n",
       "      <td>1</td>\n",
       "      <td>0</td>\n",
       "    </tr>\n",
       "    <tr>\n",
       "      <th>f</th>\n",
       "      <td>4</td>\n",
       "      <td>0</td>\n",
       "    </tr>\n",
       "    <tr>\n",
       "      <th>g</th>\n",
       "      <td>3</td>\n",
       "      <td>1</td>\n",
       "    </tr>\n",
       "    <tr>\n",
       "      <th>h</th>\n",
       "      <td>2</td>\n",
       "      <td>1</td>\n",
       "    </tr>\n",
       "    <tr>\n",
       "      <th>j</th>\n",
       "      <td>3</td>\n",
       "      <td>5</td>\n",
       "    </tr>\n",
       "    <tr>\n",
       "      <th>k</th>\n",
       "      <td>3</td>\n",
       "      <td>1</td>\n",
       "    </tr>\n",
       "    <tr>\n",
       "      <th>l</th>\n",
       "      <td>2</td>\n",
       "      <td>0</td>\n",
       "    </tr>\n",
       "    <tr>\n",
       "      <th>m</th>\n",
       "      <td>2</td>\n",
       "      <td>3</td>\n",
       "    </tr>\n",
       "    <tr>\n",
       "      <th>n</th>\n",
       "      <td>1</td>\n",
       "      <td>0</td>\n",
       "    </tr>\n",
       "    <tr>\n",
       "      <th>o</th>\n",
       "      <td>1</td>\n",
       "      <td>0</td>\n",
       "    </tr>\n",
       "    <tr>\n",
       "      <th>p</th>\n",
       "      <td>2</td>\n",
       "      <td>1</td>\n",
       "    </tr>\n",
       "    <tr>\n",
       "      <th>r</th>\n",
       "      <td>3</td>\n",
       "      <td>3</td>\n",
       "    </tr>\n",
       "    <tr>\n",
       "      <th>s</th>\n",
       "      <td>4</td>\n",
       "      <td>3</td>\n",
       "    </tr>\n",
       "    <tr>\n",
       "      <th>t</th>\n",
       "      <td>0</td>\n",
       "      <td>3</td>\n",
       "    </tr>\n",
       "    <tr>\n",
       "      <th>v</th>\n",
       "      <td>1</td>\n",
       "      <td>0</td>\n",
       "    </tr>\n",
       "    <tr>\n",
       "      <th>w</th>\n",
       "      <td>0</td>\n",
       "      <td>3</td>\n",
       "    </tr>\n",
       "    <tr>\n",
       "      <th>z</th>\n",
       "      <td>0</td>\n",
       "      <td>1</td>\n",
       "    </tr>\n",
       "  </tbody>\n",
       "</table>\n",
       "</div>"
      ],
      "text/plain": [
       "correct       female  male\n",
       "first_letter              \n",
       "a                  4     3\n",
       "b                  1     3\n",
       "c                  3     2\n",
       "d                  6     3\n",
       "e                  1     0\n",
       "f                  4     0\n",
       "g                  3     1\n",
       "h                  2     1\n",
       "j                  3     5\n",
       "k                  3     1\n",
       "l                  2     0\n",
       "m                  2     3\n",
       "n                  1     0\n",
       "o                  1     0\n",
       "p                  2     1\n",
       "r                  3     3\n",
       "s                  4     3\n",
       "t                  0     3\n",
       "v                  1     0\n",
       "w                  0     3\n",
       "z                  0     1"
      ]
     },
     "execution_count": 156,
     "metadata": {},
     "output_type": "execute_result"
    }
   ],
   "source": [
    "x = pd.DataFrame(errors_info).sort_values(by='first_letter')\n",
    "pd.crosstab(x['first_letter'], x['correct'])"
   ]
  },
  {
   "cell_type": "markdown",
   "metadata": {},
   "source": [
    "Based on reviewing the data based on first letter of the name, it appears that the data is misclassifying names that begin with the letters a,c,d,m,p,s. I think this is worth attempting to enhance the features function to include a first letter. For starters, we will just focus on including the first letter of the name as a feature; and then depending on what we find with our errors, it may be worth being more explicit and creating a feature based on if the name begins with one of the letters mentioned above"
   ]
  },
  {
   "cell_type": "markdown",
   "metadata": {},
   "source": [
    "##### **3.2 Round 2**"
   ]
  },
  {
   "cell_type": "markdown",
   "metadata": {},
   "source": [
    "As mentioned at the end of the previous step, we will include a feature for the first letter of the name "
   ]
  },
  {
   "cell_type": "code",
   "execution_count": 157,
   "metadata": {},
   "outputs": [],
   "source": [
    "def gender_features(word):\n",
    "    features = {'last_letter':word[-1], 'first_letter':word[0].lower()}\n",
    "    return features"
   ]
  },
  {
   "cell_type": "code",
   "execution_count": 158,
   "metadata": {},
   "outputs": [],
   "source": [
    "featuresets = [(gender_features(n),g) for (n,g) in names]"
   ]
  },
  {
   "cell_type": "code",
   "execution_count": 159,
   "metadata": {},
   "outputs": [],
   "source": [
    "train_set = [(gender_features(n),g) for (n,g) in train]\n",
    "test_set = [(gender_features(n),g) for (n,g) in test]\n",
    "dev_test_set = [(gender_features(n),g) for (n,g) in dev_test]"
   ]
  },
  {
   "cell_type": "code",
   "execution_count": 160,
   "metadata": {},
   "outputs": [],
   "source": [
    "classifier_a = nltk.NaiveBayesClassifier.train(train_set)\n",
    "classifier_b = nltk.DecisionTreeClassifier.train(train_set)"
   ]
  },
  {
   "cell_type": "markdown",
   "metadata": {},
   "source": [
    "We see that including the first initial of the letter improved the accuracy score from 77% to 79.6% for the Naive Bayes Classifier and from 77% to 80.4% for the Decision Tree Classifier. "
   ]
  },
  {
   "cell_type": "code",
   "execution_count": 161,
   "metadata": {},
   "outputs": [
    {
     "name": "stdout",
     "output_type": "stream",
     "text": [
      "Naive Bayes Classifier Accuracy: 0.7640750670241286\n",
      "Decision Tree Classifier Accuracy: 0.7721179624664879\n"
     ]
    }
   ],
   "source": [
    "print('Naive Bayes Classifier Accuracy: {}'.format(nltk.classify.accuracy(classifier_a,test_set)))\n",
    "print('Decision Tree Classifier Accuracy: {}'.format(nltk.classify.accuracy(classifier_b,test_set)))"
   ]
  },
  {
   "cell_type": "markdown",
   "metadata": {},
   "source": [
    "We will now use our dev_test set to examine the errors generated by our classifier and use this to identify other features that can be used to improve upon our classifier"
   ]
  },
  {
   "cell_type": "code",
   "execution_count": 162,
   "metadata": {},
   "outputs": [
    {
     "data": {
      "text/plain": [
       "[({'last_letter': 'a', 'first_letter': 'b'}, 'female'),\n",
       " ({'last_letter': 'i', 'first_letter': 'b'}, 'male'),\n",
       " ({'last_letter': 'a', 'first_letter': 'k'}, 'female'),\n",
       " ({'last_letter': 'r', 'first_letter': 's'}, 'male'),\n",
       " ({'last_letter': 'a', 'first_letter': 'a'}, 'female'),\n",
       " ({'last_letter': 'e', 'first_letter': 'd'}, 'female'),\n",
       " ({'last_letter': 'a', 'first_letter': 'm'}, 'female'),\n",
       " ({'last_letter': 'h', 'first_letter': 'j'}, 'male'),\n",
       " ({'last_letter': 'a', 'first_letter': 'e'}, 'female'),\n",
       " ({'last_letter': 'a', 'first_letter': 'a'}, 'female'),\n",
       " ({'last_letter': 'e', 'first_letter': 't'}, 'male'),\n",
       " ({'last_letter': 'l', 'first_letter': 'a'}, 'female'),\n",
       " ({'last_letter': 'e', 'first_letter': 'f'}, 'female'),\n",
       " ({'last_letter': 'a', 'first_letter': 'o'}, 'female'),\n",
       " ({'last_letter': 'i', 'first_letter': 't'}, 'female'),\n",
       " ({'last_letter': 'e', 'first_letter': 'm'}, 'male'),\n",
       " ({'last_letter': 's', 'first_letter': 'a'}, 'female'),\n",
       " ({'last_letter': 'e', 'first_letter': 'b'}, 'female'),\n",
       " ({'last_letter': 'e', 'first_letter': 'r'}, 'female'),\n",
       " ({'last_letter': 's', 'first_letter': 'j'}, 'male'),\n",
       " ({'last_letter': 'a', 'first_letter': 'm'}, 'female'),\n",
       " ({'last_letter': 'v', 'first_letter': 'v'}, 'male'),\n",
       " ({'last_letter': 'e', 'first_letter': 'k'}, 'male'),\n",
       " ({'last_letter': 'l', 'first_letter': 'p'}, 'male'),\n",
       " ({'last_letter': 'e', 'first_letter': 'r'}, 'female'),\n",
       " ({'last_letter': 'e', 'first_letter': 'n'}, 'female'),\n",
       " ({'last_letter': 'a', 'first_letter': 'c'}, 'female'),\n",
       " ({'last_letter': 'y', 'first_letter': 'k'}, 'female'),\n",
       " ({'last_letter': 'l', 'first_letter': 'm'}, 'female'),\n",
       " ({'last_letter': 'e', 'first_letter': 'm'}, 'female'),\n",
       " ({'last_letter': 'y', 'first_letter': 's'}, 'female'),\n",
       " ({'last_letter': 'a', 'first_letter': 'd'}, 'female'),\n",
       " ({'last_letter': 'n', 'first_letter': 'l'}, 'male'),\n",
       " ({'last_letter': 'e', 'first_letter': 'n'}, 'female'),\n",
       " ({'last_letter': 'a', 'first_letter': 'c'}, 'female'),\n",
       " ({'last_letter': 'e', 'first_letter': 't'}, 'female'),\n",
       " ({'last_letter': 'l', 'first_letter': 'a'}, 'female'),\n",
       " ({'last_letter': 'a', 'first_letter': 't'}, 'female'),\n",
       " ({'last_letter': 'y', 'first_letter': 'a'}, 'female'),\n",
       " ({'last_letter': 'c', 'first_letter': 'i'}, 'male'),\n",
       " ({'last_letter': 'd', 'first_letter': 't'}, 'male'),\n",
       " ({'last_letter': 'n', 'first_letter': 'd'}, 'female'),\n",
       " ({'last_letter': 'h', 'first_letter': 'm'}, 'female'),\n",
       " ({'last_letter': 'y', 'first_letter': 'v'}, 'female'),\n",
       " ({'last_letter': 'e', 'first_letter': 'h'}, 'female'),\n",
       " ({'last_letter': 'y', 'first_letter': 'k'}, 'female'),\n",
       " ({'last_letter': 'a', 'first_letter': 'd'}, 'female'),\n",
       " ({'last_letter': 'n', 'first_letter': 'd'}, 'male'),\n",
       " ({'last_letter': 'y', 'first_letter': 'd'}, 'female'),\n",
       " ({'last_letter': 'd', 'first_letter': 'r'}, 'male'),\n",
       " ({'last_letter': 'e', 'first_letter': 'h'}, 'female'),\n",
       " ({'last_letter': 'a', 'first_letter': 'r'}, 'female'),\n",
       " ({'last_letter': 'd', 'first_letter': 'p'}, 'male'),\n",
       " ({'last_letter': 'e', 'first_letter': 'd'}, 'male'),\n",
       " ({'last_letter': 't', 'first_letter': 'b'}, 'male'),\n",
       " ({'last_letter': 'n', 'first_letter': 'v'}, 'female'),\n",
       " ({'last_letter': 'e', 'first_letter': 'i'}, 'female'),\n",
       " ({'last_letter': 'e', 'first_letter': 'g'}, 'female'),\n",
       " ({'last_letter': 's', 'first_letter': 'l'}, 'female'),\n",
       " ({'last_letter': 'o', 'first_letter': 's'}, 'male'),\n",
       " ({'last_letter': 'k', 'first_letter': 'u'}, 'male'),\n",
       " ({'last_letter': 'a', 'first_letter': 'l'}, 'female'),\n",
       " ({'last_letter': 's', 'first_letter': 'l'}, 'male'),\n",
       " ({'last_letter': 'a', 'first_letter': 'm'}, 'female'),\n",
       " ({'last_letter': 'e', 'first_letter': 'j'}, 'male'),\n",
       " ({'last_letter': 'y', 'first_letter': 'b'}, 'female'),\n",
       " ({'last_letter': 'l', 'first_letter': 'e'}, 'male'),\n",
       " ({'last_letter': 'i', 'first_letter': 'b'}, 'female'),\n",
       " ({'last_letter': 'y', 'first_letter': 'e'}, 'female'),\n",
       " ({'last_letter': 'n', 'first_letter': 'p'}, 'female'),\n",
       " ({'last_letter': 'e', 'first_letter': 'c'}, 'female'),\n",
       " ({'last_letter': 'o', 'first_letter': 'n'}, 'female'),\n",
       " ({'last_letter': 'l', 'first_letter': 'k'}, 'female'),\n",
       " ({'last_letter': 'y', 'first_letter': 'k'}, 'female'),\n",
       " ({'last_letter': 'l', 'first_letter': 'j'}, 'male'),\n",
       " ({'last_letter': 'e', 'first_letter': 't'}, 'female'),\n",
       " ({'last_letter': 'i', 'first_letter': 'c'}, 'female'),\n",
       " ({'last_letter': 'l', 'first_letter': 'm'}, 'male'),\n",
       " ({'last_letter': 'a', 'first_letter': 'a'}, 'female'),\n",
       " ({'last_letter': 't', 'first_letter': 'e'}, 'male'),\n",
       " ({'last_letter': 'a', 'first_letter': 'c'}, 'female'),\n",
       " ({'last_letter': 'l', 'first_letter': 'c'}, 'female'),\n",
       " ({'last_letter': 'o', 'first_letter': 'f'}, 'male'),\n",
       " ({'last_letter': 'a', 'first_letter': 'd'}, 'female'),\n",
       " ({'last_letter': 'y', 'first_letter': 'b'}, 'female'),\n",
       " ({'last_letter': 'r', 'first_letter': 'w'}, 'male'),\n",
       " ({'last_letter': 'd', 'first_letter': 'r'}, 'female'),\n",
       " ({'last_letter': 'a', 'first_letter': 'r'}, 'female'),\n",
       " ({'last_letter': 'e', 'first_letter': 's'}, 'female'),\n",
       " ({'last_letter': 's', 'first_letter': 'm'}, 'male'),\n",
       " ({'last_letter': 'e', 'first_letter': 'm'}, 'male'),\n",
       " ({'last_letter': 'a', 'first_letter': 'z'}, 'female'),\n",
       " ({'last_letter': 'y', 'first_letter': 's'}, 'male'),\n",
       " ({'last_letter': 'n', 'first_letter': 'k'}, 'female'),\n",
       " ({'last_letter': 'a', 'first_letter': 'o'}, 'female'),\n",
       " ({'last_letter': 'a', 'first_letter': 'f'}, 'female'),\n",
       " ({'last_letter': 'a', 'first_letter': 'c'}, 'female'),\n",
       " ({'last_letter': 'e', 'first_letter': 'k'}, 'female'),\n",
       " ({'last_letter': 'e', 'first_letter': 'd'}, 'female'),\n",
       " ({'last_letter': 'a', 'first_letter': 'f'}, 'female'),\n",
       " ({'last_letter': 'n', 'first_letter': 'c'}, 'female'),\n",
       " ({'last_letter': 'y', 'first_letter': 'r'}, 'male'),\n",
       " ({'last_letter': 'e', 'first_letter': 't'}, 'male'),\n",
       " ({'last_letter': 'l', 'first_letter': 's'}, 'female'),\n",
       " ({'last_letter': 't', 'first_letter': 'j'}, 'female'),\n",
       " ({'last_letter': 'e', 'first_letter': 'e'}, 'female'),\n",
       " ({'last_letter': 'g', 'first_letter': 'h'}, 'female'),\n",
       " ({'last_letter': 'l', 'first_letter': 'g'}, 'female'),\n",
       " ({'last_letter': 'a', 'first_letter': 'c'}, 'female'),\n",
       " ({'last_letter': 'e', 'first_letter': 'k'}, 'female'),\n",
       " ({'last_letter': 'r', 'first_letter': 'f'}, 'female'),\n",
       " ({'last_letter': 't', 'first_letter': 't'}, 'male'),\n",
       " ({'last_letter': 't', 'first_letter': 'w'}, 'male'),\n",
       " ({'last_letter': 'l', 'first_letter': 'c'}, 'female'),\n",
       " ({'last_letter': 'o', 'first_letter': 'm'}, 'male'),\n",
       " ({'last_letter': 'e', 'first_letter': 'b'}, 'female'),\n",
       " ({'last_letter': 'n', 'first_letter': 'r'}, 'male'),\n",
       " ({'last_letter': 'e', 'first_letter': 'm'}, 'male'),\n",
       " ({'last_letter': 'n', 'first_letter': 'e'}, 'female'),\n",
       " ({'last_letter': 'e', 'first_letter': 'd'}, 'male'),\n",
       " ({'last_letter': 'g', 'first_letter': 'r'}, 'male'),\n",
       " ({'last_letter': 'a', 'first_letter': 'd'}, 'female'),\n",
       " ({'last_letter': 'a', 'first_letter': 't'}, 'female'),\n",
       " ({'last_letter': 'e', 'first_letter': 'h'}, 'female'),\n",
       " ({'last_letter': 'a', 'first_letter': 'c'}, 'female'),\n",
       " ({'last_letter': 'k', 'first_letter': 'j'}, 'male'),\n",
       " ({'last_letter': 'n', 'first_letter': 'g'}, 'male'),\n",
       " ({'last_letter': 'e', 'first_letter': 't'}, 'female'),\n",
       " ({'last_letter': 'n', 'first_letter': 'k'}, 'male'),\n",
       " ({'last_letter': 'n', 'first_letter': 'j'}, 'male'),\n",
       " ({'last_letter': 'n', 'first_letter': 't'}, 'male'),\n",
       " ({'last_letter': 'z', 'first_letter': 'm'}, 'male'),\n",
       " ({'last_letter': 'y', 'first_letter': 's'}, 'female'),\n",
       " ({'last_letter': 'e', 'first_letter': 'a'}, 'female'),\n",
       " ({'last_letter': 'a', 'first_letter': 'r'}, 'female'),\n",
       " ({'last_letter': 'a', 'first_letter': 'y'}, 'female'),\n",
       " ({'last_letter': 's', 'first_letter': 'd'}, 'female'),\n",
       " ({'last_letter': 'i', 'first_letter': 'm'}, 'female'),\n",
       " ({'last_letter': 'l', 'first_letter': 'i'}, 'male'),\n",
       " ({'last_letter': 'e', 'first_letter': 'v'}, 'female'),\n",
       " ({'last_letter': 'e', 'first_letter': 'n'}, 'female'),\n",
       " ({'last_letter': 'e', 'first_letter': 'l'}, 'female'),\n",
       " ({'last_letter': 'y', 'first_letter': 'e'}, 'female'),\n",
       " ({'last_letter': 'i', 'first_letter': 'n'}, 'female'),\n",
       " ({'last_letter': 'a', 'first_letter': 'q'}, 'female'),\n",
       " ({'last_letter': 'a', 'first_letter': 'a'}, 'female'),\n",
       " ({'last_letter': 'r', 'first_letter': 'j'}, 'female'),\n",
       " ({'last_letter': 'n', 'first_letter': 'd'}, 'male'),\n",
       " ({'last_letter': 'e', 'first_letter': 'm'}, 'female'),\n",
       " ({'last_letter': 'i', 'first_letter': 'm'}, 'female'),\n",
       " ({'last_letter': 'e', 'first_letter': 'n'}, 'female'),\n",
       " ({'last_letter': 'a', 'first_letter': 'b'}, 'female'),\n",
       " ({'last_letter': 'e', 'first_letter': 's'}, 'female'),\n",
       " ({'last_letter': 'e', 'first_letter': 'w'}, 'male'),\n",
       " ({'last_letter': 's', 'first_letter': 'f'}, 'male'),\n",
       " ({'last_letter': 'n', 'first_letter': 'h'}, 'male'),\n",
       " ({'last_letter': 'y', 'first_letter': 'k'}, 'female'),\n",
       " ({'last_letter': 'n', 'first_letter': 's'}, 'female'),\n",
       " ({'last_letter': 'e', 'first_letter': 'd'}, 'female'),\n",
       " ({'last_letter': 'h', 'first_letter': 's'}, 'female'),\n",
       " ({'last_letter': 'n', 'first_letter': 'h'}, 'male'),\n",
       " ({'last_letter': 'a', 'first_letter': 'c'}, 'female'),\n",
       " ({'last_letter': 'e', 'first_letter': 'e'}, 'female'),\n",
       " ({'last_letter': 'n', 'first_letter': 'v'}, 'male'),\n",
       " ({'last_letter': 'e', 'first_letter': 'm'}, 'female'),\n",
       " ({'last_letter': 'i', 'first_letter': 'm'}, 'female'),\n",
       " ({'last_letter': 'y', 'first_letter': 'c'}, 'male'),\n",
       " ({'last_letter': 'e', 'first_letter': 'k'}, 'female'),\n",
       " ({'last_letter': 'e', 'first_letter': 'm'}, 'female'),\n",
       " ({'last_letter': 'e', 'first_letter': 'r'}, 'male'),\n",
       " ({'last_letter': 'a', 'first_letter': 'e'}, 'female'),\n",
       " ({'last_letter': 'l', 'first_letter': 'm'}, 'male'),\n",
       " ({'last_letter': 'a', 'first_letter': 'i'}, 'female'),\n",
       " ({'last_letter': 'l', 'first_letter': 'c'}, 'male'),\n",
       " ({'last_letter': 'n', 'first_letter': 's'}, 'male'),\n",
       " ({'last_letter': 'y', 'first_letter': 't'}, 'female'),\n",
       " ({'last_letter': 'k', 'first_letter': 'c'}, 'male'),\n",
       " ({'last_letter': 'a', 'first_letter': 'a'}, 'female'),\n",
       " ({'last_letter': 'e', 'first_letter': 'd'}, 'female'),\n",
       " ({'last_letter': 'i', 'first_letter': 'j'}, 'female'),\n",
       " ({'last_letter': 'a', 'first_letter': 'm'}, 'female'),\n",
       " ({'last_letter': 'n', 'first_letter': 'd'}, 'female'),\n",
       " ({'last_letter': 'n', 'first_letter': 's'}, 'female'),\n",
       " ({'last_letter': 'e', 'first_letter': 'j'}, 'female'),\n",
       " ({'last_letter': 'a', 'first_letter': 'l'}, 'female'),\n",
       " ({'last_letter': 'n', 'first_letter': 'n'}, 'male'),\n",
       " ({'last_letter': 'e', 'first_letter': 'o'}, 'female'),\n",
       " ({'last_letter': 'e', 'first_letter': 'w'}, 'male'),\n",
       " ({'last_letter': 'i', 'first_letter': 't'}, 'female'),\n",
       " ({'last_letter': 'e', 'first_letter': 'k'}, 'female'),\n",
       " ({'last_letter': 's', 'first_letter': 't'}, 'male'),\n",
       " ({'last_letter': 'a', 'first_letter': 'a'}, 'female'),\n",
       " ({'last_letter': 'i', 'first_letter': 'j'}, 'female'),\n",
       " ({'last_letter': 'n', 'first_letter': 'n'}, 'male'),\n",
       " ({'last_letter': 'e', 'first_letter': 'm'}, 'female'),\n",
       " ({'last_letter': 'e', 'first_letter': 'j'}, 'male'),\n",
       " ({'last_letter': 'y', 'first_letter': 't'}, 'female'),\n",
       " ({'last_letter': 'g', 'first_letter': 'h'}, 'female'),\n",
       " ({'last_letter': 'a', 'first_letter': 'c'}, 'female'),\n",
       " ({'last_letter': 'a', 'first_letter': 'c'}, 'female'),\n",
       " ({'last_letter': 'e', 'first_letter': 'k'}, 'female'),\n",
       " ({'last_letter': 'n', 'first_letter': 'd'}, 'male'),\n",
       " ({'last_letter': 'y', 'first_letter': 's'}, 'female'),\n",
       " ({'last_letter': 'l', 'first_letter': 'n'}, 'male'),\n",
       " ({'last_letter': 's', 'first_letter': 'n'}, 'male'),\n",
       " ({'last_letter': 'a', 'first_letter': 's'}, 'female'),\n",
       " ({'last_letter': 'y', 'first_letter': 'c'}, 'male'),\n",
       " ({'last_letter': 'y', 'first_letter': 'g'}, 'female'),\n",
       " ({'last_letter': 'n', 'first_letter': 'p'}, 'male'),\n",
       " ({'last_letter': 'j', 'first_letter': 'r'}, 'male'),\n",
       " ({'last_letter': 's', 'first_letter': 'r'}, 'female'),\n",
       " ({'last_letter': 'o', 'first_letter': 'e'}, 'male'),\n",
       " ({'last_letter': 'e', 'first_letter': 'j'}, 'female'),\n",
       " ({'last_letter': 's', 'first_letter': 't'}, 'male'),\n",
       " ({'last_letter': 's', 'first_letter': 'b'}, 'female'),\n",
       " ({'last_letter': 't', 'first_letter': 'h'}, 'male'),\n",
       " ({'last_letter': 'a', 'first_letter': 'l'}, 'female'),\n",
       " ({'last_letter': 'l', 'first_letter': 'd'}, 'male'),\n",
       " ({'last_letter': 'a', 'first_letter': 'a'}, 'female'),\n",
       " ({'last_letter': 'e', 'first_letter': 'd'}, 'female'),\n",
       " ({'last_letter': 'a', 'first_letter': 'l'}, 'female'),\n",
       " ({'last_letter': 'n', 'first_letter': 'o'}, 'male'),\n",
       " ({'last_letter': 'e', 'first_letter': 'r'}, 'female'),\n",
       " ({'last_letter': 'e', 'first_letter': 'a'}, 'female'),\n",
       " ({'last_letter': 's', 'first_letter': 'd'}, 'male'),\n",
       " ({'last_letter': 'e', 'first_letter': 'd'}, 'female'),\n",
       " ({'last_letter': 'e', 'first_letter': 'a'}, 'female'),\n",
       " ({'last_letter': 'y', 'first_letter': 'h'}, 'male'),\n",
       " ({'last_letter': 's', 'first_letter': 'h'}, 'male'),\n",
       " ({'last_letter': 'e', 'first_letter': 'm'}, 'female'),\n",
       " ({'last_letter': 'o', 'first_letter': 'l'}, 'male'),\n",
       " ({'last_letter': 'e', 'first_letter': 'w'}, 'male'),\n",
       " ({'last_letter': 'k', 'first_letter': 'h'}, 'male'),\n",
       " ({'last_letter': 'n', 'first_letter': 'k'}, 'female'),\n",
       " ({'last_letter': 'e', 'first_letter': 'd'}, 'female'),\n",
       " ({'last_letter': 'a', 'first_letter': 'r'}, 'female'),\n",
       " ({'last_letter': 'a', 'first_letter': 'h'}, 'female'),\n",
       " ({'last_letter': 'e', 'first_letter': 'c'}, 'female'),\n",
       " ({'last_letter': 'n', 'first_letter': 'd'}, 'male'),\n",
       " ({'last_letter': 'e', 'first_letter': 'd'}, 'male'),\n",
       " ({'last_letter': 'n', 'first_letter': 'd'}, 'female'),\n",
       " ({'last_letter': 'e', 'first_letter': 'r'}, 'female'),\n",
       " ({'last_letter': 'e', 'first_letter': 'k'}, 'female'),\n",
       " ({'last_letter': 'e', 'first_letter': 'j'}, 'female'),\n",
       " ({'last_letter': 'b', 'first_letter': 'b'}, 'male'),\n",
       " ({'last_letter': 'a', 'first_letter': 'l'}, 'female'),\n",
       " ({'last_letter': 'e', 'first_letter': 'd'}, 'female'),\n",
       " ({'last_letter': 'y', 'first_letter': 'g'}, 'male'),\n",
       " ({'last_letter': 'y', 'first_letter': 'm'}, 'female'),\n",
       " ({'last_letter': 'n', 'first_letter': 'n'}, 'male'),\n",
       " ({'last_letter': 'e', 'first_letter': 'a'}, 'male'),\n",
       " ({'last_letter': 'a', 'first_letter': 'k'}, 'female'),\n",
       " ({'last_letter': 'e', 'first_letter': 's'}, 'female'),\n",
       " ({'last_letter': 'a', 'first_letter': 'e'}, 'female'),\n",
       " ({'last_letter': 'y', 'first_letter': 't'}, 'female'),\n",
       " ({'last_letter': 'a', 'first_letter': 'r'}, 'female'),\n",
       " ({'last_letter': 'k', 'first_letter': 'r'}, 'male'),\n",
       " ({'last_letter': 'e', 'first_letter': 'c'}, 'female'),\n",
       " ({'last_letter': 'a', 'first_letter': 'a'}, 'female'),\n",
       " ({'last_letter': 'd', 'first_letter': 'w'}, 'male'),\n",
       " ({'last_letter': 'k', 'first_letter': 'c'}, 'male'),\n",
       " ({'last_letter': 'e', 'first_letter': 'm'}, 'female'),\n",
       " ({'last_letter': 'y', 'first_letter': 'd'}, 'female'),\n",
       " ({'last_letter': 'a', 'first_letter': 't'}, 'female'),\n",
       " ({'last_letter': 'e', 'first_letter': 'a'}, 'female'),\n",
       " ({'last_letter': 'r', 'first_letter': 'd'}, 'female'),\n",
       " ({'last_letter': 'r', 'first_letter': 'd'}, 'female'),\n",
       " ({'last_letter': 'r', 'first_letter': 'l'}, 'male'),\n",
       " ({'last_letter': 'n', 'first_letter': 'i'}, 'male'),\n",
       " ({'last_letter': 'e', 'first_letter': 'a'}, 'female'),\n",
       " ({'last_letter': 'a', 'first_letter': 'l'}, 'female'),\n",
       " ({'last_letter': 'a', 'first_letter': 'c'}, 'female'),\n",
       " ({'last_letter': 'r', 'first_letter': 'r'}, 'male'),\n",
       " ({'last_letter': 'y', 'first_letter': 'd'}, 'female'),\n",
       " ({'last_letter': 'a', 'first_letter': 'j'}, 'male'),\n",
       " ({'last_letter': 'a', 'first_letter': 'l'}, 'female'),\n",
       " ({'last_letter': 'e', 'first_letter': 'r'}, 'male'),\n",
       " ({'last_letter': 'e', 'first_letter': 'e'}, 'female'),\n",
       " ({'last_letter': 'a', 'first_letter': 'b'}, 'female'),\n",
       " ({'last_letter': 'y', 'first_letter': 'j'}, 'female'),\n",
       " ({'last_letter': 'o', 'first_letter': 'd'}, 'male'),\n",
       " ({'last_letter': 'd', 'first_letter': 's'}, 'female'),\n",
       " ({'last_letter': 'y', 'first_letter': 'a'}, 'female'),\n",
       " ({'last_letter': 'a', 'first_letter': 'e'}, 'female'),\n",
       " ({'last_letter': 'n', 'first_letter': 'f'}, 'female'),\n",
       " ({'last_letter': 's', 'first_letter': 'p'}, 'female'),\n",
       " ({'last_letter': 'i', 'first_letter': 'i'}, 'female'),\n",
       " ({'last_letter': 'e', 'first_letter': 'e'}, 'female'),\n",
       " ({'last_letter': 'y', 'first_letter': 'a'}, 'male'),\n",
       " ({'last_letter': 'a', 'first_letter': 'r'}, 'female'),\n",
       " ({'last_letter': 'a', 'first_letter': 'l'}, 'female'),\n",
       " ({'last_letter': 'l', 'first_letter': 'j'}, 'female'),\n",
       " ({'last_letter': 'r', 'first_letter': 'f'}, 'female'),\n",
       " ({'last_letter': 'i', 'first_letter': 'c'}, 'female'),\n",
       " ({'last_letter': 'y', 'first_letter': 'l'}, 'female'),\n",
       " ({'last_letter': 'm', 'first_letter': 'n'}, 'male'),\n",
       " ({'last_letter': 's', 'first_letter': 'm'}, 'male'),\n",
       " ({'last_letter': 'a', 'first_letter': 's'}, 'female'),\n",
       " ({'last_letter': 'e', 'first_letter': 'd'}, 'female'),\n",
       " ({'last_letter': 'm', 'first_letter': 'w'}, 'male'),\n",
       " ({'last_letter': 't', 'first_letter': 'm'}, 'male'),\n",
       " ({'last_letter': 's', 'first_letter': 't'}, 'male'),\n",
       " ({'last_letter': 'a', 'first_letter': 'e'}, 'female'),\n",
       " ({'last_letter': 'd', 'first_letter': 'h'}, 'male'),\n",
       " ({'last_letter': 'n', 'first_letter': 's'}, 'male'),\n",
       " ({'last_letter': 'y', 'first_letter': 'w'}, 'female'),\n",
       " ({'last_letter': 'e', 'first_letter': 'c'}, 'female'),\n",
       " ({'last_letter': 'c', 'first_letter': 'a'}, 'male'),\n",
       " ({'last_letter': 'd', 'first_letter': 'f'}, 'female'),\n",
       " ({'last_letter': 's', 'first_letter': 't'}, 'male'),\n",
       " ({'last_letter': 'o', 'first_letter': 'o'}, 'male'),\n",
       " ({'last_letter': 'e', 'first_letter': 'f'}, 'female'),\n",
       " ({'last_letter': 'w', 'first_letter': 's'}, 'male'),\n",
       " ({'last_letter': 'a', 'first_letter': 'f'}, 'female'),\n",
       " ({'last_letter': 'y', 'first_letter': 'l'}, 'female'),\n",
       " ({'last_letter': 'n', 'first_letter': 't'}, 'male'),\n",
       " ({'last_letter': 'h', 'first_letter': 'z'}, 'male'),\n",
       " ({'last_letter': 'e', 'first_letter': 'n'}, 'female'),\n",
       " ({'last_letter': 'e', 'first_letter': 'p'}, 'female'),\n",
       " ({'last_letter': 'a', 'first_letter': 'd'}, 'female'),\n",
       " ({'last_letter': 'a', 'first_letter': 'r'}, 'female'),\n",
       " ({'last_letter': 'o', 'first_letter': 'r'}, 'female'),\n",
       " ({'last_letter': 'l', 'first_letter': 'g'}, 'female'),\n",
       " ({'last_letter': 'a', 'first_letter': 'e'}, 'female'),\n",
       " ({'last_letter': 'e', 'first_letter': 'b'}, 'male'),\n",
       " ({'last_letter': 'a', 'first_letter': 'c'}, 'female'),\n",
       " ({'last_letter': 'a', 'first_letter': 't'}, 'female'),\n",
       " ({'last_letter': 'a', 'first_letter': 'l'}, 'female'),\n",
       " ({'last_letter': 'y', 'first_letter': 'e'}, 'female'),\n",
       " ({'last_letter': 'n', 'first_letter': 'g'}, 'female'),\n",
       " ({'last_letter': 't', 'first_letter': 'r'}, 'male'),\n",
       " ({'last_letter': 'g', 'first_letter': 'd'}, 'male'),\n",
       " ({'last_letter': 'e', 'first_letter': 's'}, 'female'),\n",
       " ({'last_letter': 'e', 'first_letter': 'g'}, 'female'),\n",
       " ({'last_letter': 'a', 'first_letter': 's'}, 'male'),\n",
       " ({'last_letter': 'e', 'first_letter': 'e'}, 'female'),\n",
       " ({'last_letter': 's', 'first_letter': 'h'}, 'male'),\n",
       " ({'last_letter': 'i', 'first_letter': 'a'}, 'female'),\n",
       " ({'last_letter': 'm', 'first_letter': 's'}, 'male'),\n",
       " ({'last_letter': 'e', 'first_letter': 'l'}, 'female'),\n",
       " ({'last_letter': 'a', 'first_letter': 'e'}, 'female'),\n",
       " ({'last_letter': 'e', 'first_letter': 't'}, 'female'),\n",
       " ({'last_letter': 't', 'first_letter': 'p'}, 'male'),\n",
       " ({'last_letter': 'i', 'first_letter': 'b'}, 'female'),\n",
       " ({'last_letter': 'i', 'first_letter': 'a'}, 'male'),\n",
       " ({'last_letter': 'a', 'first_letter': 'j'}, 'female'),\n",
       " ({'last_letter': 'l', 'first_letter': 'l'}, 'female'),\n",
       " ({'last_letter': 'd', 'first_letter': 't'}, 'male'),\n",
       " ({'last_letter': 'a', 'first_letter': 's'}, 'female'),\n",
       " ({'last_letter': 'i', 'first_letter': 'd'}, 'female'),\n",
       " ({'last_letter': 'h', 'first_letter': 'j'}, 'male'),\n",
       " ({'last_letter': 'y', 'first_letter': 't'}, 'male'),\n",
       " ({'last_letter': 's', 'first_letter': 'a'}, 'female'),\n",
       " ({'last_letter': 'e', 'first_letter': 'a'}, 'female'),\n",
       " ({'last_letter': 'e', 'first_letter': 'm'}, 'female'),\n",
       " ({'last_letter': 's', 'first_letter': 'b'}, 'male'),\n",
       " ({'last_letter': 'i', 'first_letter': 't'}, 'female'),\n",
       " ({'last_letter': 'y', 'first_letter': 'b'}, 'male'),\n",
       " ({'last_letter': 'm', 'first_letter': 'a'}, 'male'),\n",
       " ({'last_letter': 'e', 'first_letter': 'd'}, 'female'),\n",
       " ({'last_letter': 'y', 'first_letter': 'p'}, 'male'),\n",
       " ({'last_letter': 'a', 'first_letter': 'm'}, 'female'),\n",
       " ({'last_letter': 'y', 'first_letter': 'l'}, 'female'),\n",
       " ({'last_letter': 'a', 'first_letter': 'g'}, 'female'),\n",
       " ({'last_letter': 'y', 'first_letter': 's'}, 'female'),\n",
       " ({'last_letter': 's', 'first_letter': 'j'}, 'male'),\n",
       " ({'last_letter': 'e', 'first_letter': 'r'}, 'female'),\n",
       " ({'last_letter': 'n', 'first_letter': 'm'}, 'female'),\n",
       " ({'last_letter': 'e', 'first_letter': 'm'}, 'female'),\n",
       " ({'last_letter': 'l', 'first_letter': 'o'}, 'female'),\n",
       " ({'last_letter': 'd', 'first_letter': 's'}, 'male'),\n",
       " ({'last_letter': 'e', 'first_letter': 's'}, 'male'),\n",
       " ({'last_letter': 'd', 'first_letter': 'g'}, 'male')]"
      ]
     },
     "execution_count": 162,
     "metadata": {},
     "output_type": "execute_result"
    }
   ],
   "source": [
    "dev_test_set"
   ]
  },
  {
   "cell_type": "code",
   "execution_count": 163,
   "metadata": {},
   "outputs": [],
   "source": [
    "errors = []\n",
    "for (name,tag) in dev_test:\n",
    "    guess = classifier_b.classify(gender_features(name))\n",
    "    if guess != tag:\n",
    "        errors.append((tag,guess,name))"
   ]
  },
  {
   "cell_type": "code",
   "execution_count": 164,
   "metadata": {},
   "outputs": [],
   "source": [
    "errors_df = pd.DataFrame(errors).rename(columns={0:'correct', 1:'guess', 2:'name'})"
   ]
  },
  {
   "cell_type": "markdown",
   "metadata": {},
   "source": [
    "Looking at the errors log, we can begin to explore some additional features that may be helpful in improving our model. "
   ]
  },
  {
   "cell_type": "code",
   "execution_count": 165,
   "metadata": {},
   "outputs": [],
   "source": [
    "r2_errors = errors_df.sort_values(by=['correct','name'], ascending=[False,True])"
   ]
  },
  {
   "cell_type": "code",
   "execution_count": 166,
   "metadata": {},
   "outputs": [
    {
     "data": {
      "text/html": [
       "<div>\n",
       "<style scoped>\n",
       "    .dataframe tbody tr th:only-of-type {\n",
       "        vertical-align: middle;\n",
       "    }\n",
       "\n",
       "    .dataframe tbody tr th {\n",
       "        vertical-align: top;\n",
       "    }\n",
       "\n",
       "    .dataframe thead th {\n",
       "        text-align: right;\n",
       "    }\n",
       "</style>\n",
       "<table border=\"1\" class=\"dataframe\">\n",
       "  <thead>\n",
       "    <tr style=\"text-align: right;\">\n",
       "      <th></th>\n",
       "      <th>correct</th>\n",
       "      <th>guess</th>\n",
       "      <th>name</th>\n",
       "    </tr>\n",
       "  </thead>\n",
       "  <tbody>\n",
       "    <tr>\n",
       "      <th>68</th>\n",
       "      <td>male</td>\n",
       "      <td>female</td>\n",
       "      <td>Ajai</td>\n",
       "    </tr>\n",
       "    <tr>\n",
       "      <th>49</th>\n",
       "      <td>male</td>\n",
       "      <td>female</td>\n",
       "      <td>Alfie</td>\n",
       "    </tr>\n",
       "    <tr>\n",
       "      <th>58</th>\n",
       "      <td>male</td>\n",
       "      <td>female</td>\n",
       "      <td>Andrey</td>\n",
       "    </tr>\n",
       "    <tr>\n",
       "      <th>65</th>\n",
       "      <td>male</td>\n",
       "      <td>female</td>\n",
       "      <td>Barnie</td>\n",
       "    </tr>\n",
       "    <tr>\n",
       "      <th>0</th>\n",
       "      <td>male</td>\n",
       "      <td>female</td>\n",
       "      <td>Barri</td>\n",
       "    </tr>\n",
       "  </tbody>\n",
       "</table>\n",
       "</div>"
      ],
      "text/plain": [
       "   correct   guess    name\n",
       "68    male  female    Ajai\n",
       "49    male  female   Alfie\n",
       "58    male  female  Andrey\n",
       "65    male  female  Barnie\n",
       "0     male  female   Barri"
      ]
     },
     "execution_count": 166,
     "metadata": {},
     "output_type": "execute_result"
    }
   ],
   "source": [
    "r2_errors.head()"
   ]
  },
  {
   "cell_type": "markdown",
   "metadata": {},
   "source": [
    "I've decided to try out the combination of the first and last letter as a potential feature. When looking at the errors data frame based on this feature, there are a lot of 0s in the count, suggesting that it may represent a pretty linear decision boundary. Thus, I will incorporate this in the next updates to our feature set function"
   ]
  },
  {
   "cell_type": "code",
   "execution_count": 167,
   "metadata": {},
   "outputs": [],
   "source": [
    "errors_info = [{'first_letter':r2_errors.loc[i,'name'][0].lower(), \\\n",
    "    'first_last':r2_errors.loc[i,'name'][0].lower()+r2_errors.loc[i,'name'][-1:].lower(), \\\n",
    "    'correct':r2_errors.loc[i,'correct'], \\\n",
    "        'guess':r2_errors.loc[i,'guess']} for i in range(len(r2_errors))]"
   ]
  },
  {
   "cell_type": "code",
   "execution_count": 168,
   "metadata": {},
   "outputs": [
    {
     "data": {
      "text/html": [
       "<div>\n",
       "<style scoped>\n",
       "    .dataframe tbody tr th:only-of-type {\n",
       "        vertical-align: middle;\n",
       "    }\n",
       "\n",
       "    .dataframe tbody tr th {\n",
       "        vertical-align: top;\n",
       "    }\n",
       "\n",
       "    .dataframe thead th {\n",
       "        text-align: right;\n",
       "    }\n",
       "</style>\n",
       "<table border=\"1\" class=\"dataframe\">\n",
       "  <thead>\n",
       "    <tr style=\"text-align: right;\">\n",
       "      <th>correct</th>\n",
       "      <th>female</th>\n",
       "      <th>male</th>\n",
       "    </tr>\n",
       "    <tr>\n",
       "      <th>first_last</th>\n",
       "      <th></th>\n",
       "      <th></th>\n",
       "    </tr>\n",
       "  </thead>\n",
       "  <tbody>\n",
       "    <tr>\n",
       "      <th>ae</th>\n",
       "      <td>0</td>\n",
       "      <td>1</td>\n",
       "    </tr>\n",
       "    <tr>\n",
       "      <th>ai</th>\n",
       "      <td>0</td>\n",
       "      <td>1</td>\n",
       "    </tr>\n",
       "    <tr>\n",
       "      <th>as</th>\n",
       "      <td>2</td>\n",
       "      <td>0</td>\n",
       "    </tr>\n",
       "    <tr>\n",
       "      <th>ay</th>\n",
       "      <td>0</td>\n",
       "      <td>1</td>\n",
       "    </tr>\n",
       "    <tr>\n",
       "      <th>bb</th>\n",
       "      <td>0</td>\n",
       "      <td>1</td>\n",
       "    </tr>\n",
       "    <tr>\n",
       "      <th>be</th>\n",
       "      <td>0</td>\n",
       "      <td>1</td>\n",
       "    </tr>\n",
       "    <tr>\n",
       "      <th>bi</th>\n",
       "      <td>0</td>\n",
       "      <td>1</td>\n",
       "    </tr>\n",
       "    <tr>\n",
       "      <th>bs</th>\n",
       "      <td>1</td>\n",
       "      <td>0</td>\n",
       "    </tr>\n",
       "    <tr>\n",
       "      <th>by</th>\n",
       "      <td>0</td>\n",
       "      <td>1</td>\n",
       "    </tr>\n",
       "    <tr>\n",
       "      <th>cl</th>\n",
       "      <td>0</td>\n",
       "      <td>1</td>\n",
       "    </tr>\n",
       "    <tr>\n",
       "      <th>cy</th>\n",
       "      <td>0</td>\n",
       "      <td>2</td>\n",
       "    </tr>\n",
       "    <tr>\n",
       "      <th>de</th>\n",
       "      <td>0</td>\n",
       "      <td>3</td>\n",
       "    </tr>\n",
       "    <tr>\n",
       "      <th>dl</th>\n",
       "      <td>0</td>\n",
       "      <td>1</td>\n",
       "    </tr>\n",
       "    <tr>\n",
       "      <th>dn</th>\n",
       "      <td>3</td>\n",
       "      <td>0</td>\n",
       "    </tr>\n",
       "    <tr>\n",
       "      <th>dr</th>\n",
       "      <td>2</td>\n",
       "      <td>0</td>\n",
       "    </tr>\n",
       "    <tr>\n",
       "      <th>ds</th>\n",
       "      <td>1</td>\n",
       "      <td>0</td>\n",
       "    </tr>\n",
       "    <tr>\n",
       "      <th>fd</th>\n",
       "      <td>1</td>\n",
       "      <td>0</td>\n",
       "    </tr>\n",
       "    <tr>\n",
       "      <th>fn</th>\n",
       "      <td>1</td>\n",
       "      <td>0</td>\n",
       "    </tr>\n",
       "    <tr>\n",
       "      <th>fr</th>\n",
       "      <td>2</td>\n",
       "      <td>0</td>\n",
       "    </tr>\n",
       "    <tr>\n",
       "      <th>gl</th>\n",
       "      <td>2</td>\n",
       "      <td>0</td>\n",
       "    </tr>\n",
       "    <tr>\n",
       "      <th>gn</th>\n",
       "      <td>1</td>\n",
       "      <td>0</td>\n",
       "    </tr>\n",
       "    <tr>\n",
       "      <th>gy</th>\n",
       "      <td>1</td>\n",
       "      <td>0</td>\n",
       "    </tr>\n",
       "    <tr>\n",
       "      <th>hg</th>\n",
       "      <td>2</td>\n",
       "      <td>0</td>\n",
       "    </tr>\n",
       "    <tr>\n",
       "      <th>il</th>\n",
       "      <td>0</td>\n",
       "      <td>1</td>\n",
       "    </tr>\n",
       "    <tr>\n",
       "      <th>ja</th>\n",
       "      <td>0</td>\n",
       "      <td>1</td>\n",
       "    </tr>\n",
       "    <tr>\n",
       "      <th>je</th>\n",
       "      <td>0</td>\n",
       "      <td>2</td>\n",
       "    </tr>\n",
       "    <tr>\n",
       "      <th>jl</th>\n",
       "      <td>0</td>\n",
       "      <td>1</td>\n",
       "    </tr>\n",
       "    <tr>\n",
       "      <th>jn</th>\n",
       "      <td>0</td>\n",
       "      <td>1</td>\n",
       "    </tr>\n",
       "    <tr>\n",
       "      <th>jy</th>\n",
       "      <td>1</td>\n",
       "      <td>0</td>\n",
       "    </tr>\n",
       "    <tr>\n",
       "      <th>ke</th>\n",
       "      <td>0</td>\n",
       "      <td>1</td>\n",
       "    </tr>\n",
       "    <tr>\n",
       "      <th>kn</th>\n",
       "      <td>0</td>\n",
       "      <td>1</td>\n",
       "    </tr>\n",
       "    <tr>\n",
       "      <th>ls</th>\n",
       "      <td>1</td>\n",
       "      <td>0</td>\n",
       "    </tr>\n",
       "    <tr>\n",
       "      <th>me</th>\n",
       "      <td>0</td>\n",
       "      <td>3</td>\n",
       "    </tr>\n",
       "    <tr>\n",
       "      <th>ml</th>\n",
       "      <td>1</td>\n",
       "      <td>0</td>\n",
       "    </tr>\n",
       "    <tr>\n",
       "      <th>mt</th>\n",
       "      <td>0</td>\n",
       "      <td>1</td>\n",
       "    </tr>\n",
       "    <tr>\n",
       "      <th>no</th>\n",
       "      <td>1</td>\n",
       "      <td>0</td>\n",
       "    </tr>\n",
       "    <tr>\n",
       "      <th>ol</th>\n",
       "      <td>1</td>\n",
       "      <td>0</td>\n",
       "    </tr>\n",
       "    <tr>\n",
       "      <th>pn</th>\n",
       "      <td>1</td>\n",
       "      <td>0</td>\n",
       "    </tr>\n",
       "    <tr>\n",
       "      <th>py</th>\n",
       "      <td>0</td>\n",
       "      <td>1</td>\n",
       "    </tr>\n",
       "    <tr>\n",
       "      <th>rd</th>\n",
       "      <td>1</td>\n",
       "      <td>0</td>\n",
       "    </tr>\n",
       "    <tr>\n",
       "      <th>re</th>\n",
       "      <td>0</td>\n",
       "      <td>2</td>\n",
       "    </tr>\n",
       "    <tr>\n",
       "      <th>rn</th>\n",
       "      <td>0</td>\n",
       "      <td>1</td>\n",
       "    </tr>\n",
       "    <tr>\n",
       "      <th>ro</th>\n",
       "      <td>1</td>\n",
       "      <td>0</td>\n",
       "    </tr>\n",
       "    <tr>\n",
       "      <th>rs</th>\n",
       "      <td>1</td>\n",
       "      <td>0</td>\n",
       "    </tr>\n",
       "    <tr>\n",
       "      <th>sa</th>\n",
       "      <td>0</td>\n",
       "      <td>1</td>\n",
       "    </tr>\n",
       "    <tr>\n",
       "      <th>sd</th>\n",
       "      <td>1</td>\n",
       "      <td>0</td>\n",
       "    </tr>\n",
       "    <tr>\n",
       "      <th>se</th>\n",
       "      <td>0</td>\n",
       "      <td>1</td>\n",
       "    </tr>\n",
       "    <tr>\n",
       "      <th>sn</th>\n",
       "      <td>2</td>\n",
       "      <td>0</td>\n",
       "    </tr>\n",
       "    <tr>\n",
       "      <th>sy</th>\n",
       "      <td>4</td>\n",
       "      <td>0</td>\n",
       "    </tr>\n",
       "    <tr>\n",
       "      <th>te</th>\n",
       "      <td>0</td>\n",
       "      <td>2</td>\n",
       "    </tr>\n",
       "    <tr>\n",
       "      <th>ty</th>\n",
       "      <td>3</td>\n",
       "      <td>0</td>\n",
       "    </tr>\n",
       "    <tr>\n",
       "      <th>vn</th>\n",
       "      <td>1</td>\n",
       "      <td>0</td>\n",
       "    </tr>\n",
       "    <tr>\n",
       "      <th>vv</th>\n",
       "      <td>0</td>\n",
       "      <td>1</td>\n",
       "    </tr>\n",
       "    <tr>\n",
       "      <th>wy</th>\n",
       "      <td>1</td>\n",
       "      <td>0</td>\n",
       "    </tr>\n",
       "  </tbody>\n",
       "</table>\n",
       "</div>"
      ],
      "text/plain": [
       "correct     female  male\n",
       "first_last              \n",
       "ae               0     1\n",
       "ai               0     1\n",
       "as               2     0\n",
       "ay               0     1\n",
       "bb               0     1\n",
       "be               0     1\n",
       "bi               0     1\n",
       "bs               1     0\n",
       "by               0     1\n",
       "cl               0     1\n",
       "cy               0     2\n",
       "de               0     3\n",
       "dl               0     1\n",
       "dn               3     0\n",
       "dr               2     0\n",
       "ds               1     0\n",
       "fd               1     0\n",
       "fn               1     0\n",
       "fr               2     0\n",
       "gl               2     0\n",
       "gn               1     0\n",
       "gy               1     0\n",
       "hg               2     0\n",
       "il               0     1\n",
       "ja               0     1\n",
       "je               0     2\n",
       "jl               0     1\n",
       "jn               0     1\n",
       "jy               1     0\n",
       "ke               0     1\n",
       "kn               0     1\n",
       "ls               1     0\n",
       "me               0     3\n",
       "ml               1     0\n",
       "mt               0     1\n",
       "no               1     0\n",
       "ol               1     0\n",
       "pn               1     0\n",
       "py               0     1\n",
       "rd               1     0\n",
       "re               0     2\n",
       "rn               0     1\n",
       "ro               1     0\n",
       "rs               1     0\n",
       "sa               0     1\n",
       "sd               1     0\n",
       "se               0     1\n",
       "sn               2     0\n",
       "sy               4     0\n",
       "te               0     2\n",
       "ty               3     0\n",
       "vn               1     0\n",
       "vv               0     1\n",
       "wy               1     0"
      ]
     },
     "execution_count": 168,
     "metadata": {},
     "output_type": "execute_result"
    }
   ],
   "source": [
    "x = pd.DataFrame(errors_info).sort_values(by='first_letter')\n",
    "pd.crosstab(x['first_last'], x['correct'])"
   ]
  },
  {
   "cell_type": "markdown",
   "metadata": {},
   "source": [
    "##### **3.3 Round 3**"
   ]
  },
  {
   "cell_type": "code",
   "execution_count": 169,
   "metadata": {},
   "outputs": [],
   "source": [
    "def gender_features(word):\n",
    "    features = {'last_letter':word[-1], 'first_letter':word[0].lower(), 'first_last':word[0].lower()+word[-1:]}\n",
    "    return features"
   ]
  },
  {
   "cell_type": "code",
   "execution_count": 170,
   "metadata": {},
   "outputs": [],
   "source": [
    "featuresets = [(gender_features(n),g) for (n,g) in names]"
   ]
  },
  {
   "cell_type": "code",
   "execution_count": 171,
   "metadata": {},
   "outputs": [],
   "source": [
    "train_set = [(gender_features(n),g) for (n,g) in train]\n",
    "test_set = [(gender_features(n),g) for (n,g) in test]\n",
    "dev_test_set = [(gender_features(n),g) for (n,g) in dev_test]"
   ]
  },
  {
   "cell_type": "code",
   "execution_count": 172,
   "metadata": {},
   "outputs": [],
   "source": [
    "classifier_a = nltk.NaiveBayesClassifier.train(train_set)\n",
    "classifier_b = nltk.DecisionTreeClassifier.train(train_set)"
   ]
  },
  {
   "cell_type": "markdown",
   "metadata": {},
   "source": [
    "We see that this new feature improved our Naive Bayes classifier from 79.6% to 81.8%, while the Decision Tree Classifier did not improve much."
   ]
  },
  {
   "cell_type": "code",
   "execution_count": 173,
   "metadata": {},
   "outputs": [
    {
     "name": "stdout",
     "output_type": "stream",
     "text": [
      "Naive Bayes Classifier Accuracy: 0.774798927613941\n",
      "Decision Tree Classifier Accuracy: 0.7694369973190348\n"
     ]
    }
   ],
   "source": [
    "print('Naive Bayes Classifier Accuracy: {}'.format(nltk.classify.accuracy(classifier_a,test_set)))\n",
    "print('Decision Tree Classifier Accuracy: {}'.format(nltk.classify.accuracy(classifier_b,test_set)))"
   ]
  },
  {
   "cell_type": "code",
   "execution_count": 174,
   "metadata": {},
   "outputs": [
    {
     "data": {
      "text/plain": [
       "[({'last_letter': 'a', 'first_letter': 'b', 'first_last': 'ba'}, 'female'),\n",
       " ({'last_letter': 'i', 'first_letter': 'b', 'first_last': 'bi'}, 'male'),\n",
       " ({'last_letter': 'a', 'first_letter': 'k', 'first_last': 'ka'}, 'female'),\n",
       " ({'last_letter': 'r', 'first_letter': 's', 'first_last': 'sr'}, 'male'),\n",
       " ({'last_letter': 'a', 'first_letter': 'a', 'first_last': 'aa'}, 'female'),\n",
       " ({'last_letter': 'e', 'first_letter': 'd', 'first_last': 'de'}, 'female'),\n",
       " ({'last_letter': 'a', 'first_letter': 'm', 'first_last': 'ma'}, 'female'),\n",
       " ({'last_letter': 'h', 'first_letter': 'j', 'first_last': 'jh'}, 'male'),\n",
       " ({'last_letter': 'a', 'first_letter': 'e', 'first_last': 'ea'}, 'female'),\n",
       " ({'last_letter': 'a', 'first_letter': 'a', 'first_last': 'aa'}, 'female'),\n",
       " ({'last_letter': 'e', 'first_letter': 't', 'first_last': 'te'}, 'male'),\n",
       " ({'last_letter': 'l', 'first_letter': 'a', 'first_last': 'al'}, 'female'),\n",
       " ({'last_letter': 'e', 'first_letter': 'f', 'first_last': 'fe'}, 'female'),\n",
       " ({'last_letter': 'a', 'first_letter': 'o', 'first_last': 'oa'}, 'female'),\n",
       " ({'last_letter': 'i', 'first_letter': 't', 'first_last': 'ti'}, 'female'),\n",
       " ({'last_letter': 'e', 'first_letter': 'm', 'first_last': 'me'}, 'male'),\n",
       " ({'last_letter': 's', 'first_letter': 'a', 'first_last': 'as'}, 'female'),\n",
       " ({'last_letter': 'e', 'first_letter': 'b', 'first_last': 'be'}, 'female'),\n",
       " ({'last_letter': 'e', 'first_letter': 'r', 'first_last': 're'}, 'female'),\n",
       " ({'last_letter': 's', 'first_letter': 'j', 'first_last': 'js'}, 'male'),\n",
       " ({'last_letter': 'a', 'first_letter': 'm', 'first_last': 'ma'}, 'female'),\n",
       " ({'last_letter': 'v', 'first_letter': 'v', 'first_last': 'vv'}, 'male'),\n",
       " ({'last_letter': 'e', 'first_letter': 'k', 'first_last': 'ke'}, 'male'),\n",
       " ({'last_letter': 'l', 'first_letter': 'p', 'first_last': 'pl'}, 'male'),\n",
       " ({'last_letter': 'e', 'first_letter': 'r', 'first_last': 're'}, 'female'),\n",
       " ({'last_letter': 'e', 'first_letter': 'n', 'first_last': 'ne'}, 'female'),\n",
       " ({'last_letter': 'a', 'first_letter': 'c', 'first_last': 'ca'}, 'female'),\n",
       " ({'last_letter': 'y', 'first_letter': 'k', 'first_last': 'ky'}, 'female'),\n",
       " ({'last_letter': 'l', 'first_letter': 'm', 'first_last': 'ml'}, 'female'),\n",
       " ({'last_letter': 'e', 'first_letter': 'm', 'first_last': 'me'}, 'female'),\n",
       " ({'last_letter': 'y', 'first_letter': 's', 'first_last': 'sy'}, 'female'),\n",
       " ({'last_letter': 'a', 'first_letter': 'd', 'first_last': 'da'}, 'female'),\n",
       " ({'last_letter': 'n', 'first_letter': 'l', 'first_last': 'ln'}, 'male'),\n",
       " ({'last_letter': 'e', 'first_letter': 'n', 'first_last': 'ne'}, 'female'),\n",
       " ({'last_letter': 'a', 'first_letter': 'c', 'first_last': 'ca'}, 'female'),\n",
       " ({'last_letter': 'e', 'first_letter': 't', 'first_last': 'te'}, 'female'),\n",
       " ({'last_letter': 'l', 'first_letter': 'a', 'first_last': 'al'}, 'female'),\n",
       " ({'last_letter': 'a', 'first_letter': 't', 'first_last': 'ta'}, 'female'),\n",
       " ({'last_letter': 'y', 'first_letter': 'a', 'first_last': 'ay'}, 'female'),\n",
       " ({'last_letter': 'c', 'first_letter': 'i', 'first_last': 'ic'}, 'male'),\n",
       " ({'last_letter': 'd', 'first_letter': 't', 'first_last': 'td'}, 'male'),\n",
       " ({'last_letter': 'n', 'first_letter': 'd', 'first_last': 'dn'}, 'female'),\n",
       " ({'last_letter': 'h', 'first_letter': 'm', 'first_last': 'mh'}, 'female'),\n",
       " ({'last_letter': 'y', 'first_letter': 'v', 'first_last': 'vy'}, 'female'),\n",
       " ({'last_letter': 'e', 'first_letter': 'h', 'first_last': 'he'}, 'female'),\n",
       " ({'last_letter': 'y', 'first_letter': 'k', 'first_last': 'ky'}, 'female'),\n",
       " ({'last_letter': 'a', 'first_letter': 'd', 'first_last': 'da'}, 'female'),\n",
       " ({'last_letter': 'n', 'first_letter': 'd', 'first_last': 'dn'}, 'male'),\n",
       " ({'last_letter': 'y', 'first_letter': 'd', 'first_last': 'dy'}, 'female'),\n",
       " ({'last_letter': 'd', 'first_letter': 'r', 'first_last': 'rd'}, 'male'),\n",
       " ({'last_letter': 'e', 'first_letter': 'h', 'first_last': 'he'}, 'female'),\n",
       " ({'last_letter': 'a', 'first_letter': 'r', 'first_last': 'ra'}, 'female'),\n",
       " ({'last_letter': 'd', 'first_letter': 'p', 'first_last': 'pd'}, 'male'),\n",
       " ({'last_letter': 'e', 'first_letter': 'd', 'first_last': 'de'}, 'male'),\n",
       " ({'last_letter': 't', 'first_letter': 'b', 'first_last': 'bt'}, 'male'),\n",
       " ({'last_letter': 'n', 'first_letter': 'v', 'first_last': 'vn'}, 'female'),\n",
       " ({'last_letter': 'e', 'first_letter': 'i', 'first_last': 'ie'}, 'female'),\n",
       " ({'last_letter': 'e', 'first_letter': 'g', 'first_last': 'ge'}, 'female'),\n",
       " ({'last_letter': 's', 'first_letter': 'l', 'first_last': 'ls'}, 'female'),\n",
       " ({'last_letter': 'o', 'first_letter': 's', 'first_last': 'so'}, 'male'),\n",
       " ({'last_letter': 'k', 'first_letter': 'u', 'first_last': 'uk'}, 'male'),\n",
       " ({'last_letter': 'a', 'first_letter': 'l', 'first_last': 'la'}, 'female'),\n",
       " ({'last_letter': 's', 'first_letter': 'l', 'first_last': 'ls'}, 'male'),\n",
       " ({'last_letter': 'a', 'first_letter': 'm', 'first_last': 'ma'}, 'female'),\n",
       " ({'last_letter': 'e', 'first_letter': 'j', 'first_last': 'je'}, 'male'),\n",
       " ({'last_letter': 'y', 'first_letter': 'b', 'first_last': 'by'}, 'female'),\n",
       " ({'last_letter': 'l', 'first_letter': 'e', 'first_last': 'el'}, 'male'),\n",
       " ({'last_letter': 'i', 'first_letter': 'b', 'first_last': 'bi'}, 'female'),\n",
       " ({'last_letter': 'y', 'first_letter': 'e', 'first_last': 'ey'}, 'female'),\n",
       " ({'last_letter': 'n', 'first_letter': 'p', 'first_last': 'pn'}, 'female'),\n",
       " ({'last_letter': 'e', 'first_letter': 'c', 'first_last': 'ce'}, 'female'),\n",
       " ({'last_letter': 'o', 'first_letter': 'n', 'first_last': 'no'}, 'female'),\n",
       " ({'last_letter': 'l', 'first_letter': 'k', 'first_last': 'kl'}, 'female'),\n",
       " ({'last_letter': 'y', 'first_letter': 'k', 'first_last': 'ky'}, 'female'),\n",
       " ({'last_letter': 'l', 'first_letter': 'j', 'first_last': 'jl'}, 'male'),\n",
       " ({'last_letter': 'e', 'first_letter': 't', 'first_last': 'te'}, 'female'),\n",
       " ({'last_letter': 'i', 'first_letter': 'c', 'first_last': 'ci'}, 'female'),\n",
       " ({'last_letter': 'l', 'first_letter': 'm', 'first_last': 'ml'}, 'male'),\n",
       " ({'last_letter': 'a', 'first_letter': 'a', 'first_last': 'aa'}, 'female'),\n",
       " ({'last_letter': 't', 'first_letter': 'e', 'first_last': 'et'}, 'male'),\n",
       " ({'last_letter': 'a', 'first_letter': 'c', 'first_last': 'ca'}, 'female'),\n",
       " ({'last_letter': 'l', 'first_letter': 'c', 'first_last': 'cl'}, 'female'),\n",
       " ({'last_letter': 'o', 'first_letter': 'f', 'first_last': 'fo'}, 'male'),\n",
       " ({'last_letter': 'a', 'first_letter': 'd', 'first_last': 'da'}, 'female'),\n",
       " ({'last_letter': 'y', 'first_letter': 'b', 'first_last': 'by'}, 'female'),\n",
       " ({'last_letter': 'r', 'first_letter': 'w', 'first_last': 'wr'}, 'male'),\n",
       " ({'last_letter': 'd', 'first_letter': 'r', 'first_last': 'rd'}, 'female'),\n",
       " ({'last_letter': 'a', 'first_letter': 'r', 'first_last': 'ra'}, 'female'),\n",
       " ({'last_letter': 'e', 'first_letter': 's', 'first_last': 'se'}, 'female'),\n",
       " ({'last_letter': 's', 'first_letter': 'm', 'first_last': 'ms'}, 'male'),\n",
       " ({'last_letter': 'e', 'first_letter': 'm', 'first_last': 'me'}, 'male'),\n",
       " ({'last_letter': 'a', 'first_letter': 'z', 'first_last': 'za'}, 'female'),\n",
       " ({'last_letter': 'y', 'first_letter': 's', 'first_last': 'sy'}, 'male'),\n",
       " ({'last_letter': 'n', 'first_letter': 'k', 'first_last': 'kn'}, 'female'),\n",
       " ({'last_letter': 'a', 'first_letter': 'o', 'first_last': 'oa'}, 'female'),\n",
       " ({'last_letter': 'a', 'first_letter': 'f', 'first_last': 'fa'}, 'female'),\n",
       " ({'last_letter': 'a', 'first_letter': 'c', 'first_last': 'ca'}, 'female'),\n",
       " ({'last_letter': 'e', 'first_letter': 'k', 'first_last': 'ke'}, 'female'),\n",
       " ({'last_letter': 'e', 'first_letter': 'd', 'first_last': 'de'}, 'female'),\n",
       " ({'last_letter': 'a', 'first_letter': 'f', 'first_last': 'fa'}, 'female'),\n",
       " ({'last_letter': 'n', 'first_letter': 'c', 'first_last': 'cn'}, 'female'),\n",
       " ({'last_letter': 'y', 'first_letter': 'r', 'first_last': 'ry'}, 'male'),\n",
       " ({'last_letter': 'e', 'first_letter': 't', 'first_last': 'te'}, 'male'),\n",
       " ({'last_letter': 'l', 'first_letter': 's', 'first_last': 'sl'}, 'female'),\n",
       " ({'last_letter': 't', 'first_letter': 'j', 'first_last': 'jt'}, 'female'),\n",
       " ({'last_letter': 'e', 'first_letter': 'e', 'first_last': 'ee'}, 'female'),\n",
       " ({'last_letter': 'g', 'first_letter': 'h', 'first_last': 'hg'}, 'female'),\n",
       " ({'last_letter': 'l', 'first_letter': 'g', 'first_last': 'gl'}, 'female'),\n",
       " ({'last_letter': 'a', 'first_letter': 'c', 'first_last': 'ca'}, 'female'),\n",
       " ({'last_letter': 'e', 'first_letter': 'k', 'first_last': 'ke'}, 'female'),\n",
       " ({'last_letter': 'r', 'first_letter': 'f', 'first_last': 'fr'}, 'female'),\n",
       " ({'last_letter': 't', 'first_letter': 't', 'first_last': 'tt'}, 'male'),\n",
       " ({'last_letter': 't', 'first_letter': 'w', 'first_last': 'wt'}, 'male'),\n",
       " ({'last_letter': 'l', 'first_letter': 'c', 'first_last': 'cl'}, 'female'),\n",
       " ({'last_letter': 'o', 'first_letter': 'm', 'first_last': 'mo'}, 'male'),\n",
       " ({'last_letter': 'e', 'first_letter': 'b', 'first_last': 'be'}, 'female'),\n",
       " ({'last_letter': 'n', 'first_letter': 'r', 'first_last': 'rn'}, 'male'),\n",
       " ({'last_letter': 'e', 'first_letter': 'm', 'first_last': 'me'}, 'male'),\n",
       " ({'last_letter': 'n', 'first_letter': 'e', 'first_last': 'en'}, 'female'),\n",
       " ({'last_letter': 'e', 'first_letter': 'd', 'first_last': 'de'}, 'male'),\n",
       " ({'last_letter': 'g', 'first_letter': 'r', 'first_last': 'rg'}, 'male'),\n",
       " ({'last_letter': 'a', 'first_letter': 'd', 'first_last': 'da'}, 'female'),\n",
       " ({'last_letter': 'a', 'first_letter': 't', 'first_last': 'ta'}, 'female'),\n",
       " ({'last_letter': 'e', 'first_letter': 'h', 'first_last': 'he'}, 'female'),\n",
       " ({'last_letter': 'a', 'first_letter': 'c', 'first_last': 'ca'}, 'female'),\n",
       " ({'last_letter': 'k', 'first_letter': 'j', 'first_last': 'jk'}, 'male'),\n",
       " ({'last_letter': 'n', 'first_letter': 'g', 'first_last': 'gn'}, 'male'),\n",
       " ({'last_letter': 'e', 'first_letter': 't', 'first_last': 'te'}, 'female'),\n",
       " ({'last_letter': 'n', 'first_letter': 'k', 'first_last': 'kn'}, 'male'),\n",
       " ({'last_letter': 'n', 'first_letter': 'j', 'first_last': 'jn'}, 'male'),\n",
       " ({'last_letter': 'n', 'first_letter': 't', 'first_last': 'tn'}, 'male'),\n",
       " ({'last_letter': 'z', 'first_letter': 'm', 'first_last': 'mz'}, 'male'),\n",
       " ({'last_letter': 'y', 'first_letter': 's', 'first_last': 'sy'}, 'female'),\n",
       " ({'last_letter': 'e', 'first_letter': 'a', 'first_last': 'ae'}, 'female'),\n",
       " ({'last_letter': 'a', 'first_letter': 'r', 'first_last': 'ra'}, 'female'),\n",
       " ({'last_letter': 'a', 'first_letter': 'y', 'first_last': 'ya'}, 'female'),\n",
       " ({'last_letter': 's', 'first_letter': 'd', 'first_last': 'ds'}, 'female'),\n",
       " ({'last_letter': 'i', 'first_letter': 'm', 'first_last': 'mi'}, 'female'),\n",
       " ({'last_letter': 'l', 'first_letter': 'i', 'first_last': 'il'}, 'male'),\n",
       " ({'last_letter': 'e', 'first_letter': 'v', 'first_last': 've'}, 'female'),\n",
       " ({'last_letter': 'e', 'first_letter': 'n', 'first_last': 'ne'}, 'female'),\n",
       " ({'last_letter': 'e', 'first_letter': 'l', 'first_last': 'le'}, 'female'),\n",
       " ({'last_letter': 'y', 'first_letter': 'e', 'first_last': 'ey'}, 'female'),\n",
       " ({'last_letter': 'i', 'first_letter': 'n', 'first_last': 'ni'}, 'female'),\n",
       " ({'last_letter': 'a', 'first_letter': 'q', 'first_last': 'qa'}, 'female'),\n",
       " ({'last_letter': 'a', 'first_letter': 'a', 'first_last': 'aa'}, 'female'),\n",
       " ({'last_letter': 'r', 'first_letter': 'j', 'first_last': 'jr'}, 'female'),\n",
       " ({'last_letter': 'n', 'first_letter': 'd', 'first_last': 'dn'}, 'male'),\n",
       " ({'last_letter': 'e', 'first_letter': 'm', 'first_last': 'me'}, 'female'),\n",
       " ({'last_letter': 'i', 'first_letter': 'm', 'first_last': 'mi'}, 'female'),\n",
       " ({'last_letter': 'e', 'first_letter': 'n', 'first_last': 'ne'}, 'female'),\n",
       " ({'last_letter': 'a', 'first_letter': 'b', 'first_last': 'ba'}, 'female'),\n",
       " ({'last_letter': 'e', 'first_letter': 's', 'first_last': 'se'}, 'female'),\n",
       " ({'last_letter': 'e', 'first_letter': 'w', 'first_last': 'we'}, 'male'),\n",
       " ({'last_letter': 's', 'first_letter': 'f', 'first_last': 'fs'}, 'male'),\n",
       " ({'last_letter': 'n', 'first_letter': 'h', 'first_last': 'hn'}, 'male'),\n",
       " ({'last_letter': 'y', 'first_letter': 'k', 'first_last': 'ky'}, 'female'),\n",
       " ({'last_letter': 'n', 'first_letter': 's', 'first_last': 'sn'}, 'female'),\n",
       " ({'last_letter': 'e', 'first_letter': 'd', 'first_last': 'de'}, 'female'),\n",
       " ({'last_letter': 'h', 'first_letter': 's', 'first_last': 'sh'}, 'female'),\n",
       " ({'last_letter': 'n', 'first_letter': 'h', 'first_last': 'hn'}, 'male'),\n",
       " ({'last_letter': 'a', 'first_letter': 'c', 'first_last': 'ca'}, 'female'),\n",
       " ({'last_letter': 'e', 'first_letter': 'e', 'first_last': 'ee'}, 'female'),\n",
       " ({'last_letter': 'n', 'first_letter': 'v', 'first_last': 'vn'}, 'male'),\n",
       " ({'last_letter': 'e', 'first_letter': 'm', 'first_last': 'me'}, 'female'),\n",
       " ({'last_letter': 'i', 'first_letter': 'm', 'first_last': 'mi'}, 'female'),\n",
       " ({'last_letter': 'y', 'first_letter': 'c', 'first_last': 'cy'}, 'male'),\n",
       " ({'last_letter': 'e', 'first_letter': 'k', 'first_last': 'ke'}, 'female'),\n",
       " ({'last_letter': 'e', 'first_letter': 'm', 'first_last': 'me'}, 'female'),\n",
       " ({'last_letter': 'e', 'first_letter': 'r', 'first_last': 're'}, 'male'),\n",
       " ({'last_letter': 'a', 'first_letter': 'e', 'first_last': 'ea'}, 'female'),\n",
       " ({'last_letter': 'l', 'first_letter': 'm', 'first_last': 'ml'}, 'male'),\n",
       " ({'last_letter': 'a', 'first_letter': 'i', 'first_last': 'ia'}, 'female'),\n",
       " ({'last_letter': 'l', 'first_letter': 'c', 'first_last': 'cl'}, 'male'),\n",
       " ({'last_letter': 'n', 'first_letter': 's', 'first_last': 'sn'}, 'male'),\n",
       " ({'last_letter': 'y', 'first_letter': 't', 'first_last': 'ty'}, 'female'),\n",
       " ({'last_letter': 'k', 'first_letter': 'c', 'first_last': 'ck'}, 'male'),\n",
       " ({'last_letter': 'a', 'first_letter': 'a', 'first_last': 'aa'}, 'female'),\n",
       " ({'last_letter': 'e', 'first_letter': 'd', 'first_last': 'de'}, 'female'),\n",
       " ({'last_letter': 'i', 'first_letter': 'j', 'first_last': 'ji'}, 'female'),\n",
       " ({'last_letter': 'a', 'first_letter': 'm', 'first_last': 'ma'}, 'female'),\n",
       " ({'last_letter': 'n', 'first_letter': 'd', 'first_last': 'dn'}, 'female'),\n",
       " ({'last_letter': 'n', 'first_letter': 's', 'first_last': 'sn'}, 'female'),\n",
       " ({'last_letter': 'e', 'first_letter': 'j', 'first_last': 'je'}, 'female'),\n",
       " ({'last_letter': 'a', 'first_letter': 'l', 'first_last': 'la'}, 'female'),\n",
       " ({'last_letter': 'n', 'first_letter': 'n', 'first_last': 'nn'}, 'male'),\n",
       " ({'last_letter': 'e', 'first_letter': 'o', 'first_last': 'oe'}, 'female'),\n",
       " ({'last_letter': 'e', 'first_letter': 'w', 'first_last': 'we'}, 'male'),\n",
       " ({'last_letter': 'i', 'first_letter': 't', 'first_last': 'ti'}, 'female'),\n",
       " ({'last_letter': 'e', 'first_letter': 'k', 'first_last': 'ke'}, 'female'),\n",
       " ({'last_letter': 's', 'first_letter': 't', 'first_last': 'ts'}, 'male'),\n",
       " ({'last_letter': 'a', 'first_letter': 'a', 'first_last': 'aa'}, 'female'),\n",
       " ({'last_letter': 'i', 'first_letter': 'j', 'first_last': 'ji'}, 'female'),\n",
       " ({'last_letter': 'n', 'first_letter': 'n', 'first_last': 'nn'}, 'male'),\n",
       " ({'last_letter': 'e', 'first_letter': 'm', 'first_last': 'me'}, 'female'),\n",
       " ({'last_letter': 'e', 'first_letter': 'j', 'first_last': 'je'}, 'male'),\n",
       " ({'last_letter': 'y', 'first_letter': 't', 'first_last': 'ty'}, 'female'),\n",
       " ({'last_letter': 'g', 'first_letter': 'h', 'first_last': 'hg'}, 'female'),\n",
       " ({'last_letter': 'a', 'first_letter': 'c', 'first_last': 'ca'}, 'female'),\n",
       " ({'last_letter': 'a', 'first_letter': 'c', 'first_last': 'ca'}, 'female'),\n",
       " ({'last_letter': 'e', 'first_letter': 'k', 'first_last': 'ke'}, 'female'),\n",
       " ({'last_letter': 'n', 'first_letter': 'd', 'first_last': 'dn'}, 'male'),\n",
       " ({'last_letter': 'y', 'first_letter': 's', 'first_last': 'sy'}, 'female'),\n",
       " ({'last_letter': 'l', 'first_letter': 'n', 'first_last': 'nl'}, 'male'),\n",
       " ({'last_letter': 's', 'first_letter': 'n', 'first_last': 'ns'}, 'male'),\n",
       " ({'last_letter': 'a', 'first_letter': 's', 'first_last': 'sa'}, 'female'),\n",
       " ({'last_letter': 'y', 'first_letter': 'c', 'first_last': 'cy'}, 'male'),\n",
       " ({'last_letter': 'y', 'first_letter': 'g', 'first_last': 'gy'}, 'female'),\n",
       " ({'last_letter': 'n', 'first_letter': 'p', 'first_last': 'pn'}, 'male'),\n",
       " ({'last_letter': 'j', 'first_letter': 'r', 'first_last': 'rj'}, 'male'),\n",
       " ({'last_letter': 's', 'first_letter': 'r', 'first_last': 'rs'}, 'female'),\n",
       " ({'last_letter': 'o', 'first_letter': 'e', 'first_last': 'eo'}, 'male'),\n",
       " ({'last_letter': 'e', 'first_letter': 'j', 'first_last': 'je'}, 'female'),\n",
       " ({'last_letter': 's', 'first_letter': 't', 'first_last': 'ts'}, 'male'),\n",
       " ({'last_letter': 's', 'first_letter': 'b', 'first_last': 'bs'}, 'female'),\n",
       " ({'last_letter': 't', 'first_letter': 'h', 'first_last': 'ht'}, 'male'),\n",
       " ({'last_letter': 'a', 'first_letter': 'l', 'first_last': 'la'}, 'female'),\n",
       " ({'last_letter': 'l', 'first_letter': 'd', 'first_last': 'dl'}, 'male'),\n",
       " ({'last_letter': 'a', 'first_letter': 'a', 'first_last': 'aa'}, 'female'),\n",
       " ({'last_letter': 'e', 'first_letter': 'd', 'first_last': 'de'}, 'female'),\n",
       " ({'last_letter': 'a', 'first_letter': 'l', 'first_last': 'la'}, 'female'),\n",
       " ({'last_letter': 'n', 'first_letter': 'o', 'first_last': 'on'}, 'male'),\n",
       " ({'last_letter': 'e', 'first_letter': 'r', 'first_last': 're'}, 'female'),\n",
       " ({'last_letter': 'e', 'first_letter': 'a', 'first_last': 'ae'}, 'female'),\n",
       " ({'last_letter': 's', 'first_letter': 'd', 'first_last': 'ds'}, 'male'),\n",
       " ({'last_letter': 'e', 'first_letter': 'd', 'first_last': 'de'}, 'female'),\n",
       " ({'last_letter': 'e', 'first_letter': 'a', 'first_last': 'ae'}, 'female'),\n",
       " ({'last_letter': 'y', 'first_letter': 'h', 'first_last': 'hy'}, 'male'),\n",
       " ({'last_letter': 's', 'first_letter': 'h', 'first_last': 'hs'}, 'male'),\n",
       " ({'last_letter': 'e', 'first_letter': 'm', 'first_last': 'me'}, 'female'),\n",
       " ({'last_letter': 'o', 'first_letter': 'l', 'first_last': 'lo'}, 'male'),\n",
       " ({'last_letter': 'e', 'first_letter': 'w', 'first_last': 'we'}, 'male'),\n",
       " ({'last_letter': 'k', 'first_letter': 'h', 'first_last': 'hk'}, 'male'),\n",
       " ({'last_letter': 'n', 'first_letter': 'k', 'first_last': 'kn'}, 'female'),\n",
       " ({'last_letter': 'e', 'first_letter': 'd', 'first_last': 'de'}, 'female'),\n",
       " ({'last_letter': 'a', 'first_letter': 'r', 'first_last': 'ra'}, 'female'),\n",
       " ({'last_letter': 'a', 'first_letter': 'h', 'first_last': 'ha'}, 'female'),\n",
       " ({'last_letter': 'e', 'first_letter': 'c', 'first_last': 'ce'}, 'female'),\n",
       " ({'last_letter': 'n', 'first_letter': 'd', 'first_last': 'dn'}, 'male'),\n",
       " ({'last_letter': 'e', 'first_letter': 'd', 'first_last': 'de'}, 'male'),\n",
       " ({'last_letter': 'n', 'first_letter': 'd', 'first_last': 'dn'}, 'female'),\n",
       " ({'last_letter': 'e', 'first_letter': 'r', 'first_last': 're'}, 'female'),\n",
       " ({'last_letter': 'e', 'first_letter': 'k', 'first_last': 'ke'}, 'female'),\n",
       " ({'last_letter': 'e', 'first_letter': 'j', 'first_last': 'je'}, 'female'),\n",
       " ({'last_letter': 'b', 'first_letter': 'b', 'first_last': 'bb'}, 'male'),\n",
       " ({'last_letter': 'a', 'first_letter': 'l', 'first_last': 'la'}, 'female'),\n",
       " ({'last_letter': 'e', 'first_letter': 'd', 'first_last': 'de'}, 'female'),\n",
       " ({'last_letter': 'y', 'first_letter': 'g', 'first_last': 'gy'}, 'male'),\n",
       " ({'last_letter': 'y', 'first_letter': 'm', 'first_last': 'my'}, 'female'),\n",
       " ({'last_letter': 'n', 'first_letter': 'n', 'first_last': 'nn'}, 'male'),\n",
       " ({'last_letter': 'e', 'first_letter': 'a', 'first_last': 'ae'}, 'male'),\n",
       " ({'last_letter': 'a', 'first_letter': 'k', 'first_last': 'ka'}, 'female'),\n",
       " ({'last_letter': 'e', 'first_letter': 's', 'first_last': 'se'}, 'female'),\n",
       " ({'last_letter': 'a', 'first_letter': 'e', 'first_last': 'ea'}, 'female'),\n",
       " ({'last_letter': 'y', 'first_letter': 't', 'first_last': 'ty'}, 'female'),\n",
       " ({'last_letter': 'a', 'first_letter': 'r', 'first_last': 'ra'}, 'female'),\n",
       " ({'last_letter': 'k', 'first_letter': 'r', 'first_last': 'rk'}, 'male'),\n",
       " ({'last_letter': 'e', 'first_letter': 'c', 'first_last': 'ce'}, 'female'),\n",
       " ({'last_letter': 'a', 'first_letter': 'a', 'first_last': 'aa'}, 'female'),\n",
       " ({'last_letter': 'd', 'first_letter': 'w', 'first_last': 'wd'}, 'male'),\n",
       " ({'last_letter': 'k', 'first_letter': 'c', 'first_last': 'ck'}, 'male'),\n",
       " ({'last_letter': 'e', 'first_letter': 'm', 'first_last': 'me'}, 'female'),\n",
       " ({'last_letter': 'y', 'first_letter': 'd', 'first_last': 'dy'}, 'female'),\n",
       " ({'last_letter': 'a', 'first_letter': 't', 'first_last': 'ta'}, 'female'),\n",
       " ({'last_letter': 'e', 'first_letter': 'a', 'first_last': 'ae'}, 'female'),\n",
       " ({'last_letter': 'r', 'first_letter': 'd', 'first_last': 'dr'}, 'female'),\n",
       " ({'last_letter': 'r', 'first_letter': 'd', 'first_last': 'dr'}, 'female'),\n",
       " ({'last_letter': 'r', 'first_letter': 'l', 'first_last': 'lr'}, 'male'),\n",
       " ({'last_letter': 'n', 'first_letter': 'i', 'first_last': 'in'}, 'male'),\n",
       " ({'last_letter': 'e', 'first_letter': 'a', 'first_last': 'ae'}, 'female'),\n",
       " ({'last_letter': 'a', 'first_letter': 'l', 'first_last': 'la'}, 'female'),\n",
       " ({'last_letter': 'a', 'first_letter': 'c', 'first_last': 'ca'}, 'female'),\n",
       " ({'last_letter': 'r', 'first_letter': 'r', 'first_last': 'rr'}, 'male'),\n",
       " ({'last_letter': 'y', 'first_letter': 'd', 'first_last': 'dy'}, 'female'),\n",
       " ({'last_letter': 'a', 'first_letter': 'j', 'first_last': 'ja'}, 'male'),\n",
       " ({'last_letter': 'a', 'first_letter': 'l', 'first_last': 'la'}, 'female'),\n",
       " ({'last_letter': 'e', 'first_letter': 'r', 'first_last': 're'}, 'male'),\n",
       " ({'last_letter': 'e', 'first_letter': 'e', 'first_last': 'ee'}, 'female'),\n",
       " ({'last_letter': 'a', 'first_letter': 'b', 'first_last': 'ba'}, 'female'),\n",
       " ({'last_letter': 'y', 'first_letter': 'j', 'first_last': 'jy'}, 'female'),\n",
       " ({'last_letter': 'o', 'first_letter': 'd', 'first_last': 'do'}, 'male'),\n",
       " ({'last_letter': 'd', 'first_letter': 's', 'first_last': 'sd'}, 'female'),\n",
       " ({'last_letter': 'y', 'first_letter': 'a', 'first_last': 'ay'}, 'female'),\n",
       " ({'last_letter': 'a', 'first_letter': 'e', 'first_last': 'ea'}, 'female'),\n",
       " ({'last_letter': 'n', 'first_letter': 'f', 'first_last': 'fn'}, 'female'),\n",
       " ({'last_letter': 's', 'first_letter': 'p', 'first_last': 'ps'}, 'female'),\n",
       " ({'last_letter': 'i', 'first_letter': 'i', 'first_last': 'ii'}, 'female'),\n",
       " ({'last_letter': 'e', 'first_letter': 'e', 'first_last': 'ee'}, 'female'),\n",
       " ({'last_letter': 'y', 'first_letter': 'a', 'first_last': 'ay'}, 'male'),\n",
       " ({'last_letter': 'a', 'first_letter': 'r', 'first_last': 'ra'}, 'female'),\n",
       " ({'last_letter': 'a', 'first_letter': 'l', 'first_last': 'la'}, 'female'),\n",
       " ({'last_letter': 'l', 'first_letter': 'j', 'first_last': 'jl'}, 'female'),\n",
       " ({'last_letter': 'r', 'first_letter': 'f', 'first_last': 'fr'}, 'female'),\n",
       " ({'last_letter': 'i', 'first_letter': 'c', 'first_last': 'ci'}, 'female'),\n",
       " ({'last_letter': 'y', 'first_letter': 'l', 'first_last': 'ly'}, 'female'),\n",
       " ({'last_letter': 'm', 'first_letter': 'n', 'first_last': 'nm'}, 'male'),\n",
       " ({'last_letter': 's', 'first_letter': 'm', 'first_last': 'ms'}, 'male'),\n",
       " ({'last_letter': 'a', 'first_letter': 's', 'first_last': 'sa'}, 'female'),\n",
       " ({'last_letter': 'e', 'first_letter': 'd', 'first_last': 'de'}, 'female'),\n",
       " ({'last_letter': 'm', 'first_letter': 'w', 'first_last': 'wm'}, 'male'),\n",
       " ({'last_letter': 't', 'first_letter': 'm', 'first_last': 'mt'}, 'male'),\n",
       " ({'last_letter': 's', 'first_letter': 't', 'first_last': 'ts'}, 'male'),\n",
       " ({'last_letter': 'a', 'first_letter': 'e', 'first_last': 'ea'}, 'female'),\n",
       " ({'last_letter': 'd', 'first_letter': 'h', 'first_last': 'hd'}, 'male'),\n",
       " ({'last_letter': 'n', 'first_letter': 's', 'first_last': 'sn'}, 'male'),\n",
       " ({'last_letter': 'y', 'first_letter': 'w', 'first_last': 'wy'}, 'female'),\n",
       " ({'last_letter': 'e', 'first_letter': 'c', 'first_last': 'ce'}, 'female'),\n",
       " ({'last_letter': 'c', 'first_letter': 'a', 'first_last': 'ac'}, 'male'),\n",
       " ({'last_letter': 'd', 'first_letter': 'f', 'first_last': 'fd'}, 'female'),\n",
       " ({'last_letter': 's', 'first_letter': 't', 'first_last': 'ts'}, 'male'),\n",
       " ({'last_letter': 'o', 'first_letter': 'o', 'first_last': 'oo'}, 'male'),\n",
       " ({'last_letter': 'e', 'first_letter': 'f', 'first_last': 'fe'}, 'female'),\n",
       " ({'last_letter': 'w', 'first_letter': 's', 'first_last': 'sw'}, 'male'),\n",
       " ({'last_letter': 'a', 'first_letter': 'f', 'first_last': 'fa'}, 'female'),\n",
       " ({'last_letter': 'y', 'first_letter': 'l', 'first_last': 'ly'}, 'female'),\n",
       " ({'last_letter': 'n', 'first_letter': 't', 'first_last': 'tn'}, 'male'),\n",
       " ({'last_letter': 'h', 'first_letter': 'z', 'first_last': 'zh'}, 'male'),\n",
       " ({'last_letter': 'e', 'first_letter': 'n', 'first_last': 'ne'}, 'female'),\n",
       " ({'last_letter': 'e', 'first_letter': 'p', 'first_last': 'pe'}, 'female'),\n",
       " ({'last_letter': 'a', 'first_letter': 'd', 'first_last': 'da'}, 'female'),\n",
       " ({'last_letter': 'a', 'first_letter': 'r', 'first_last': 'ra'}, 'female'),\n",
       " ({'last_letter': 'o', 'first_letter': 'r', 'first_last': 'ro'}, 'female'),\n",
       " ({'last_letter': 'l', 'first_letter': 'g', 'first_last': 'gl'}, 'female'),\n",
       " ({'last_letter': 'a', 'first_letter': 'e', 'first_last': 'ea'}, 'female'),\n",
       " ({'last_letter': 'e', 'first_letter': 'b', 'first_last': 'be'}, 'male'),\n",
       " ({'last_letter': 'a', 'first_letter': 'c', 'first_last': 'ca'}, 'female'),\n",
       " ({'last_letter': 'a', 'first_letter': 't', 'first_last': 'ta'}, 'female'),\n",
       " ({'last_letter': 'a', 'first_letter': 'l', 'first_last': 'la'}, 'female'),\n",
       " ({'last_letter': 'y', 'first_letter': 'e', 'first_last': 'ey'}, 'female'),\n",
       " ({'last_letter': 'n', 'first_letter': 'g', 'first_last': 'gn'}, 'female'),\n",
       " ({'last_letter': 't', 'first_letter': 'r', 'first_last': 'rt'}, 'male'),\n",
       " ({'last_letter': 'g', 'first_letter': 'd', 'first_last': 'dg'}, 'male'),\n",
       " ({'last_letter': 'e', 'first_letter': 's', 'first_last': 'se'}, 'female'),\n",
       " ({'last_letter': 'e', 'first_letter': 'g', 'first_last': 'ge'}, 'female'),\n",
       " ({'last_letter': 'a', 'first_letter': 's', 'first_last': 'sa'}, 'male'),\n",
       " ({'last_letter': 'e', 'first_letter': 'e', 'first_last': 'ee'}, 'female'),\n",
       " ({'last_letter': 's', 'first_letter': 'h', 'first_last': 'hs'}, 'male'),\n",
       " ({'last_letter': 'i', 'first_letter': 'a', 'first_last': 'ai'}, 'female'),\n",
       " ({'last_letter': 'm', 'first_letter': 's', 'first_last': 'sm'}, 'male'),\n",
       " ({'last_letter': 'e', 'first_letter': 'l', 'first_last': 'le'}, 'female'),\n",
       " ({'last_letter': 'a', 'first_letter': 'e', 'first_last': 'ea'}, 'female'),\n",
       " ({'last_letter': 'e', 'first_letter': 't', 'first_last': 'te'}, 'female'),\n",
       " ({'last_letter': 't', 'first_letter': 'p', 'first_last': 'pt'}, 'male'),\n",
       " ({'last_letter': 'i', 'first_letter': 'b', 'first_last': 'bi'}, 'female'),\n",
       " ({'last_letter': 'i', 'first_letter': 'a', 'first_last': 'ai'}, 'male'),\n",
       " ({'last_letter': 'a', 'first_letter': 'j', 'first_last': 'ja'}, 'female'),\n",
       " ({'last_letter': 'l', 'first_letter': 'l', 'first_last': 'll'}, 'female'),\n",
       " ({'last_letter': 'd', 'first_letter': 't', 'first_last': 'td'}, 'male'),\n",
       " ({'last_letter': 'a', 'first_letter': 's', 'first_last': 'sa'}, 'female'),\n",
       " ({'last_letter': 'i', 'first_letter': 'd', 'first_last': 'di'}, 'female'),\n",
       " ({'last_letter': 'h', 'first_letter': 'j', 'first_last': 'jh'}, 'male'),\n",
       " ({'last_letter': 'y', 'first_letter': 't', 'first_last': 'ty'}, 'male'),\n",
       " ({'last_letter': 's', 'first_letter': 'a', 'first_last': 'as'}, 'female'),\n",
       " ({'last_letter': 'e', 'first_letter': 'a', 'first_last': 'ae'}, 'female'),\n",
       " ({'last_letter': 'e', 'first_letter': 'm', 'first_last': 'me'}, 'female'),\n",
       " ({'last_letter': 's', 'first_letter': 'b', 'first_last': 'bs'}, 'male'),\n",
       " ({'last_letter': 'i', 'first_letter': 't', 'first_last': 'ti'}, 'female'),\n",
       " ({'last_letter': 'y', 'first_letter': 'b', 'first_last': 'by'}, 'male'),\n",
       " ({'last_letter': 'm', 'first_letter': 'a', 'first_last': 'am'}, 'male'),\n",
       " ({'last_letter': 'e', 'first_letter': 'd', 'first_last': 'de'}, 'female'),\n",
       " ({'last_letter': 'y', 'first_letter': 'p', 'first_last': 'py'}, 'male'),\n",
       " ({'last_letter': 'a', 'first_letter': 'm', 'first_last': 'ma'}, 'female'),\n",
       " ({'last_letter': 'y', 'first_letter': 'l', 'first_last': 'ly'}, 'female'),\n",
       " ({'last_letter': 'a', 'first_letter': 'g', 'first_last': 'ga'}, 'female'),\n",
       " ({'last_letter': 'y', 'first_letter': 's', 'first_last': 'sy'}, 'female'),\n",
       " ({'last_letter': 's', 'first_letter': 'j', 'first_last': 'js'}, 'male'),\n",
       " ({'last_letter': 'e', 'first_letter': 'r', 'first_last': 're'}, 'female'),\n",
       " ({'last_letter': 'n', 'first_letter': 'm', 'first_last': 'mn'}, 'female'),\n",
       " ({'last_letter': 'e', 'first_letter': 'm', 'first_last': 'me'}, 'female'),\n",
       " ({'last_letter': 'l', 'first_letter': 'o', 'first_last': 'ol'}, 'female'),\n",
       " ({'last_letter': 'd', 'first_letter': 's', 'first_last': 'sd'}, 'male'),\n",
       " ({'last_letter': 'e', 'first_letter': 's', 'first_last': 'se'}, 'male'),\n",
       " ({'last_letter': 'd', 'first_letter': 'g', 'first_last': 'gd'}, 'male')]"
      ]
     },
     "execution_count": 174,
     "metadata": {},
     "output_type": "execute_result"
    }
   ],
   "source": [
    "dev_test_set"
   ]
  },
  {
   "cell_type": "code",
   "execution_count": 175,
   "metadata": {},
   "outputs": [],
   "source": [
    "errors = []\n",
    "for (name,tag) in dev_test:\n",
    "    guess = classifier_a.classify(gender_features(name))\n",
    "    if guess != tag:\n",
    "        errors.append((tag,guess,name))"
   ]
  },
  {
   "cell_type": "code",
   "execution_count": 176,
   "metadata": {},
   "outputs": [],
   "source": [
    "errors_df = pd.DataFrame(errors).rename(columns={0:'correct', 1:'guess', 2:'name'})"
   ]
  },
  {
   "cell_type": "markdown",
   "metadata": {},
   "source": [
    "Looking at the errors log, we can begin to explore some additional features that may be helpful in improving our model. "
   ]
  },
  {
   "cell_type": "code",
   "execution_count": 177,
   "metadata": {},
   "outputs": [],
   "source": [
    "r3_errors = errors_df.sort_values(by=['correct','name'], ascending=[False,True])"
   ]
  },
  {
   "cell_type": "code",
   "execution_count": 178,
   "metadata": {},
   "outputs": [
    {
     "data": {
      "text/html": [
       "<div>\n",
       "<style scoped>\n",
       "    .dataframe tbody tr th:only-of-type {\n",
       "        vertical-align: middle;\n",
       "    }\n",
       "\n",
       "    .dataframe tbody tr th {\n",
       "        vertical-align: top;\n",
       "    }\n",
       "\n",
       "    .dataframe thead th {\n",
       "        text-align: right;\n",
       "    }\n",
       "</style>\n",
       "<table border=\"1\" class=\"dataframe\">\n",
       "  <thead>\n",
       "    <tr style=\"text-align: right;\">\n",
       "      <th></th>\n",
       "      <th>correct</th>\n",
       "      <th>guess</th>\n",
       "      <th>name</th>\n",
       "    </tr>\n",
       "  </thead>\n",
       "  <tbody>\n",
       "    <tr>\n",
       "      <th>73</th>\n",
       "      <td>male</td>\n",
       "      <td>female</td>\n",
       "      <td>Ajai</td>\n",
       "    </tr>\n",
       "    <tr>\n",
       "      <th>53</th>\n",
       "      <td>male</td>\n",
       "      <td>female</td>\n",
       "      <td>Alfie</td>\n",
       "    </tr>\n",
       "    <tr>\n",
       "      <th>63</th>\n",
       "      <td>male</td>\n",
       "      <td>female</td>\n",
       "      <td>Andrey</td>\n",
       "    </tr>\n",
       "    <tr>\n",
       "      <th>70</th>\n",
       "      <td>male</td>\n",
       "      <td>female</td>\n",
       "      <td>Barnie</td>\n",
       "    </tr>\n",
       "    <tr>\n",
       "      <th>0</th>\n",
       "      <td>male</td>\n",
       "      <td>female</td>\n",
       "      <td>Barri</td>\n",
       "    </tr>\n",
       "  </tbody>\n",
       "</table>\n",
       "</div>"
      ],
      "text/plain": [
       "   correct   guess    name\n",
       "73    male  female    Ajai\n",
       "53    male  female   Alfie\n",
       "63    male  female  Andrey\n",
       "70    male  female  Barnie\n",
       "0     male  female   Barri"
      ]
     },
     "execution_count": 178,
     "metadata": {},
     "output_type": "execute_result"
    }
   ],
   "source": [
    "r3_errors.head()"
   ]
  },
  {
   "cell_type": "markdown",
   "metadata": {},
   "source": [
    "I've decided to try out the combination of the first and last letter as a potential feature. When looking at the errors data frame based on this feature, there are a lot of 0s in the count, suggesting that it may represent a pretty linear decision boundary. Thus, I will incorporate this in the next updates to our feature set function"
   ]
  },
  {
   "cell_type": "markdown",
   "metadata": {},
   "source": [
    "##### **3.4 Round 4**"
   ]
  },
  {
   "cell_type": "markdown",
   "metadata": {},
   "source": [
    "Since we're still seeing some strong misclassifications based on the first name, I'm going to expand the feature function to include a categorical variable based on if the first letter is one of several letters mentioned at the end of Round 1"
   ]
  },
  {
   "cell_type": "markdown",
   "metadata": {},
   "source": [
    "Here I created a lambda function to set a flag if the first letter of the name is in the special set of characters a,c,d,m,p,s."
   ]
  },
  {
   "cell_type": "code",
   "execution_count": 179,
   "metadata": {},
   "outputs": [],
   "source": [
    "x = lambda a: 1 if re.search('^[acdmps]',a) != None else 0"
   ]
  },
  {
   "cell_type": "markdown",
   "metadata": {},
   "source": [
    "Updated the features function to include this new flag. But also removed the first_letter feature, since that would be suspected to be highly correlated to the new feature which is looking at the first character"
   ]
  },
  {
   "cell_type": "code",
   "execution_count": 180,
   "metadata": {},
   "outputs": [],
   "source": [
    "def gender_features(word):\n",
    "    features = {'last_letter':word[-1], \\\n",
    "            'first_last':word[0].lower()+word[-1:],\n",
    "            'flagged_character':x(word[0].lower())}\n",
    "    return features"
   ]
  },
  {
   "cell_type": "code",
   "execution_count": 181,
   "metadata": {},
   "outputs": [],
   "source": [
    "featuresets = [(gender_features(n),g) for (n,g) in names]"
   ]
  },
  {
   "cell_type": "code",
   "execution_count": 182,
   "metadata": {},
   "outputs": [],
   "source": [
    "train_set = [(gender_features(n),g) for (n,g) in train]\n",
    "test_set = [(gender_features(n),g) for (n,g) in test]\n",
    "dev_test_set = [(gender_features(n),g) for (n,g) in dev_test]"
   ]
  },
  {
   "cell_type": "code",
   "execution_count": 183,
   "metadata": {},
   "outputs": [],
   "source": [
    "classifier_a = nltk.NaiveBayesClassifier.train(train_set)\n",
    "classifier_b = nltk.DecisionTreeClassifier.train(train_set)"
   ]
  },
  {
   "cell_type": "markdown",
   "metadata": {},
   "source": [
    "When we run this, we see that this new feature actually reduced the improvement in the Naive Bayes classifier - and brought it back in line with the first classifier; while once again, there isn't any real improvement in our Decision Tree Classifier"
   ]
  },
  {
   "cell_type": "code",
   "execution_count": 184,
   "metadata": {},
   "outputs": [
    {
     "name": "stdout",
     "output_type": "stream",
     "text": [
      "Naive Bayes Classifier Accuracy: 0.7667560321715817\n",
      "Decision Tree Classifier Accuracy: 0.7694369973190348\n"
     ]
    }
   ],
   "source": [
    "print('Naive Bayes Classifier Accuracy: {}'.format(nltk.classify.accuracy(classifier_a,test_set)))\n",
    "print('Decision Tree Classifier Accuracy: {}'.format(nltk.classify.accuracy(classifier_b,test_set)))"
   ]
  },
  {
   "cell_type": "markdown",
   "metadata": {},
   "source": [
    "#### **4. Conclusion**"
   ]
  },
  {
   "cell_type": "markdown",
   "metadata": {},
   "source": [
    "In this example, I was able to see how we can use text based data and natural language processing to develop a supervised classifier. I think the biggest challenge was figuring out features that could be considered useful and predictive in nature to inform our classifier. While the process that I undertook was mainly a manual iterative process, I think there are probably more non-trivial aspects of a name that can potentially be used for features. However, at the same time, by reviewing some of the misclassified data in the dev_test data, it's evident that there are some names that are not universally Female or Male names; and while the classifier is probably effective at classifying names that are less ambiguous, it's this subset of more ambiguous names that it has a harder time classying correctly"
   ]
  }
 ],
 "metadata": {
  "kernelspec": {
   "display_name": "env",
   "language": "python",
   "name": "python3"
  },
  "language_info": {
   "codemirror_mode": {
    "name": "ipython",
    "version": 3
   },
   "file_extension": ".py",
   "mimetype": "text/x-python",
   "name": "python",
   "nbconvert_exporter": "python",
   "pygments_lexer": "ipython3",
   "version": "3.11.7"
  }
 },
 "nbformat": 4,
 "nbformat_minor": 2
}
