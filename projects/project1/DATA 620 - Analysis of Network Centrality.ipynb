{
 "cells": [
  {
   "cell_type": "markdown",
   "id": "1154bd4b",
   "metadata": {},
   "source": [
    "### DATA 620 - Analysis of Network Centrality (Project 1)\n",
    "\n",
    "Author: Kory Martin  \n",
    "Date: 2/18/2024"
   ]
  },
  {
   "cell_type": "markdown",
   "id": "23712715",
   "metadata": {},
   "source": [
    "### 1. Introduction"
   ]
  },
  {
   "cell_type": "markdown",
   "id": "91f4980c",
   "metadata": {},
   "source": [
    "#### Project Instructions\n",
    "\n",
    "<ul>\n",
    "<li>For your first project, you are asked to identify and load a network dataset that has some categorical information available for each node.\n",
    "<li>For each of the nodes in the dataset, calculate degree centrality and eigenvector centrality.\n",
    "<li>Compare your centrality measures across your categorical groups.\n",
    "</ul>\n",
    "    "
   ]
  },
  {
   "cell_type": "markdown",
   "id": "7b86669e",
   "metadata": {},
   "source": [
    "#### Project Plan\n",
    "I chose to use the a movieLens dataset [here](https://files.grouplens.org/datasets/movielens/ml-latest-small-README.html), where we see users and the ratings that they made for a number of movies. Using this data, I am going to build a network of Users that have rated at least 15 of the same movies. This type of analysis can be used to identify similar users - if we consider that the movies that a user watches would suggest a level of similarity.\n",
    "\n",
    "\n",
    "For this analysis, we will focus on answering the following questions for a network:\n",
    "\n",
    "<ul>\n",
    "    <li> How many nodes are in the graph?\n",
    "    <li> What is the diameter of the Graph?    \n",
    "    <li> What is the size of the Graph?\n",
    "    <li> What is the average number of neighbors for nodes? \n",
    "    <li> What is the largest number of neighbors that any particular node has?\n",
    "    <li> What node(s) has the largest number of neighbors?\n",
    "    <li> What is the fewest number of neighbors that any particular node has?\n",
    "    <li> What node(s) has the fewest number of neighbors?\n",
    "</ul>"
   ]
  },
  {
   "cell_type": "markdown",
   "id": "c984cca9",
   "metadata": {},
   "source": [
    "### 2. Import Libraries"
   ]
  },
  {
   "cell_type": "code",
   "execution_count": 1,
   "id": "18a467cb",
   "metadata": {},
   "outputs": [],
   "source": [
    "import networkx as net\n",
    "from networkx import algorithms as algo\n",
    "import pandas as pd\n",
    "import matplotlib.pyplot as plt\n",
    "import random\n",
    "import numpy as np\n",
    "from statistics import mean\n",
    "import os.path"
   ]
  },
  {
   "cell_type": "markdown",
   "id": "8777509c",
   "metadata": {},
   "source": [
    "### 3. Data Preparation\n",
    "\n",
    "We begin by importing the data for the specific movie titles that were being reviewed. Although this ultimately isn't something that will be included in the final network analysis, it was something that I had initially thought I wanted to specifically analyze. Additionally, the ratings data will be imported"
   ]
  },
  {
   "cell_type": "code",
   "execution_count": 2,
   "id": "3454603d",
   "metadata": {},
   "outputs": [],
   "source": [
    "movies_data = pd.read_csv('data/movies.csv')\n",
    "ratings_data = pd.read_csv('data/ratings.csv')"
   ]
  },
  {
   "cell_type": "code",
   "execution_count": 3,
   "id": "3c460731",
   "metadata": {},
   "outputs": [
    {
     "data": {
      "text/html": [
       "<div>\n",
       "<style scoped>\n",
       "    .dataframe tbody tr th:only-of-type {\n",
       "        vertical-align: middle;\n",
       "    }\n",
       "\n",
       "    .dataframe tbody tr th {\n",
       "        vertical-align: top;\n",
       "    }\n",
       "\n",
       "    .dataframe thead th {\n",
       "        text-align: right;\n",
       "    }\n",
       "</style>\n",
       "<table border=\"1\" class=\"dataframe\">\n",
       "  <thead>\n",
       "    <tr style=\"text-align: right;\">\n",
       "      <th></th>\n",
       "      <th>movieId</th>\n",
       "      <th>title</th>\n",
       "      <th>genres</th>\n",
       "    </tr>\n",
       "  </thead>\n",
       "  <tbody>\n",
       "    <tr>\n",
       "      <th>0</th>\n",
       "      <td>1</td>\n",
       "      <td>Toy Story (1995)</td>\n",
       "      <td>Adventure|Animation|Children|Comedy|Fantasy</td>\n",
       "    </tr>\n",
       "    <tr>\n",
       "      <th>1</th>\n",
       "      <td>2</td>\n",
       "      <td>Jumanji (1995)</td>\n",
       "      <td>Adventure|Children|Fantasy</td>\n",
       "    </tr>\n",
       "    <tr>\n",
       "      <th>2</th>\n",
       "      <td>3</td>\n",
       "      <td>Grumpier Old Men (1995)</td>\n",
       "      <td>Comedy|Romance</td>\n",
       "    </tr>\n",
       "    <tr>\n",
       "      <th>3</th>\n",
       "      <td>4</td>\n",
       "      <td>Waiting to Exhale (1995)</td>\n",
       "      <td>Comedy|Drama|Romance</td>\n",
       "    </tr>\n",
       "    <tr>\n",
       "      <th>4</th>\n",
       "      <td>5</td>\n",
       "      <td>Father of the Bride Part II (1995)</td>\n",
       "      <td>Comedy</td>\n",
       "    </tr>\n",
       "  </tbody>\n",
       "</table>\n",
       "</div>"
      ],
      "text/plain": [
       "   movieId                               title  \\\n",
       "0        1                    Toy Story (1995)   \n",
       "1        2                      Jumanji (1995)   \n",
       "2        3             Grumpier Old Men (1995)   \n",
       "3        4            Waiting to Exhale (1995)   \n",
       "4        5  Father of the Bride Part II (1995)   \n",
       "\n",
       "                                        genres  \n",
       "0  Adventure|Animation|Children|Comedy|Fantasy  \n",
       "1                   Adventure|Children|Fantasy  \n",
       "2                               Comedy|Romance  \n",
       "3                         Comedy|Drama|Romance  \n",
       "4                                       Comedy  "
      ]
     },
     "execution_count": 3,
     "metadata": {},
     "output_type": "execute_result"
    }
   ],
   "source": [
    "movies_data.head()"
   ]
  },
  {
   "cell_type": "markdown",
   "id": "cb11d5f3",
   "metadata": {},
   "source": [
    "Now that we have the movies and the ratings data imported, we will merge the two datasets so that we are able to track exactly which movie titles a specific user rated."
   ]
  },
  {
   "cell_type": "code",
   "execution_count": 4,
   "id": "d5c68123",
   "metadata": {},
   "outputs": [],
   "source": [
    "m1 = pd.merge(ratings_data, movies_data, how='left',\n",
    "        left_on='movieId', right_on='movieId')"
   ]
  },
  {
   "cell_type": "markdown",
   "id": "9f4ccbdd",
   "metadata": {},
   "source": [
    "Finally, we will then create a more simplified version of our merged dataframe that will only include the data for the user, the movie title and the rating that they gave to that movie"
   ]
  },
  {
   "cell_type": "code",
   "execution_count": 5,
   "id": "ca45d63a",
   "metadata": {},
   "outputs": [],
   "source": [
    "m1_simple = m1.loc[:,['title','userId','rating']]"
   ]
  },
  {
   "cell_type": "code",
   "execution_count": 6,
   "id": "6b471afe",
   "metadata": {},
   "outputs": [],
   "source": [
    "movie_titles = list(movies_data['title'].unique())"
   ]
  },
  {
   "cell_type": "code",
   "execution_count": 7,
   "id": "ee973031",
   "metadata": {},
   "outputs": [],
   "source": [
    "movie_raters = list(ratings_data['userId'].unique())"
   ]
  },
  {
   "cell_type": "markdown",
   "id": "579b8325",
   "metadata": {},
   "source": [
    "##### Create genres list\n",
    "\n",
    "For the output, I want to expand the movies_data dataframe so that we have an entry for each title along with their genres."
   ]
  },
  {
   "cell_type": "code",
   "execution_count": 8,
   "id": "92f58043",
   "metadata": {},
   "outputs": [],
   "source": [
    "movies_data_expanded = []\n",
    "\n",
    "for i in range(len(movies_data)):\n",
    "\n",
    "    movie_id = movies_data.loc[i,'movieId']\n",
    "    movie_title = movies_data.loc[i,'title']\n",
    "\n",
    "    genres = movies_data.loc[i,'genres'].split(\"|\")\n",
    "    for genre in genres:\n",
    "        mini_dict = {}\n",
    "        mini_dict['movieId'] = movie_id\n",
    "        mini_dict['title'] = movie_title\n",
    "        mini_dict['genre'] = genre\n",
    "        movies_data_expanded.append(mini_dict)"
   ]
  },
  {
   "cell_type": "code",
   "execution_count": 9,
   "id": "22a5f370",
   "metadata": {},
   "outputs": [],
   "source": [
    "movies_expanded_df = pd.DataFrame(movies_data_expanded)"
   ]
  },
  {
   "cell_type": "code",
   "execution_count": 10,
   "id": "90018162",
   "metadata": {},
   "outputs": [],
   "source": [
    "movie_count = m1_simple.groupby('userId').count().reset_index()"
   ]
  },
  {
   "cell_type": "code",
   "execution_count": 11,
   "id": "6d0d5905",
   "metadata": {},
   "outputs": [],
   "source": [
    "movie_count['pct_watched'] = movie_count['title']/len(movie_titles)"
   ]
  },
  {
   "cell_type": "code",
   "execution_count": 12,
   "id": "599c4750",
   "metadata": {},
   "outputs": [],
   "source": [
    "movie_raters_subset = list(movie_count[movie_count['pct_watched'] <= .025]['userId'].unique())"
   ]
  },
  {
   "cell_type": "code",
   "execution_count": 13,
   "id": "3ff0db1e",
   "metadata": {},
   "outputs": [
    {
     "data": {
      "text/plain": [
       "0.8245901639344262"
      ]
     },
     "execution_count": 13,
     "metadata": {},
     "output_type": "execute_result"
    }
   ],
   "source": [
    "503/len(movie_raters)"
   ]
  },
  {
   "cell_type": "code",
   "execution_count": 14,
   "id": "a6e3df46",
   "metadata": {},
   "outputs": [],
   "source": [
    "m1_sub_titles = list(m1_simple[m1_simple['userId'].isin(movie_raters_subset)]['title'].unique())"
   ]
  },
  {
   "cell_type": "markdown",
   "id": "f9061605",
   "metadata": {},
   "source": [
    "##### Create movie pairs\n",
    "\n",
    "This next block of code is where we will build out the movie pairs for our dataset. The code creates a filtered dataset for the specific user that we are looking at and then creates node relationships based on the movies that are watched by this user"
   ]
  },
  {
   "cell_type": "code",
   "execution_count": 15,
   "id": "2eb786e9",
   "metadata": {},
   "outputs": [],
   "source": [
    "if not os.path.exists('data/movie_pairs.csv'):\n",
    "\n",
    "    movie_pairs = []\n",
    "    for user in movie_raters_subset:\n",
    "\n",
    "        m1_sub = m1_simple.loc[m1_simple['userId'] == user]\n",
    "        movie_titles = list(m1_sub['title'].unique())\n",
    "        for i in range(len(movie_titles)):\n",
    "\n",
    "            movie1 = m1_sub.iloc[i]['title']\n",
    "            j = i+1\n",
    "            while j < len(movie_titles):\n",
    "                movie2 = m1_sub.iloc[j]['title']\n",
    "                j+=1\n",
    "                movie_pair = (movie1, movie2)\n",
    "                movie_pairs.append(movie_pair)\n",
    "\n",
    "    movie_pairs_df = pd.DataFrame(movie_pairs) \n",
    "    movie_pairs_df.to_csv('data/movie_pairs.csv',index=False)\n",
    "    \n",
    "else:\n",
    "    movie_pairs_df = pd.read_csv('data/movie_pairs.csv')"
   ]
  },
  {
   "cell_type": "code",
   "execution_count": 21,
   "id": "77bcc987",
   "metadata": {},
   "outputs": [],
   "source": [
    "movie_pairs_df = movie_pairs_df.rename(columns={'0':'movie1','1':'movie2'})"
   ]
  },
  {
   "cell_type": "code",
   "execution_count": 23,
   "id": "36063395",
   "metadata": {},
   "outputs": [
    {
     "data": {
      "text/html": [
       "<div>\n",
       "<style scoped>\n",
       "    .dataframe tbody tr th:only-of-type {\n",
       "        vertical-align: middle;\n",
       "    }\n",
       "\n",
       "    .dataframe tbody tr th {\n",
       "        vertical-align: top;\n",
       "    }\n",
       "\n",
       "    .dataframe thead th {\n",
       "        text-align: right;\n",
       "    }\n",
       "</style>\n",
       "<table border=\"1\" class=\"dataframe\">\n",
       "  <thead>\n",
       "    <tr style=\"text-align: right;\">\n",
       "      <th></th>\n",
       "      <th>movie1</th>\n",
       "      <th>movie2</th>\n",
       "    </tr>\n",
       "  </thead>\n",
       "  <tbody>\n",
       "    <tr>\n",
       "      <th>0</th>\n",
       "      <td>Toy Story (1995)</td>\n",
       "      <td>Grumpier Old Men (1995)</td>\n",
       "    </tr>\n",
       "    <tr>\n",
       "      <th>1</th>\n",
       "      <td>Toy Story (1995)</td>\n",
       "      <td>Heat (1995)</td>\n",
       "    </tr>\n",
       "    <tr>\n",
       "      <th>2</th>\n",
       "      <td>Toy Story (1995)</td>\n",
       "      <td>Seven (a.k.a. Se7en) (1995)</td>\n",
       "    </tr>\n",
       "    <tr>\n",
       "      <th>3</th>\n",
       "      <td>Toy Story (1995)</td>\n",
       "      <td>Usual Suspects, The (1995)</td>\n",
       "    </tr>\n",
       "    <tr>\n",
       "      <th>4</th>\n",
       "      <td>Toy Story (1995)</td>\n",
       "      <td>From Dusk Till Dawn (1996)</td>\n",
       "    </tr>\n",
       "  </tbody>\n",
       "</table>\n",
       "</div>"
      ],
      "text/plain": [
       "             movie1                       movie2\n",
       "0  Toy Story (1995)      Grumpier Old Men (1995)\n",
       "1  Toy Story (1995)                  Heat (1995)\n",
       "2  Toy Story (1995)  Seven (a.k.a. Se7en) (1995)\n",
       "3  Toy Story (1995)   Usual Suspects, The (1995)\n",
       "4  Toy Story (1995)   From Dusk Till Dawn (1996)"
      ]
     },
     "execution_count": 23,
     "metadata": {},
     "output_type": "execute_result"
    }
   ],
   "source": [
    "movie_pairs_df.head()"
   ]
  },
  {
   "cell_type": "code",
   "execution_count": 24,
   "id": "8b0cd3a3",
   "metadata": {},
   "outputs": [],
   "source": [
    "network_edges = []\n",
    "for i in range(len(movie_pairs_df)):\n",
    "    mini_tupt = (movie_pairs_df.loc[i,'movie1'],movie_pairs_df.loc[i,'movie2'])\n",
    "    #print(mini_tupt)\n",
    "    network_edges.append(mini_tupt)"
   ]
  },
  {
   "cell_type": "markdown",
   "id": "faa2f328",
   "metadata": {},
   "source": [
    "### 3. Create Network\n",
    "\n",
    "Now that we have the relationship data established, we will display the network of individuals and from there we can examine different measurements related to this network. \n",
    "\n",
    "Some of the questions we will look to examine are:\n",
    "\n",
    "<ul>\n",
    "    <li> How many nodes are in the graph?\n",
    "    <li> What is the diameter of the Graph?    \n",
    "    <li> What is the size of the Graph?\n",
    "    <li> What is the average number of neighbors for nodes? \n",
    "    <li> What is the largest number of neighbors that any particular node has?\n",
    "    <li> What node(s) has the largest number of neighbors?\n",
    "    <li> What is the fewest number of neighbors that any particular node has?\n",
    "    <li> What node(s) has the fewest number of neighbors?\n",
    "</ul>"
   ]
  },
  {
   "cell_type": "code",
   "execution_count": 95,
   "id": "89daf800",
   "metadata": {},
   "outputs": [],
   "source": [
    "if not os.path.exists('data/network_edges'):\n",
    "    G = net.Graph()\n",
    "    G.add_nodes_from(m1_sub_titles)\n",
    "    G.add_edges_from(network_edges)\n",
    "    G = net.write_pajek(G,'data/network_edges')\n",
    "#net.draw(G,with_labels=True, font_size = 6, node_size=300)\n",
    "#net.draw(G, font_size = 6, node_size=300)\n",
    "else:\n",
    "    G = net.read_pajek('data/network_edges')"
   ]
  },
  {
   "cell_type": "markdown",
   "id": "a70fe9a9",
   "metadata": {},
   "source": [
    "### 4. Calculate the Centrality"
   ]
  },
  {
   "cell_type": "markdown",
   "id": "3cd3b57e",
   "metadata": {},
   "source": [
    "#### Degree Centrality"
   ]
  },
  {
   "cell_type": "code",
   "execution_count": 26,
   "id": "9f964c47",
   "metadata": {},
   "outputs": [],
   "source": [
    "degree_centrality = net.degree_centrality(G)"
   ]
  },
  {
   "cell_type": "code",
   "execution_count": 27,
   "id": "3b1831bb",
   "metadata": {},
   "outputs": [],
   "source": [
    "centrality_list = []\n",
    "centrality_list.append(degree_centrality)"
   ]
  },
  {
   "cell_type": "code",
   "execution_count": 28,
   "id": "9e43b3b7",
   "metadata": {},
   "outputs": [],
   "source": [
    "degree_centrality_df = pd.DataFrame(centrality_list).transpose().reset_index()\n",
    "\n",
    "degree_centrality_df = degree_centrality_df.rename(columns={'index':'title',0:'centrality'})"
   ]
  },
  {
   "cell_type": "markdown",
   "id": "fe949fa5",
   "metadata": {},
   "source": [
    "#### Eigenvector Centrality"
   ]
  },
  {
   "cell_type": "code",
   "execution_count": 29,
   "id": "8625f6b8",
   "metadata": {},
   "outputs": [],
   "source": [
    "eigenvector_centrality = net.eigenvector_centrality(G)"
   ]
  },
  {
   "cell_type": "code",
   "execution_count": 30,
   "id": "6ebad4fd",
   "metadata": {},
   "outputs": [],
   "source": [
    "centrality_list = []\n",
    "centrality_list.append(eigenvector_centrality)"
   ]
  },
  {
   "cell_type": "code",
   "execution_count": 31,
   "id": "ef80abff",
   "metadata": {},
   "outputs": [],
   "source": [
    "eigenvector_centrality_df = pd.DataFrame(centrality_list).transpose().reset_index()\n",
    "\n",
    "eigenvector_centrality_df = eigenvector_centrality_df.rename(columns={'index':'title',0:'centrality'})"
   ]
  },
  {
   "cell_type": "code",
   "execution_count": 32,
   "id": "bd7a8027",
   "metadata": {},
   "outputs": [
    {
     "data": {
      "text/html": [
       "<div>\n",
       "<style scoped>\n",
       "    .dataframe tbody tr th:only-of-type {\n",
       "        vertical-align: middle;\n",
       "    }\n",
       "\n",
       "    .dataframe tbody tr th {\n",
       "        vertical-align: top;\n",
       "    }\n",
       "\n",
       "    .dataframe thead th {\n",
       "        text-align: right;\n",
       "    }\n",
       "</style>\n",
       "<table border=\"1\" class=\"dataframe\">\n",
       "  <thead>\n",
       "    <tr style=\"text-align: right;\">\n",
       "      <th></th>\n",
       "      <th>title</th>\n",
       "      <th>centrality</th>\n",
       "    </tr>\n",
       "  </thead>\n",
       "  <tbody>\n",
       "    <tr>\n",
       "      <th>0</th>\n",
       "      <td>Toy Story (1995)</td>\n",
       "      <td>0.047037</td>\n",
       "    </tr>\n",
       "    <tr>\n",
       "      <th>1</th>\n",
       "      <td>Grumpier Old Men (1995)</td>\n",
       "      <td>0.023855</td>\n",
       "    </tr>\n",
       "    <tr>\n",
       "      <th>2</th>\n",
       "      <td>Heat (1995)</td>\n",
       "      <td>0.035039</td>\n",
       "    </tr>\n",
       "    <tr>\n",
       "      <th>3</th>\n",
       "      <td>Seven (a.k.a. Se7en) (1995)</td>\n",
       "      <td>0.042372</td>\n",
       "    </tr>\n",
       "    <tr>\n",
       "      <th>4</th>\n",
       "      <td>Usual Suspects, The (1995)</td>\n",
       "      <td>0.044370</td>\n",
       "    </tr>\n",
       "  </tbody>\n",
       "</table>\n",
       "</div>"
      ],
      "text/plain": [
       "                         title  centrality\n",
       "0             Toy Story (1995)    0.047037\n",
       "1      Grumpier Old Men (1995)    0.023855\n",
       "2                  Heat (1995)    0.035039\n",
       "3  Seven (a.k.a. Se7en) (1995)    0.042372\n",
       "4   Usual Suspects, The (1995)    0.044370"
      ]
     },
     "execution_count": 32,
     "metadata": {},
     "output_type": "execute_result"
    }
   ],
   "source": [
    "eigenvector_centrality_df.head()"
   ]
  },
  {
   "cell_type": "markdown",
   "id": "29f16a2a",
   "metadata": {},
   "source": [
    "### 5. Network Analysis"
   ]
  },
  {
   "cell_type": "markdown",
   "id": "c6083bc0",
   "metadata": {},
   "source": [
    "<b> a. How many nodes are included in the network?"
   ]
  },
  {
   "cell_type": "code",
   "execution_count": 34,
   "id": "ff2d5d42",
   "metadata": {},
   "outputs": [
    {
     "data": {
      "text/plain": [
       "4894"
      ]
     },
     "execution_count": 34,
     "metadata": {},
     "output_type": "execute_result"
    }
   ],
   "source": [
    "len(list(G.nodes()))"
   ]
  },
  {
   "cell_type": "markdown",
   "id": "6827ecf4",
   "metadata": {},
   "source": [
    "There are 600 nodes in this network - meaning that of our 610 users with ratings. This represents, 98% of the users in the network"
   ]
  },
  {
   "cell_type": "markdown",
   "id": "8069a145",
   "metadata": {},
   "source": [
    "<b> b. What is the diameter of the Graph?"
   ]
  },
  {
   "cell_type": "code",
   "execution_count": 35,
   "id": "36c42c6d",
   "metadata": {},
   "outputs": [],
   "source": [
    "#net.diameter(G)"
   ]
  },
  {
   "cell_type": "markdown",
   "id": "cf5d4f77",
   "metadata": {},
   "source": [
    "The diameter of the graph is 3"
   ]
  },
  {
   "cell_type": "markdown",
   "id": "d7544f9f",
   "metadata": {},
   "source": [
    "<b> c. What is the size of the Graph?"
   ]
  },
  {
   "cell_type": "code",
   "execution_count": 36,
   "id": "f58457cd",
   "metadata": {},
   "outputs": [
    {
     "data": {
      "text/plain": [
       "1145704"
      ]
     },
     "execution_count": 36,
     "metadata": {},
     "output_type": "execute_result"
    }
   ],
   "source": [
    "G.size()"
   ]
  },
  {
   "cell_type": "markdown",
   "id": "c005ef2e",
   "metadata": {},
   "source": [
    "There are a total of 1,145,704 connections amongst the users in this network"
   ]
  },
  {
   "cell_type": "markdown",
   "id": "515cd8e1",
   "metadata": {},
   "source": [
    "<b>d.  What is the average and median number of neighbors for nodes?"
   ]
  },
  {
   "cell_type": "code",
   "execution_count": 37,
   "id": "fa82859c",
   "metadata": {},
   "outputs": [],
   "source": [
    "num_neighbors = [len(list(net.neighbors(G,user))) for user in list(G.nodes())]\n",
    "numbers_group = [{'title':user, 'num_neighbors':len(list(net.neighbors(G,user)))} for user in list(G.nodes())]\n",
    "mean_neighbors = mean(num_neighbors)\n",
    "median_neighbors = np.median(num_neighbors)"
   ]
  },
  {
   "cell_type": "code",
   "execution_count": 38,
   "id": "4f117688",
   "metadata": {},
   "outputs": [
    {
     "data": {
      "text/html": [
       "<div>\n",
       "<style scoped>\n",
       "    .dataframe tbody tr th:only-of-type {\n",
       "        vertical-align: middle;\n",
       "    }\n",
       "\n",
       "    .dataframe tbody tr th {\n",
       "        vertical-align: top;\n",
       "    }\n",
       "\n",
       "    .dataframe thead th {\n",
       "        text-align: right;\n",
       "    }\n",
       "</style>\n",
       "<table border=\"1\" class=\"dataframe\">\n",
       "  <thead>\n",
       "    <tr style=\"text-align: right;\">\n",
       "      <th></th>\n",
       "      <th>title</th>\n",
       "      <th>num_neighbors</th>\n",
       "    </tr>\n",
       "  </thead>\n",
       "  <tbody>\n",
       "  </tbody>\n",
       "</table>\n",
       "</div>"
      ],
      "text/plain": [
       "Empty DataFrame\n",
       "Columns: [title, num_neighbors]\n",
       "Index: []"
      ]
     },
     "execution_count": 38,
     "metadata": {},
     "output_type": "execute_result"
    }
   ],
   "source": [
    "pd.DataFrame(numbers_group)[pd.DataFrame(numbers_group)['title'] == 'The Darkest Minds (2018)']"
   ]
  },
  {
   "cell_type": "code",
   "execution_count": 39,
   "id": "30093299",
   "metadata": {},
   "outputs": [
    {
     "name": "stdout",
     "output_type": "stream",
     "text": [
      "Mean # of Neighbors per User:  468.20760114425826\n",
      "Median # of Neighbors per User:  262.5\n"
     ]
    }
   ],
   "source": [
    "print(\"Mean # of Neighbors per User: \", mean_neighbors)\n",
    "print(\"Median # of Neighbors per User: \", median_neighbors)"
   ]
  },
  {
   "cell_type": "markdown",
   "id": "e6f91f9d",
   "metadata": {},
   "source": [
    "In our network, users had an average of 94.75 neighbors - or users that they were connected to who watched and rated 15 or more of the same movies. This number is much higher than the median of 60. This suggests that there are number of users who have watched so many movies that they had a larger number of users who watched and rated at least 20 of the same movies."
   ]
  },
  {
   "cell_type": "markdown",
   "id": "07f50749",
   "metadata": {},
   "source": [
    "<b>e. What is the largest number of neighbors that any particular node has?"
   ]
  },
  {
   "cell_type": "code",
   "execution_count": 40,
   "id": "72255b9a",
   "metadata": {},
   "outputs": [
    {
     "data": {
      "text/plain": [
       "3426"
      ]
     },
     "execution_count": 40,
     "metadata": {},
     "output_type": "execute_result"
    }
   ],
   "source": [
    "max_neighbors = max(num_neighbors)\n",
    "max_neighbors"
   ]
  },
  {
   "cell_type": "markdown",
   "id": "7c86a82e",
   "metadata": {},
   "source": [
    "The largest number of neighbors that any particular node has is 595 which represents"
   ]
  },
  {
   "cell_type": "markdown",
   "id": "e49e0a0a",
   "metadata": {},
   "source": [
    "<b>f. What node(s) has the largest number of neighbors?\n"
   ]
  },
  {
   "cell_type": "code",
   "execution_count": 41,
   "id": "ad223089",
   "metadata": {},
   "outputs": [
    {
     "data": {
      "text/plain": [
       "['Matrix, The (1999)']"
      ]
     },
     "execution_count": 41,
     "metadata": {},
     "output_type": "execute_result"
    }
   ],
   "source": [
    "nodes_with_max = [user for user in list(G.nodes()) if len(list(net.neighbors(G,user))) == max_neighbors]\n",
    "nodes_with_max"
   ]
  },
  {
   "cell_type": "markdown",
   "id": "8a5760d1",
   "metadata": {},
   "source": [
    "User 414 is the only user with the maximum number of neighbors in the network"
   ]
  },
  {
   "cell_type": "markdown",
   "id": "61f7598a",
   "metadata": {},
   "source": [
    "<b>g. What is the fewest number of neighbors that any particular node has?"
   ]
  },
  {
   "cell_type": "code",
   "execution_count": 42,
   "id": "e2a0b58d",
   "metadata": {},
   "outputs": [
    {
     "data": {
      "text/plain": [
       "19"
      ]
     },
     "execution_count": 42,
     "metadata": {},
     "output_type": "execute_result"
    }
   ],
   "source": [
    "min_neighbors = min(num_neighbors)\n",
    "min_neighbors"
   ]
  },
  {
   "cell_type": "markdown",
   "id": "6664911a",
   "metadata": {},
   "source": [
    "<b>h. What node(s) has the fewest number of neighbors?"
   ]
  },
  {
   "cell_type": "code",
   "execution_count": 43,
   "id": "bc9acb6a",
   "metadata": {},
   "outputs": [
    {
     "data": {
      "text/plain": [
       "['Spies Like Us (1985)', 'District 13 (Banlieue 13) (2004)']"
      ]
     },
     "execution_count": 43,
     "metadata": {},
     "output_type": "execute_result"
    }
   ],
   "source": [
    "nodes_with_min = [user for user in list(G.nodes()) if len(list(net.neighbors(G,user))) == min_neighbors]\n",
    "nodes_with_min"
   ]
  },
  {
   "cell_type": "code",
   "execution_count": 44,
   "id": "896eed35",
   "metadata": {},
   "outputs": [
    {
     "data": {
      "text/plain": [
       "2"
      ]
     },
     "execution_count": 44,
     "metadata": {},
     "output_type": "execute_result"
    }
   ],
   "source": [
    "len(nodes_with_min)"
   ]
  },
  {
   "cell_type": "markdown",
   "id": "a729c119",
   "metadata": {},
   "source": [
    "There were 14 users in our network who only had 1 other user that watched at least the same 20 movies as them."
   ]
  },
  {
   "cell_type": "code",
   "execution_count": 45,
   "id": "8690131d",
   "metadata": {},
   "outputs": [],
   "source": [
    "neighbors_df = pd.DataFrame(numbers_group)"
   ]
  },
  {
   "cell_type": "code",
   "execution_count": 46,
   "id": "881e9d20",
   "metadata": {},
   "outputs": [],
   "source": [
    "neighbors_df = pd.merge(neighbors_df, degree_centrality_df, how='left').rename(columns={'centrality':'degree'})\n"
   ]
  },
  {
   "cell_type": "code",
   "execution_count": 47,
   "id": "8851b996",
   "metadata": {},
   "outputs": [],
   "source": [
    "neighbors_df = pd.merge(neighbors_df, eigenvector_centrality_df, how='left').rename(columns={'centrality':'eigenvector'})"
   ]
  },
  {
   "cell_type": "markdown",
   "id": "e40ce49d",
   "metadata": {},
   "source": [
    "Here we will filter out the movies that are not included in the network"
   ]
  },
  {
   "cell_type": "code",
   "execution_count": 48,
   "id": "e2f3f1b7",
   "metadata": {},
   "outputs": [],
   "source": [
    "movies_filtered = movies_expanded_df[movies_expanded_df['title'].isin(m1_sub_titles)]"
   ]
  },
  {
   "cell_type": "code",
   "execution_count": 49,
   "id": "dde68dee",
   "metadata": {},
   "outputs": [],
   "source": [
    "neighbors_expanded = pd.merge(movies_filtered.loc[:,['genre','title']],neighbors_df, how='left')"
   ]
  },
  {
   "cell_type": "code",
   "execution_count": 50,
   "id": "9ba7c0ba",
   "metadata": {},
   "outputs": [
    {
     "data": {
      "text/html": [
       "<div>\n",
       "<style scoped>\n",
       "    .dataframe tbody tr th:only-of-type {\n",
       "        vertical-align: middle;\n",
       "    }\n",
       "\n",
       "    .dataframe tbody tr th {\n",
       "        vertical-align: top;\n",
       "    }\n",
       "\n",
       "    .dataframe thead th {\n",
       "        text-align: right;\n",
       "    }\n",
       "</style>\n",
       "<table border=\"1\" class=\"dataframe\">\n",
       "  <thead>\n",
       "    <tr style=\"text-align: right;\">\n",
       "      <th></th>\n",
       "      <th>genre</th>\n",
       "      <th>title</th>\n",
       "      <th>num_neighbors</th>\n",
       "      <th>degree</th>\n",
       "      <th>eigenvector</th>\n",
       "    </tr>\n",
       "  </thead>\n",
       "  <tbody>\n",
       "    <tr>\n",
       "      <th>11215</th>\n",
       "      <td>Thriller</td>\n",
       "      <td>Insurgent (2015)</td>\n",
       "      <td>20</td>\n",
       "      <td>0.004087</td>\n",
       "      <td>0.000569</td>\n",
       "    </tr>\n",
       "    <tr>\n",
       "      <th>11214</th>\n",
       "      <td>Sci-Fi</td>\n",
       "      <td>Insurgent (2015)</td>\n",
       "      <td>20</td>\n",
       "      <td>0.004087</td>\n",
       "      <td>0.000569</td>\n",
       "    </tr>\n",
       "    <tr>\n",
       "      <th>5055</th>\n",
       "      <td>Drama</td>\n",
       "      <td>Circus (2000)</td>\n",
       "      <td>20</td>\n",
       "      <td>0.004087</td>\n",
       "      <td>0.000415</td>\n",
       "    </tr>\n",
       "    <tr>\n",
       "      <th>11213</th>\n",
       "      <td>Action</td>\n",
       "      <td>Insurgent (2015)</td>\n",
       "      <td>20</td>\n",
       "      <td>0.004087</td>\n",
       "      <td>0.000569</td>\n",
       "    </tr>\n",
       "    <tr>\n",
       "      <th>5056</th>\n",
       "      <td>Thriller</td>\n",
       "      <td>Circus (2000)</td>\n",
       "      <td>20</td>\n",
       "      <td>0.004087</td>\n",
       "      <td>0.000415</td>\n",
       "    </tr>\n",
       "    <tr>\n",
       "      <th>10499</th>\n",
       "      <td>Documentary</td>\n",
       "      <td>Samsara (2011)</td>\n",
       "      <td>20</td>\n",
       "      <td>0.004087</td>\n",
       "      <td>0.000902</td>\n",
       "    </tr>\n",
       "    <tr>\n",
       "      <th>7780</th>\n",
       "      <td>Comedy</td>\n",
       "      <td>Spies Like Us (1985)</td>\n",
       "      <td>19</td>\n",
       "      <td>0.003883</td>\n",
       "      <td>0.000378</td>\n",
       "    </tr>\n",
       "    <tr>\n",
       "      <th>8305</th>\n",
       "      <td>Action</td>\n",
       "      <td>District 13 (Banlieue 13) (2004)</td>\n",
       "      <td>19</td>\n",
       "      <td>0.003883</td>\n",
       "      <td>0.000378</td>\n",
       "    </tr>\n",
       "    <tr>\n",
       "      <th>8306</th>\n",
       "      <td>Crime</td>\n",
       "      <td>District 13 (Banlieue 13) (2004)</td>\n",
       "      <td>19</td>\n",
       "      <td>0.003883</td>\n",
       "      <td>0.000378</td>\n",
       "    </tr>\n",
       "    <tr>\n",
       "      <th>8307</th>\n",
       "      <td>Sci-Fi</td>\n",
       "      <td>District 13 (Banlieue 13) (2004)</td>\n",
       "      <td>19</td>\n",
       "      <td>0.003883</td>\n",
       "      <td>0.000378</td>\n",
       "    </tr>\n",
       "  </tbody>\n",
       "</table>\n",
       "</div>"
      ],
      "text/plain": [
       "             genre                             title  num_neighbors    degree  \\\n",
       "11215     Thriller                  Insurgent (2015)             20  0.004087   \n",
       "11214       Sci-Fi                  Insurgent (2015)             20  0.004087   \n",
       "5055         Drama                     Circus (2000)             20  0.004087   \n",
       "11213       Action                  Insurgent (2015)             20  0.004087   \n",
       "5056      Thriller                     Circus (2000)             20  0.004087   \n",
       "10499  Documentary                    Samsara (2011)             20  0.004087   \n",
       "7780        Comedy              Spies Like Us (1985)             19  0.003883   \n",
       "8305        Action  District 13 (Banlieue 13) (2004)             19  0.003883   \n",
       "8306         Crime  District 13 (Banlieue 13) (2004)             19  0.003883   \n",
       "8307        Sci-Fi  District 13 (Banlieue 13) (2004)             19  0.003883   \n",
       "\n",
       "       eigenvector  \n",
       "11215     0.000569  \n",
       "11214     0.000569  \n",
       "5055      0.000415  \n",
       "11213     0.000569  \n",
       "5056      0.000415  \n",
       "10499     0.000902  \n",
       "7780      0.000378  \n",
       "8305      0.000378  \n",
       "8306      0.000378  \n",
       "8307      0.000378  "
      ]
     },
     "execution_count": 50,
     "metadata": {},
     "output_type": "execute_result"
    }
   ],
   "source": [
    "neighbors_expanded.sort_values(by='num_neighbors', ascending=False).tail(10)"
   ]
  },
  {
   "cell_type": "code",
   "execution_count": 51,
   "id": "db2495ae",
   "metadata": {},
   "outputs": [
    {
     "data": {
      "text/html": [
       "<div>\n",
       "<style scoped>\n",
       "    .dataframe tbody tr th:only-of-type {\n",
       "        vertical-align: middle;\n",
       "    }\n",
       "\n",
       "    .dataframe tbody tr th {\n",
       "        vertical-align: top;\n",
       "    }\n",
       "\n",
       "    .dataframe thead th {\n",
       "        text-align: right;\n",
       "    }\n",
       "</style>\n",
       "<table border=\"1\" class=\"dataframe\">\n",
       "  <thead>\n",
       "    <tr style=\"text-align: right;\">\n",
       "      <th></th>\n",
       "      <th>genre</th>\n",
       "      <th>title</th>\n",
       "      <th>num_neighbors</th>\n",
       "      <th>degree</th>\n",
       "      <th>eigenvector</th>\n",
       "    </tr>\n",
       "  </thead>\n",
       "  <tbody>\n",
       "    <tr>\n",
       "      <th>599</th>\n",
       "      <td>Drama</td>\n",
       "      <td>Forrest Gump (1994)</td>\n",
       "      <td>3419</td>\n",
       "      <td>0.698753</td>\n",
       "      <td>0.050478</td>\n",
       "    </tr>\n",
       "    <tr>\n",
       "      <th>500</th>\n",
       "      <td>Drama</td>\n",
       "      <td>Pulp Fiction (1994)</td>\n",
       "      <td>3353</td>\n",
       "      <td>0.685265</td>\n",
       "      <td>0.049426</td>\n",
       "    </tr>\n",
       "    <tr>\n",
       "      <th>535</th>\n",
       "      <td>Drama</td>\n",
       "      <td>Shawshank Redemption, The (1994)</td>\n",
       "      <td>3147</td>\n",
       "      <td>0.643164</td>\n",
       "      <td>0.048215</td>\n",
       "    </tr>\n",
       "    <tr>\n",
       "      <th>3955</th>\n",
       "      <td>Drama</td>\n",
       "      <td>American Beauty (1999)</td>\n",
       "      <td>3010</td>\n",
       "      <td>0.615165</td>\n",
       "      <td>0.046755</td>\n",
       "    </tr>\n",
       "    <tr>\n",
       "      <th>1255</th>\n",
       "      <td>Drama</td>\n",
       "      <td>Godfather, The (1972)</td>\n",
       "      <td>2946</td>\n",
       "      <td>0.602085</td>\n",
       "      <td>0.046215</td>\n",
       "    </tr>\n",
       "    <tr>\n",
       "      <th>2856</th>\n",
       "      <td>Drama</td>\n",
       "      <td>Saving Private Ryan (1998)</td>\n",
       "      <td>2939</td>\n",
       "      <td>0.600654</td>\n",
       "      <td>0.047290</td>\n",
       "    </tr>\n",
       "    <tr>\n",
       "      <th>208</th>\n",
       "      <td>Drama</td>\n",
       "      <td>Braveheart (1995)</td>\n",
       "      <td>2831</td>\n",
       "      <td>0.578582</td>\n",
       "      <td>0.046197</td>\n",
       "    </tr>\n",
       "    <tr>\n",
       "      <th>3850</th>\n",
       "      <td>Drama</td>\n",
       "      <td>Sixth Sense, The (1999)</td>\n",
       "      <td>2815</td>\n",
       "      <td>0.575312</td>\n",
       "      <td>0.045859</td>\n",
       "    </tr>\n",
       "    <tr>\n",
       "      <th>862</th>\n",
       "      <td>Drama</td>\n",
       "      <td>Schindler's List (1993)</td>\n",
       "      <td>2787</td>\n",
       "      <td>0.569589</td>\n",
       "      <td>0.045543</td>\n",
       "    </tr>\n",
       "    <tr>\n",
       "      <th>4088</th>\n",
       "      <td>Drama</td>\n",
       "      <td>Fight Club (1999)</td>\n",
       "      <td>2734</td>\n",
       "      <td>0.558757</td>\n",
       "      <td>0.044346</td>\n",
       "    </tr>\n",
       "  </tbody>\n",
       "</table>\n",
       "</div>"
      ],
      "text/plain": [
       "      genre                             title  num_neighbors    degree  \\\n",
       "599   Drama               Forrest Gump (1994)           3419  0.698753   \n",
       "500   Drama               Pulp Fiction (1994)           3353  0.685265   \n",
       "535   Drama  Shawshank Redemption, The (1994)           3147  0.643164   \n",
       "3955  Drama            American Beauty (1999)           3010  0.615165   \n",
       "1255  Drama             Godfather, The (1972)           2946  0.602085   \n",
       "2856  Drama        Saving Private Ryan (1998)           2939  0.600654   \n",
       "208   Drama                 Braveheart (1995)           2831  0.578582   \n",
       "3850  Drama           Sixth Sense, The (1999)           2815  0.575312   \n",
       "862   Drama           Schindler's List (1993)           2787  0.569589   \n",
       "4088  Drama                 Fight Club (1999)           2734  0.558757   \n",
       "\n",
       "      eigenvector  \n",
       "599      0.050478  \n",
       "500      0.049426  \n",
       "535      0.048215  \n",
       "3955     0.046755  \n",
       "1255     0.046215  \n",
       "2856     0.047290  \n",
       "208      0.046197  \n",
       "3850     0.045859  \n",
       "862      0.045543  \n",
       "4088     0.044346  "
      ]
     },
     "execution_count": 51,
     "metadata": {},
     "output_type": "execute_result"
    }
   ],
   "source": [
    "neighbors_expanded[neighbors_expanded['genre'] == 'Drama'].sort_values(by='degree', ascending=False).head(10)"
   ]
  },
  {
   "cell_type": "code",
   "execution_count": 52,
   "id": "4e59365d",
   "metadata": {},
   "outputs": [
    {
     "data": {
      "text/html": [
       "<div>\n",
       "<style scoped>\n",
       "    .dataframe tbody tr th:only-of-type {\n",
       "        vertical-align: middle;\n",
       "    }\n",
       "\n",
       "    .dataframe tbody tr th {\n",
       "        vertical-align: top;\n",
       "    }\n",
       "\n",
       "    .dataframe thead th {\n",
       "        text-align: right;\n",
       "    }\n",
       "</style>\n",
       "<table border=\"1\" class=\"dataframe\">\n",
       "  <thead>\n",
       "    <tr style=\"text-align: right;\">\n",
       "      <th></th>\n",
       "      <th>genre</th>\n",
       "      <th>title</th>\n",
       "      <th>num_neighbors</th>\n",
       "      <th>degree</th>\n",
       "      <th>eigenvector</th>\n",
       "    </tr>\n",
       "  </thead>\n",
       "  <tbody>\n",
       "    <tr>\n",
       "      <th>3619</th>\n",
       "      <td>Thriller</td>\n",
       "      <td>Matrix, The (1999)</td>\n",
       "      <td>3426</td>\n",
       "      <td>0.700184</td>\n",
       "      <td>0.050229</td>\n",
       "    </tr>\n",
       "    <tr>\n",
       "      <th>3618</th>\n",
       "      <td>Sci-Fi</td>\n",
       "      <td>Matrix, The (1999)</td>\n",
       "      <td>3426</td>\n",
       "      <td>0.700184</td>\n",
       "      <td>0.050229</td>\n",
       "    </tr>\n",
       "    <tr>\n",
       "      <th>3617</th>\n",
       "      <td>Action</td>\n",
       "      <td>Matrix, The (1999)</td>\n",
       "      <td>3426</td>\n",
       "      <td>0.700184</td>\n",
       "      <td>0.050229</td>\n",
       "    </tr>\n",
       "    <tr>\n",
       "      <th>601</th>\n",
       "      <td>War</td>\n",
       "      <td>Forrest Gump (1994)</td>\n",
       "      <td>3419</td>\n",
       "      <td>0.698753</td>\n",
       "      <td>0.050478</td>\n",
       "    </tr>\n",
       "    <tr>\n",
       "      <th>598</th>\n",
       "      <td>Comedy</td>\n",
       "      <td>Forrest Gump (1994)</td>\n",
       "      <td>3419</td>\n",
       "      <td>0.698753</td>\n",
       "      <td>0.050478</td>\n",
       "    </tr>\n",
       "    <tr>\n",
       "      <th>...</th>\n",
       "      <td>...</td>\n",
       "      <td>...</td>\n",
       "      <td>...</td>\n",
       "      <td>...</td>\n",
       "      <td>...</td>\n",
       "    </tr>\n",
       "    <tr>\n",
       "      <th>10499</th>\n",
       "      <td>Documentary</td>\n",
       "      <td>Samsara (2011)</td>\n",
       "      <td>20</td>\n",
       "      <td>0.004087</td>\n",
       "      <td>0.000902</td>\n",
       "    </tr>\n",
       "    <tr>\n",
       "      <th>7780</th>\n",
       "      <td>Comedy</td>\n",
       "      <td>Spies Like Us (1985)</td>\n",
       "      <td>19</td>\n",
       "      <td>0.003883</td>\n",
       "      <td>0.000378</td>\n",
       "    </tr>\n",
       "    <tr>\n",
       "      <th>8305</th>\n",
       "      <td>Action</td>\n",
       "      <td>District 13 (Banlieue 13) (2004)</td>\n",
       "      <td>19</td>\n",
       "      <td>0.003883</td>\n",
       "      <td>0.000378</td>\n",
       "    </tr>\n",
       "    <tr>\n",
       "      <th>8306</th>\n",
       "      <td>Crime</td>\n",
       "      <td>District 13 (Banlieue 13) (2004)</td>\n",
       "      <td>19</td>\n",
       "      <td>0.003883</td>\n",
       "      <td>0.000378</td>\n",
       "    </tr>\n",
       "    <tr>\n",
       "      <th>8307</th>\n",
       "      <td>Sci-Fi</td>\n",
       "      <td>District 13 (Banlieue 13) (2004)</td>\n",
       "      <td>19</td>\n",
       "      <td>0.003883</td>\n",
       "      <td>0.000378</td>\n",
       "    </tr>\n",
       "  </tbody>\n",
       "</table>\n",
       "<p>11816 rows × 5 columns</p>\n",
       "</div>"
      ],
      "text/plain": [
       "             genre                             title  num_neighbors    degree  \\\n",
       "3619      Thriller                Matrix, The (1999)           3426  0.700184   \n",
       "3618        Sci-Fi                Matrix, The (1999)           3426  0.700184   \n",
       "3617        Action                Matrix, The (1999)           3426  0.700184   \n",
       "601            War               Forrest Gump (1994)           3419  0.698753   \n",
       "598         Comedy               Forrest Gump (1994)           3419  0.698753   \n",
       "...            ...                               ...            ...       ...   \n",
       "10499  Documentary                    Samsara (2011)             20  0.004087   \n",
       "7780        Comedy              Spies Like Us (1985)             19  0.003883   \n",
       "8305        Action  District 13 (Banlieue 13) (2004)             19  0.003883   \n",
       "8306         Crime  District 13 (Banlieue 13) (2004)             19  0.003883   \n",
       "8307        Sci-Fi  District 13 (Banlieue 13) (2004)             19  0.003883   \n",
       "\n",
       "       eigenvector  \n",
       "3619      0.050229  \n",
       "3618      0.050229  \n",
       "3617      0.050229  \n",
       "601       0.050478  \n",
       "598       0.050478  \n",
       "...            ...  \n",
       "10499     0.000902  \n",
       "7780      0.000378  \n",
       "8305      0.000378  \n",
       "8306      0.000378  \n",
       "8307      0.000378  \n",
       "\n",
       "[11816 rows x 5 columns]"
      ]
     },
     "execution_count": 52,
     "metadata": {},
     "output_type": "execute_result"
    }
   ],
   "source": [
    "neighbors_expanded.sort_values(by='degree', ascending=False)"
   ]
  },
  {
   "cell_type": "markdown",
   "id": "0376f3d3",
   "metadata": {},
   "source": [
    "### Centrality\n",
    "\n",
    "Some of the questions that are of interest would be:\n",
    "\n",
    "- Find summary metrics for each genre\n",
    "    - Number of Titles\n",
    "    - Median number of neighbors\n",
    "    - Max number of neighbors\n",
    "    - Min number of neighbors\n",
    "    - Median degree\n",
    "    - Max degree\n",
    "    - Min degree\n",
    "    - Median eigenvector\n",
    "    - Max eigenvector\n",
    "    - Min eigenvector\n",
    "- What are the 10 most popular movies? (Across all categories)\n",
    "- What is the most popular movie across each genre?"
   ]
  },
  {
   "cell_type": "code",
   "execution_count": 107,
   "id": "535aba33",
   "metadata": {},
   "outputs": [
    {
     "data": {
      "text/html": [
       "<div>\n",
       "<style scoped>\n",
       "    .dataframe tbody tr th:only-of-type {\n",
       "        vertical-align: middle;\n",
       "    }\n",
       "\n",
       "    .dataframe tbody tr th {\n",
       "        vertical-align: top;\n",
       "    }\n",
       "\n",
       "    .dataframe thead th {\n",
       "        text-align: right;\n",
       "    }\n",
       "</style>\n",
       "<table border=\"1\" class=\"dataframe\">\n",
       "  <thead>\n",
       "    <tr style=\"text-align: right;\">\n",
       "      <th></th>\n",
       "      <th>genre</th>\n",
       "      <th>num_titles</th>\n",
       "      <th>median_neighbors</th>\n",
       "      <th>mean_neighbors</th>\n",
       "      <th>max_neighbors</th>\n",
       "      <th>min_neighbors</th>\n",
       "      <th>median_degree</th>\n",
       "      <th>mean_degree</th>\n",
       "      <th>max_degree</th>\n",
       "      <th>min_degree</th>\n",
       "    </tr>\n",
       "  </thead>\n",
       "  <tbody>\n",
       "    <tr>\n",
       "      <th>16</th>\n",
       "      <td>Sci-Fi</td>\n",
       "      <td>579</td>\n",
       "      <td>419.0</td>\n",
       "      <td>624.616580</td>\n",
       "      <td>3426</td>\n",
       "      <td>19</td>\n",
       "      <td>0.085633</td>\n",
       "      <td>0.127655</td>\n",
       "      <td>0.700184</td>\n",
       "      <td>0.003883</td>\n",
       "    </tr>\n",
       "    <tr>\n",
       "      <th>1</th>\n",
       "      <td>Action</td>\n",
       "      <td>1032</td>\n",
       "      <td>396.5</td>\n",
       "      <td>600.646318</td>\n",
       "      <td>3426</td>\n",
       "      <td>19</td>\n",
       "      <td>0.081034</td>\n",
       "      <td>0.122756</td>\n",
       "      <td>0.700184</td>\n",
       "      <td>0.003883</td>\n",
       "    </tr>\n",
       "    <tr>\n",
       "      <th>17</th>\n",
       "      <td>Thriller</td>\n",
       "      <td>1062</td>\n",
       "      <td>322.5</td>\n",
       "      <td>525.063089</td>\n",
       "      <td>3426</td>\n",
       "      <td>20</td>\n",
       "      <td>0.065910</td>\n",
       "      <td>0.107309</td>\n",
       "      <td>0.700184</td>\n",
       "      <td>0.004087</td>\n",
       "    </tr>\n",
       "    <tr>\n",
       "      <th>18</th>\n",
       "      <td>War</td>\n",
       "      <td>208</td>\n",
       "      <td>279.5</td>\n",
       "      <td>523.461538</td>\n",
       "      <td>3419</td>\n",
       "      <td>23</td>\n",
       "      <td>0.057122</td>\n",
       "      <td>0.106982</td>\n",
       "      <td>0.698753</td>\n",
       "      <td>0.004701</td>\n",
       "    </tr>\n",
       "    <tr>\n",
       "      <th>15</th>\n",
       "      <td>Romance</td>\n",
       "      <td>909</td>\n",
       "      <td>313.0</td>\n",
       "      <td>507.547855</td>\n",
       "      <td>3419</td>\n",
       "      <td>20</td>\n",
       "      <td>0.063969</td>\n",
       "      <td>0.103729</td>\n",
       "      <td>0.698753</td>\n",
       "      <td>0.004087</td>\n",
       "    </tr>\n",
       "    <tr>\n",
       "      <th>8</th>\n",
       "      <td>Drama</td>\n",
       "      <td>2254</td>\n",
       "      <td>252.0</td>\n",
       "      <td>450.492458</td>\n",
       "      <td>3419</td>\n",
       "      <td>20</td>\n",
       "      <td>0.051502</td>\n",
       "      <td>0.092069</td>\n",
       "      <td>0.698753</td>\n",
       "      <td>0.004087</td>\n",
       "    </tr>\n",
       "    <tr>\n",
       "      <th>5</th>\n",
       "      <td>Comedy</td>\n",
       "      <td>1812</td>\n",
       "      <td>289.0</td>\n",
       "      <td>482.525938</td>\n",
       "      <td>3419</td>\n",
       "      <td>19</td>\n",
       "      <td>0.059064</td>\n",
       "      <td>0.098616</td>\n",
       "      <td>0.698753</td>\n",
       "      <td>0.003883</td>\n",
       "    </tr>\n",
       "    <tr>\n",
       "      <th>6</th>\n",
       "      <td>Crime</td>\n",
       "      <td>608</td>\n",
       "      <td>320.5</td>\n",
       "      <td>554.279605</td>\n",
       "      <td>3353</td>\n",
       "      <td>19</td>\n",
       "      <td>0.065502</td>\n",
       "      <td>0.113280</td>\n",
       "      <td>0.685265</td>\n",
       "      <td>0.003883</td>\n",
       "    </tr>\n",
       "    <tr>\n",
       "      <th>2</th>\n",
       "      <td>Adventure</td>\n",
       "      <td>805</td>\n",
       "      <td>436.0</td>\n",
       "      <td>644.226087</td>\n",
       "      <td>3250</td>\n",
       "      <td>20</td>\n",
       "      <td>0.089107</td>\n",
       "      <td>0.131663</td>\n",
       "      <td>0.664214</td>\n",
       "      <td>0.004087</td>\n",
       "    </tr>\n",
       "    <tr>\n",
       "      <th>11</th>\n",
       "      <td>Horror</td>\n",
       "      <td>460</td>\n",
       "      <td>230.0</td>\n",
       "      <td>384.504348</td>\n",
       "      <td>3211</td>\n",
       "      <td>21</td>\n",
       "      <td>0.047006</td>\n",
       "      <td>0.078583</td>\n",
       "      <td>0.656244</td>\n",
       "      <td>0.004292</td>\n",
       "    </tr>\n",
       "    <tr>\n",
       "      <th>4</th>\n",
       "      <td>Children</td>\n",
       "      <td>406</td>\n",
       "      <td>395.0</td>\n",
       "      <td>564.487685</td>\n",
       "      <td>2910</td>\n",
       "      <td>24</td>\n",
       "      <td>0.080728</td>\n",
       "      <td>0.115366</td>\n",
       "      <td>0.594727</td>\n",
       "      <td>0.004905</td>\n",
       "    </tr>\n",
       "    <tr>\n",
       "      <th>9</th>\n",
       "      <td>Fantasy</td>\n",
       "      <td>475</td>\n",
       "      <td>373.0</td>\n",
       "      <td>573.454737</td>\n",
       "      <td>2910</td>\n",
       "      <td>21</td>\n",
       "      <td>0.076231</td>\n",
       "      <td>0.117199</td>\n",
       "      <td>0.594727</td>\n",
       "      <td>0.004292</td>\n",
       "    </tr>\n",
       "    <tr>\n",
       "      <th>3</th>\n",
       "      <td>Animation</td>\n",
       "      <td>307</td>\n",
       "      <td>322.0</td>\n",
       "      <td>529.801303</td>\n",
       "      <td>2910</td>\n",
       "      <td>26</td>\n",
       "      <td>0.065808</td>\n",
       "      <td>0.108277</td>\n",
       "      <td>0.594727</td>\n",
       "      <td>0.005314</td>\n",
       "    </tr>\n",
       "    <tr>\n",
       "      <th>14</th>\n",
       "      <td>Mystery</td>\n",
       "      <td>323</td>\n",
       "      <td>362.0</td>\n",
       "      <td>540.157895</td>\n",
       "      <td>2815</td>\n",
       "      <td>22</td>\n",
       "      <td>0.073983</td>\n",
       "      <td>0.110394</td>\n",
       "      <td>0.575312</td>\n",
       "      <td>0.004496</td>\n",
       "    </tr>\n",
       "    <tr>\n",
       "      <th>13</th>\n",
       "      <td>Musical</td>\n",
       "      <td>191</td>\n",
       "      <td>294.0</td>\n",
       "      <td>536.198953</td>\n",
       "      <td>2664</td>\n",
       "      <td>22</td>\n",
       "      <td>0.060086</td>\n",
       "      <td>0.109585</td>\n",
       "      <td>0.544451</td>\n",
       "      <td>0.004496</td>\n",
       "    </tr>\n",
       "    <tr>\n",
       "      <th>12</th>\n",
       "      <td>IMAX</td>\n",
       "      <td>117</td>\n",
       "      <td>582.0</td>\n",
       "      <td>717.880342</td>\n",
       "      <td>2568</td>\n",
       "      <td>28</td>\n",
       "      <td>0.118945</td>\n",
       "      <td>0.146716</td>\n",
       "      <td>0.524831</td>\n",
       "      <td>0.005722</td>\n",
       "    </tr>\n",
       "    <tr>\n",
       "      <th>10</th>\n",
       "      <td>Film-Noir</td>\n",
       "      <td>43</td>\n",
       "      <td>328.0</td>\n",
       "      <td>508.720930</td>\n",
       "      <td>2074</td>\n",
       "      <td>22</td>\n",
       "      <td>0.067035</td>\n",
       "      <td>0.103969</td>\n",
       "      <td>0.423871</td>\n",
       "      <td>0.004496</td>\n",
       "    </tr>\n",
       "    <tr>\n",
       "      <th>19</th>\n",
       "      <td>Western</td>\n",
       "      <td>81</td>\n",
       "      <td>300.0</td>\n",
       "      <td>500.469136</td>\n",
       "      <td>2043</td>\n",
       "      <td>26</td>\n",
       "      <td>0.061312</td>\n",
       "      <td>0.102283</td>\n",
       "      <td>0.417535</td>\n",
       "      <td>0.005314</td>\n",
       "    </tr>\n",
       "    <tr>\n",
       "      <th>7</th>\n",
       "      <td>Documentary</td>\n",
       "      <td>138</td>\n",
       "      <td>151.0</td>\n",
       "      <td>198.862319</td>\n",
       "      <td>1337</td>\n",
       "      <td>20</td>\n",
       "      <td>0.030860</td>\n",
       "      <td>0.040642</td>\n",
       "      <td>0.273247</td>\n",
       "      <td>0.004087</td>\n",
       "    </tr>\n",
       "    <tr>\n",
       "      <th>0</th>\n",
       "      <td>(no genres listed)</td>\n",
       "      <td>6</td>\n",
       "      <td>116.5</td>\n",
       "      <td>123.166667</td>\n",
       "      <td>243</td>\n",
       "      <td>26</td>\n",
       "      <td>0.023810</td>\n",
       "      <td>0.025172</td>\n",
       "      <td>0.049663</td>\n",
       "      <td>0.005314</td>\n",
       "    </tr>\n",
       "  </tbody>\n",
       "</table>\n",
       "</div>"
      ],
      "text/plain": [
       "                 genre  num_titles  median_neighbors  mean_neighbors  \\\n",
       "16              Sci-Fi         579             419.0      624.616580   \n",
       "1               Action        1032             396.5      600.646318   \n",
       "17            Thriller        1062             322.5      525.063089   \n",
       "18                 War         208             279.5      523.461538   \n",
       "15             Romance         909             313.0      507.547855   \n",
       "8                Drama        2254             252.0      450.492458   \n",
       "5               Comedy        1812             289.0      482.525938   \n",
       "6                Crime         608             320.5      554.279605   \n",
       "2            Adventure         805             436.0      644.226087   \n",
       "11              Horror         460             230.0      384.504348   \n",
       "4             Children         406             395.0      564.487685   \n",
       "9              Fantasy         475             373.0      573.454737   \n",
       "3            Animation         307             322.0      529.801303   \n",
       "14             Mystery         323             362.0      540.157895   \n",
       "13             Musical         191             294.0      536.198953   \n",
       "12                IMAX         117             582.0      717.880342   \n",
       "10           Film-Noir          43             328.0      508.720930   \n",
       "19             Western          81             300.0      500.469136   \n",
       "7          Documentary         138             151.0      198.862319   \n",
       "0   (no genres listed)           6             116.5      123.166667   \n",
       "\n",
       "    max_neighbors  min_neighbors  median_degree  mean_degree  max_degree  \\\n",
       "16           3426             19       0.085633     0.127655    0.700184   \n",
       "1            3426             19       0.081034     0.122756    0.700184   \n",
       "17           3426             20       0.065910     0.107309    0.700184   \n",
       "18           3419             23       0.057122     0.106982    0.698753   \n",
       "15           3419             20       0.063969     0.103729    0.698753   \n",
       "8            3419             20       0.051502     0.092069    0.698753   \n",
       "5            3419             19       0.059064     0.098616    0.698753   \n",
       "6            3353             19       0.065502     0.113280    0.685265   \n",
       "2            3250             20       0.089107     0.131663    0.664214   \n",
       "11           3211             21       0.047006     0.078583    0.656244   \n",
       "4            2910             24       0.080728     0.115366    0.594727   \n",
       "9            2910             21       0.076231     0.117199    0.594727   \n",
       "3            2910             26       0.065808     0.108277    0.594727   \n",
       "14           2815             22       0.073983     0.110394    0.575312   \n",
       "13           2664             22       0.060086     0.109585    0.544451   \n",
       "12           2568             28       0.118945     0.146716    0.524831   \n",
       "10           2074             22       0.067035     0.103969    0.423871   \n",
       "19           2043             26       0.061312     0.102283    0.417535   \n",
       "7            1337             20       0.030860     0.040642    0.273247   \n",
       "0             243             26       0.023810     0.025172    0.049663   \n",
       "\n",
       "    min_degree  \n",
       "16    0.003883  \n",
       "1     0.003883  \n",
       "17    0.004087  \n",
       "18    0.004701  \n",
       "15    0.004087  \n",
       "8     0.004087  \n",
       "5     0.003883  \n",
       "6     0.003883  \n",
       "2     0.004087  \n",
       "11    0.004292  \n",
       "4     0.004905  \n",
       "9     0.004292  \n",
       "3     0.005314  \n",
       "14    0.004496  \n",
       "13    0.004496  \n",
       "12    0.005722  \n",
       "10    0.004496  \n",
       "19    0.005314  \n",
       "7     0.004087  \n",
       "0     0.005314  "
      ]
     },
     "execution_count": 107,
     "metadata": {},
     "output_type": "execute_result"
    }
   ],
   "source": [
    "neighbors_expanded.groupby('genre').agg(\n",
    "    num_titles = ('title','count'),\n",
    "    median_neighbors = ('num_neighbors','median'),\n",
    "    mean_neighbors = ('num_neighbors','mean'),\n",
    "    max_neighbors = ('num_neighbors','max'),\n",
    "    min_neighbors = ('num_neighbors','min'),\n",
    "    median_degree = ('degree','median'),\n",
    "    mean_degree = ('degree','mean'),\n",
    "    max_degree = ('degree','max'),\n",
    "    min_degree = ('degree','min')\n",
    "    \n",
    ").reset_index().sort_values(by='max_degree', ascending=False)"
   ]
  },
  {
   "cell_type": "code",
   "execution_count": 108,
   "id": "366a5396",
   "metadata": {},
   "outputs": [],
   "source": [
    "top10_titles = neighbors_expanded.sort_values(by='degree', ascending=False).drop_duplicates(subset=['title']).head(10)\n"
   ]
  },
  {
   "cell_type": "code",
   "execution_count": 109,
   "id": "6f540231",
   "metadata": {},
   "outputs": [
    {
     "data": {
      "text/html": [
       "<div>\n",
       "<style scoped>\n",
       "    .dataframe tbody tr th:only-of-type {\n",
       "        vertical-align: middle;\n",
       "    }\n",
       "\n",
       "    .dataframe tbody tr th {\n",
       "        vertical-align: top;\n",
       "    }\n",
       "\n",
       "    .dataframe thead th {\n",
       "        text-align: right;\n",
       "    }\n",
       "</style>\n",
       "<table border=\"1\" class=\"dataframe\">\n",
       "  <thead>\n",
       "    <tr style=\"text-align: right;\">\n",
       "      <th></th>\n",
       "      <th>genre</th>\n",
       "      <th>title</th>\n",
       "      <th>num_neighbors</th>\n",
       "      <th>degree</th>\n",
       "      <th>eigenvector</th>\n",
       "    </tr>\n",
       "  </thead>\n",
       "  <tbody>\n",
       "    <tr>\n",
       "      <th>3619</th>\n",
       "      <td>Thriller</td>\n",
       "      <td>Matrix, The (1999)</td>\n",
       "      <td>3426</td>\n",
       "      <td>0.700184</td>\n",
       "      <td>0.050229</td>\n",
       "    </tr>\n",
       "    <tr>\n",
       "      <th>601</th>\n",
       "      <td>War</td>\n",
       "      <td>Forrest Gump (1994)</td>\n",
       "      <td>3419</td>\n",
       "      <td>0.698753</td>\n",
       "      <td>0.050478</td>\n",
       "    </tr>\n",
       "    <tr>\n",
       "      <th>498</th>\n",
       "      <td>Comedy</td>\n",
       "      <td>Pulp Fiction (1994)</td>\n",
       "      <td>3353</td>\n",
       "      <td>0.685265</td>\n",
       "      <td>0.049426</td>\n",
       "    </tr>\n",
       "    <tr>\n",
       "      <th>440</th>\n",
       "      <td>Action</td>\n",
       "      <td>Star Wars: Episode IV - A New Hope (1977)</td>\n",
       "      <td>3250</td>\n",
       "      <td>0.664214</td>\n",
       "      <td>0.049499</td>\n",
       "    </tr>\n",
       "    <tr>\n",
       "      <th>970</th>\n",
       "      <td>Crime</td>\n",
       "      <td>Silence of the Lambs, The (1991)</td>\n",
       "      <td>3211</td>\n",
       "      <td>0.656244</td>\n",
       "      <td>0.048782</td>\n",
       "    </tr>\n",
       "    <tr>\n",
       "      <th>534</th>\n",
       "      <td>Crime</td>\n",
       "      <td>Shawshank Redemption, The (1994)</td>\n",
       "      <td>3147</td>\n",
       "      <td>0.643164</td>\n",
       "      <td>0.048215</td>\n",
       "    </tr>\n",
       "    <tr>\n",
       "      <th>1711</th>\n",
       "      <td>Sci-Fi</td>\n",
       "      <td>Star Wars: Episode V - The Empire Strikes Back...</td>\n",
       "      <td>3021</td>\n",
       "      <td>0.617413</td>\n",
       "      <td>0.048106</td>\n",
       "    </tr>\n",
       "    <tr>\n",
       "      <th>3955</th>\n",
       "      <td>Drama</td>\n",
       "      <td>American Beauty (1999)</td>\n",
       "      <td>3010</td>\n",
       "      <td>0.615165</td>\n",
       "      <td>0.046755</td>\n",
       "    </tr>\n",
       "    <tr>\n",
       "      <th>1897</th>\n",
       "      <td>Adventure</td>\n",
       "      <td>Back to the Future (1985)</td>\n",
       "      <td>2955</td>\n",
       "      <td>0.603924</td>\n",
       "      <td>0.047135</td>\n",
       "    </tr>\n",
       "    <tr>\n",
       "      <th>1255</th>\n",
       "      <td>Drama</td>\n",
       "      <td>Godfather, The (1972)</td>\n",
       "      <td>2946</td>\n",
       "      <td>0.602085</td>\n",
       "      <td>0.046215</td>\n",
       "    </tr>\n",
       "  </tbody>\n",
       "</table>\n",
       "</div>"
      ],
      "text/plain": [
       "          genre                                              title  \\\n",
       "3619   Thriller                                 Matrix, The (1999)   \n",
       "601         War                                Forrest Gump (1994)   \n",
       "498      Comedy                                Pulp Fiction (1994)   \n",
       "440      Action          Star Wars: Episode IV - A New Hope (1977)   \n",
       "970       Crime                   Silence of the Lambs, The (1991)   \n",
       "534       Crime                   Shawshank Redemption, The (1994)   \n",
       "1711     Sci-Fi  Star Wars: Episode V - The Empire Strikes Back...   \n",
       "3955      Drama                             American Beauty (1999)   \n",
       "1897  Adventure                          Back to the Future (1985)   \n",
       "1255      Drama                              Godfather, The (1972)   \n",
       "\n",
       "      num_neighbors    degree  eigenvector  \n",
       "3619           3426  0.700184     0.050229  \n",
       "601            3419  0.698753     0.050478  \n",
       "498            3353  0.685265     0.049426  \n",
       "440            3250  0.664214     0.049499  \n",
       "970            3211  0.656244     0.048782  \n",
       "534            3147  0.643164     0.048215  \n",
       "1711           3021  0.617413     0.048106  \n",
       "3955           3010  0.615165     0.046755  \n",
       "1897           2955  0.603924     0.047135  \n",
       "1255           2946  0.602085     0.046215  "
      ]
     },
     "execution_count": 109,
     "metadata": {},
     "output_type": "execute_result"
    }
   ],
   "source": [
    "top10_titles"
   ]
  },
  {
   "cell_type": "markdown",
   "id": "5d3362ba",
   "metadata": {},
   "source": [
    "Plot of the Top 10 Titles based on title"
   ]
  },
  {
   "cell_type": "code",
   "execution_count": 111,
   "id": "cb530250",
   "metadata": {},
   "outputs": [
    {
     "data": {
      "text/plain": [
       "<Axes: ylabel='title'>"
      ]
     },
     "execution_count": 111,
     "metadata": {},
     "output_type": "execute_result"
    },
    {
     "data": {
      "image/png": "[encoded data removed]",
      "text/plain": [
       "<Figure size 640x480 with 1 Axes>"
      ]
     },
     "metadata": {},
     "output_type": "display_data"
    }
   ],
   "source": [
    "top10_titles.plot(kind='barh', x='title', y='degree')"
   ]
  },
  {
   "cell_type": "code",
   "execution_count": 113,
   "id": "f3b6ad84",
   "metadata": {},
   "outputs": [],
   "source": [
    "bottom10_titles = neighbors_expanded.sort_values(by='degree', ascending=False).drop_duplicates(subset=['title']).tail(10)\n"
   ]
  },
  {
   "cell_type": "code",
   "execution_count": 114,
   "id": "ce9b4025",
   "metadata": {},
   "outputs": [
    {
     "data": {
      "text/html": [
       "<div>\n",
       "<style scoped>\n",
       "    .dataframe tbody tr th:only-of-type {\n",
       "        vertical-align: middle;\n",
       "    }\n",
       "\n",
       "    .dataframe tbody tr th {\n",
       "        vertical-align: top;\n",
       "    }\n",
       "\n",
       "    .dataframe thead th {\n",
       "        text-align: right;\n",
       "    }\n",
       "</style>\n",
       "<table border=\"1\" class=\"dataframe\">\n",
       "  <thead>\n",
       "    <tr style=\"text-align: right;\">\n",
       "      <th></th>\n",
       "      <th>genre</th>\n",
       "      <th>title</th>\n",
       "      <th>num_neighbors</th>\n",
       "      <th>degree</th>\n",
       "      <th>eigenvector</th>\n",
       "    </tr>\n",
       "  </thead>\n",
       "  <tbody>\n",
       "    <tr>\n",
       "      <th>10632</th>\n",
       "      <td>Romance</td>\n",
       "      <td>Host, The (2013)</td>\n",
       "      <td>20</td>\n",
       "      <td>0.004087</td>\n",
       "      <td>0.000569</td>\n",
       "    </tr>\n",
       "    <tr>\n",
       "      <th>11154</th>\n",
       "      <td>Adventure</td>\n",
       "      <td>Delirium (2014)</td>\n",
       "      <td>20</td>\n",
       "      <td>0.004087</td>\n",
       "      <td>0.000569</td>\n",
       "    </tr>\n",
       "    <tr>\n",
       "      <th>10708</th>\n",
       "      <td>Comedy</td>\n",
       "      <td>Lifeguard, The (2013)</td>\n",
       "      <td>20</td>\n",
       "      <td>0.004087</td>\n",
       "      <td>0.000569</td>\n",
       "    </tr>\n",
       "    <tr>\n",
       "      <th>4282</th>\n",
       "      <td>Romance</td>\n",
       "      <td>Come See the Paradise (1990)</td>\n",
       "      <td>20</td>\n",
       "      <td>0.004087</td>\n",
       "      <td>0.000428</td>\n",
       "    </tr>\n",
       "    <tr>\n",
       "      <th>10965</th>\n",
       "      <td>Drama</td>\n",
       "      <td>One I Love, The (2014)</td>\n",
       "      <td>20</td>\n",
       "      <td>0.004087</td>\n",
       "      <td>0.000569</td>\n",
       "    </tr>\n",
       "    <tr>\n",
       "      <th>5054</th>\n",
       "      <td>Crime</td>\n",
       "      <td>Circus (2000)</td>\n",
       "      <td>20</td>\n",
       "      <td>0.004087</td>\n",
       "      <td>0.000415</td>\n",
       "    </tr>\n",
       "    <tr>\n",
       "      <th>11215</th>\n",
       "      <td>Thriller</td>\n",
       "      <td>Insurgent (2015)</td>\n",
       "      <td>20</td>\n",
       "      <td>0.004087</td>\n",
       "      <td>0.000569</td>\n",
       "    </tr>\n",
       "    <tr>\n",
       "      <th>10499</th>\n",
       "      <td>Documentary</td>\n",
       "      <td>Samsara (2011)</td>\n",
       "      <td>20</td>\n",
       "      <td>0.004087</td>\n",
       "      <td>0.000902</td>\n",
       "    </tr>\n",
       "    <tr>\n",
       "      <th>7780</th>\n",
       "      <td>Comedy</td>\n",
       "      <td>Spies Like Us (1985)</td>\n",
       "      <td>19</td>\n",
       "      <td>0.003883</td>\n",
       "      <td>0.000378</td>\n",
       "    </tr>\n",
       "    <tr>\n",
       "      <th>8305</th>\n",
       "      <td>Action</td>\n",
       "      <td>District 13 (Banlieue 13) (2004)</td>\n",
       "      <td>19</td>\n",
       "      <td>0.003883</td>\n",
       "      <td>0.000378</td>\n",
       "    </tr>\n",
       "  </tbody>\n",
       "</table>\n",
       "</div>"
      ],
      "text/plain": [
       "             genre                             title  num_neighbors    degree  \\\n",
       "10632      Romance                  Host, The (2013)             20  0.004087   \n",
       "11154    Adventure                   Delirium (2014)             20  0.004087   \n",
       "10708       Comedy             Lifeguard, The (2013)             20  0.004087   \n",
       "4282       Romance      Come See the Paradise (1990)             20  0.004087   \n",
       "10965        Drama            One I Love, The (2014)             20  0.004087   \n",
       "5054         Crime                     Circus (2000)             20  0.004087   \n",
       "11215     Thriller                  Insurgent (2015)             20  0.004087   \n",
       "10499  Documentary                    Samsara (2011)             20  0.004087   \n",
       "7780        Comedy              Spies Like Us (1985)             19  0.003883   \n",
       "8305        Action  District 13 (Banlieue 13) (2004)             19  0.003883   \n",
       "\n",
       "       eigenvector  \n",
       "10632     0.000569  \n",
       "11154     0.000569  \n",
       "10708     0.000569  \n",
       "4282      0.000428  \n",
       "10965     0.000569  \n",
       "5054      0.000415  \n",
       "11215     0.000569  \n",
       "10499     0.000902  \n",
       "7780      0.000378  \n",
       "8305      0.000378  "
      ]
     },
     "execution_count": 114,
     "metadata": {},
     "output_type": "execute_result"
    }
   ],
   "source": [
    "bottom10_titles"
   ]
  },
  {
   "cell_type": "markdown",
   "id": "3a1d14ea",
   "metadata": {},
   "source": [
    "Plot of the Bottom 10 Titles based on title"
   ]
  },
  {
   "cell_type": "code",
   "execution_count": 115,
   "id": "d86e6b91",
   "metadata": {},
   "outputs": [
    {
     "data": {
      "text/plain": [
       "<Axes: ylabel='title'>"
      ]
     },
     "execution_count": 115,
     "metadata": {},
     "output_type": "execute_result"
    },
    {
     "data": {
      "image/png": "[encoded data removed]",
      "text/plain": [
       "<Figure size 640x480 with 1 Axes>"
      ]
     },
     "metadata": {},
     "output_type": "display_data"
    }
   ],
   "source": [
    "bottom10_titles.plot(kind='barh', x='title', y='degree')"
   ]
  },
  {
   "cell_type": "markdown",
   "id": "aee7d9ae",
   "metadata": {},
   "source": [
    "Histogram of degree centrality for the entire network"
   ]
  },
  {
   "cell_type": "code",
   "execution_count": 112,
   "id": "cc0ff40c",
   "metadata": {},
   "outputs": [
    {
     "data": {
      "text/plain": [
       "<Axes: ylabel='Frequency'>"
      ]
     },
     "execution_count": 112,
     "metadata": {},
     "output_type": "execute_result"
    },
    {
     "data": {
      "image/png": "[encoded data removed]",
      "text/plain": [
       "<Figure size 640x480 with 1 Axes>"
      ]
     },
     "metadata": {},
     "output_type": "display_data"
    }
   ],
   "source": [
    "neighbors_expanded['degree'].plot(kind='hist')"
   ]
  },
  {
   "cell_type": "markdown",
   "id": "6440a069",
   "metadata": {},
   "source": [
    "### 6. Conclusion\n",
    "\n",
    "This analysis was helpful in driving some conclusions regarding a specific construction of the network of users who rated movies. One thing that I gained from this process is that network graphs are a way for us to evaluate different relationships amongst different things, but at the same time - as with other types of analysis problems - the real insights are gleaned from the particular questions that we ask of the data and the specific analyses that we apply to the data. Networks are particularly helpful for evaluating relationships and provide a data structure that is best suited for this type of analysis."
   ]
  }
 ],
 "metadata": {
  "kernelspec": {
   "display_name": "Python 3 (ipykernel)",
   "language": "python",
   "name": "python3"
  },
  "language_info": {
   "codemirror_mode": {
    "name": "ipython",
    "version": 3
   },
   "file_extension": ".py",
   "mimetype": "text/x-python",
   "name": "python",
   "nbconvert_exporter": "python",
   "pygments_lexer": "ipython3",
   "version": "3.11.5"
  }
 },
 "nbformat": 4,
 "nbformat_minor": 5
}
