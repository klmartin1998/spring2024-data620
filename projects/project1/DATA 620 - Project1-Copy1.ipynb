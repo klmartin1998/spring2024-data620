{
 "cells": [
  {
   "cell_type": "markdown",
   "metadata": {},
   "source": [
    "### DATA 620 - Project 1\n",
    "Author: Kory Martin  \n",
    "Date: 2/18/2024"
   ]
  },
  {
   "cell_type": "markdown",
   "metadata": {},
   "source": [
    "### 1. Introduction"
   ]
  },
  {
   "cell_type": "markdown",
   "metadata": {},
   "source": [
    "#### Project Instructions\n",
    "\n",
    "<ul>\n",
    "<li>For your first project, you are asked to identify and load a network dataset that has some categorical information available for each node.\n",
    "<li>For each of the nodes in the dataset, calculate degree centrality and eigenvector centrality.\n",
    "<li>Compare your centrality measures across your categorical groups.\n",
    "</ul>\n",
    "    "
   ]
  },
  {
   "cell_type": "markdown",
   "metadata": {},
   "source": [
    "#### Project Plan\n",
    "I chose to use the a movieLens dataset [here](https://files.grouplens.org/datasets/movielens/ml-latest-small-README.html), where we see users and the ratings that they made for a number of movies. Using this data, I am going to build a network of Users that have rated at least 15 of the same movies. This type of analysis can be used to identify similar users - if we consider that the movies that a user watches would suggest a level of similarity.\n",
    "\n",
    "\n",
    "For this analysis, we will focus on answering the following questions for a network:\n",
    "\n",
    "<ul>\n",
    "    <li> How many nodes are in the graph?\n",
    "    <li> What is the diameter of the Graph?    \n",
    "    <li> What is the size of the Graph?\n",
    "    <li> What is the average number of neighbors for nodes? \n",
    "    <li> What is the largest number of neighbors that any particular node has?\n",
    "    <li> What node(s) has the largest number of neighbors?\n",
    "    <li> What is the fewest number of neighbors that any particular node has?\n",
    "    <li> What node(s) has the fewest number of neighbors?\n",
    "</ul>"
   ]
  },
  {
   "cell_type": "markdown",
   "metadata": {},
   "source": [
    "### 2. Import Libraries"
   ]
  },
  {
   "cell_type": "code",
   "execution_count": 11,
   "metadata": {},
   "outputs": [],
   "source": [
    "import networkx as net\n",
    "from networkx import algorithms as algo\n",
    "import pandas as pd\n",
    "import matplotlib.pyplot as plt\n",
    "import random\n",
    "import numpy as np\n",
    "from statistics import mean\n",
    "import os.path"
   ]
  },
  {
   "cell_type": "markdown",
   "metadata": {},
   "source": [
    "### 3. Data Preparation\n",
    "\n",
    "We begin by importing the data for the specific movie titles that were being reviewed. Although this ultimately isn't something that will be included in the final network analysis, it was something that I had initially thought I wanted to specifically analyze. Additionally, the ratings data will be imported"
   ]
  },
  {
   "cell_type": "code",
   "execution_count": 12,
   "metadata": {},
   "outputs": [],
   "source": [
    "movies_data = pd.read_csv('data/movies.csv')\n",
    "ratings_data = pd.read_csv('data/ratings.csv')"
   ]
  },
  {
   "cell_type": "code",
   "execution_count": 12,
   "metadata": {},
   "outputs": [
    {
     "data": {
      "text/html": [
       "<div>\n",
       "<style scoped>\n",
       "    .dataframe tbody tr th:only-of-type {\n",
       "        vertical-align: middle;\n",
       "    }\n",
       "\n",
       "    .dataframe tbody tr th {\n",
       "        vertical-align: top;\n",
       "    }\n",
       "\n",
       "    .dataframe thead th {\n",
       "        text-align: right;\n",
       "    }\n",
       "</style>\n",
       "<table border=\"1\" class=\"dataframe\">\n",
       "  <thead>\n",
       "    <tr style=\"text-align: right;\">\n",
       "      <th></th>\n",
       "      <th>movieId</th>\n",
       "      <th>title</th>\n",
       "      <th>genres</th>\n",
       "    </tr>\n",
       "  </thead>\n",
       "  <tbody>\n",
       "    <tr>\n",
       "      <th>0</th>\n",
       "      <td>1</td>\n",
       "      <td>Toy Story (1995)</td>\n",
       "      <td>Adventure|Animation|Children|Comedy|Fantasy</td>\n",
       "    </tr>\n",
       "    <tr>\n",
       "      <th>1</th>\n",
       "      <td>2</td>\n",
       "      <td>Jumanji (1995)</td>\n",
       "      <td>Adventure|Children|Fantasy</td>\n",
       "    </tr>\n",
       "    <tr>\n",
       "      <th>2</th>\n",
       "      <td>3</td>\n",
       "      <td>Grumpier Old Men (1995)</td>\n",
       "      <td>Comedy|Romance</td>\n",
       "    </tr>\n",
       "    <tr>\n",
       "      <th>3</th>\n",
       "      <td>4</td>\n",
       "      <td>Waiting to Exhale (1995)</td>\n",
       "      <td>Comedy|Drama|Romance</td>\n",
       "    </tr>\n",
       "    <tr>\n",
       "      <th>4</th>\n",
       "      <td>5</td>\n",
       "      <td>Father of the Bride Part II (1995)</td>\n",
       "      <td>Comedy</td>\n",
       "    </tr>\n",
       "  </tbody>\n",
       "</table>\n",
       "</div>"
      ],
      "text/plain": [
       "   movieId                               title  \\\n",
       "0        1                    Toy Story (1995)   \n",
       "1        2                      Jumanji (1995)   \n",
       "2        3             Grumpier Old Men (1995)   \n",
       "3        4            Waiting to Exhale (1995)   \n",
       "4        5  Father of the Bride Part II (1995)   \n",
       "\n",
       "                                        genres  \n",
       "0  Adventure|Animation|Children|Comedy|Fantasy  \n",
       "1                   Adventure|Children|Fantasy  \n",
       "2                               Comedy|Romance  \n",
       "3                         Comedy|Drama|Romance  \n",
       "4                                       Comedy  "
      ]
     },
     "execution_count": 12,
     "metadata": {},
     "output_type": "execute_result"
    }
   ],
   "source": [
    "movies_data.head()"
   ]
  },
  {
   "cell_type": "markdown",
   "metadata": {},
   "source": [
    "Now that we have the movies and the ratings data imported, we will merge the two datasets so that we are able to track exactly which movie titles a specific user rated."
   ]
  },
  {
   "cell_type": "code",
   "execution_count": 13,
   "metadata": {},
   "outputs": [],
   "source": [
    "m1 = pd.merge(ratings_data, movies_data, how='left',\n",
    "        left_on='movieId', right_on='movieId')"
   ]
  },
  {
   "cell_type": "markdown",
   "metadata": {},
   "source": [
    "Finally, we will then create a more simplified version of our merged dataframe that will only include the data for the user, the movie title and the rating that they gave to that movie"
   ]
  },
  {
   "cell_type": "code",
   "execution_count": 14,
   "metadata": {},
   "outputs": [],
   "source": [
    "m1_simple = m1.loc[:,['title','userId','rating']]"
   ]
  },
  {
   "cell_type": "code",
   "execution_count": 15,
   "metadata": {},
   "outputs": [],
   "source": [
    "movie_titles = list(movies_data['title'].unique())"
   ]
  },
  {
   "cell_type": "code",
   "execution_count": 16,
   "metadata": {},
   "outputs": [],
   "source": [
    "movie_raters = list(ratings_data['userId'].unique())"
   ]
  },
  {
   "cell_type": "markdown",
   "metadata": {},
   "source": [
    "##### Create genres list\n",
    "\n",
    "For the output, I want to expand the movies_data dataframe so that we have an entry for each title along with their genres."
   ]
  },
  {
   "cell_type": "code",
   "execution_count": 17,
   "metadata": {},
   "outputs": [],
   "source": [
    "movies_data_expanded = []\n",
    "\n",
    "for i in range(len(movies_data)):\n",
    "\n",
    "    movie_id = movies_data.loc[i,'movieId']\n",
    "    movie_title = movies_data.loc[i,'title']\n",
    "\n",
    "    genres = movies_data.loc[i,'genres'].split(\"|\")\n",
    "    for genre in genres:\n",
    "        mini_dict = {}\n",
    "        mini_dict['movieId'] = movie_id\n",
    "        mini_dict['title'] = movie_title\n",
    "        mini_dict['genre'] = genre\n",
    "        movies_data_expanded.append(mini_dict)"
   ]
  },
  {
   "cell_type": "code",
   "execution_count": 18,
   "metadata": {},
   "outputs": [],
   "source": [
    "movies_expanded_df = pd.DataFrame(movies_data_expanded)"
   ]
  },
  {
   "cell_type": "code",
   "execution_count": 19,
   "metadata": {},
   "outputs": [],
   "source": [
    "movie_count = m1_simple.groupby('userId').count().reset_index()"
   ]
  },
  {
   "cell_type": "code",
   "execution_count": 20,
   "metadata": {},
   "outputs": [],
   "source": [
    "movie_count['pct_watched'] = movie_count['title']/len(movie_titles)"
   ]
  },
  {
   "cell_type": "code",
   "execution_count": 73,
   "metadata": {},
   "outputs": [],
   "source": [
    "movie_raters_subset = list(movie_count[movie_count['pct_watched'] <= .025]['userId'].unique())"
   ]
  },
  {
   "cell_type": "code",
   "execution_count": 70,
   "metadata": {},
   "outputs": [
    {
     "data": {
      "text/plain": [
       "0.8245901639344262"
      ]
     },
     "execution_count": 70,
     "metadata": {},
     "output_type": "execute_result"
    }
   ],
   "source": [
    "503/len(movie_raters)"
   ]
  },
  {
   "cell_type": "code",
   "execution_count": 89,
   "metadata": {},
   "outputs": [],
   "source": [
    "m1_sub_titles = list(m1_simple[m1_simple['userId'].isin(movie_raters_subset)]['title'].unique())"
   ]
  },
  {
   "cell_type": "markdown",
   "metadata": {},
   "source": [
    "##### Create movie pairs\n",
    "\n",
    "This next block of code is where we will build out the movie pairs for our dataset. The code creates a filtered dataset for the specific user that we are looking at and then creates node relationships based on the movies that are watched by this user"
   ]
  },
  {
   "cell_type": "code",
   "execution_count": 91,
   "metadata": {},
   "outputs": [],
   "source": [
    "if not os.path.exists('data/movie_pairs.csv'):\n",
    "\n",
    "    movie_pairs = []\n",
    "    for user in movie_raters_subset:\n",
    "\n",
    "        m1_sub = m1_simple.loc[m1_simple['userId'] == user]\n",
    "        movie_titles = list(m1_sub['title'].unique())\n",
    "        for i in range(len(movie_titles)):\n",
    "\n",
    "            movie1 = m1_sub.iloc[i]['title']\n",
    "            j = i+1\n",
    "            while j < len(movie_titles):\n",
    "                movie2 = m1_sub.iloc[j]['title']\n",
    "                j+=1\n",
    "                movie_pair = (movie1, movie2)\n",
    "                movie_pairs.append(movie_pair)\n",
    "\n",
    "    movie_pairs_df = pd.DataFrame(movie_pairs) \n",
    "    movie_pairs_df.to_csv('data/movie_pairs.csv',index=False)\n",
    "    \n",
    "else:\n",
    "    movie_pairs_df = pd.read_csv('data/movie_pairs.csv')"
   ]
  },
  {
   "cell_type": "code",
   "execution_count": 104,
   "metadata": {},
   "outputs": [],
   "source": [
    "movie_pairs_df = movie_pairs_df.rename(columns={0:'movie1',1:'movie2'})"
   ]
  },
  {
   "cell_type": "code",
   "execution_count": 106,
   "metadata": {},
   "outputs": [],
   "source": [
    "network_edges = []\n",
    "for i in range(len(movie_pairs_df)):\n",
    "    mini_tupt = (movie_pairs_df.loc[i,'movie1'],movie_pairs_df.loc[i,'movie2'])\n",
    "    #print(mini_tupt)\n",
    "    network_edges.append(mini_tupt)"
   ]
  },
  {
   "cell_type": "markdown",
   "metadata": {},
   "source": [
    "### 3. Create Network\n",
    "\n",
    "Now that we have the relationship data established, we will display the network of individuals and from there we can examine different measurements related to this network. \n",
    "\n",
    "Some of the questions we will look to examine are:\n",
    "\n",
    "<ul>\n",
    "    <li> How many nodes are in the graph?\n",
    "    <li> What is the diameter of the Graph?    \n",
    "    <li> What is the size of the Graph?\n",
    "    <li> What is the average number of neighbors for nodes? \n",
    "    <li> What is the largest number of neighbors that any particular node has?\n",
    "    <li> What node(s) has the largest number of neighbors?\n",
    "    <li> What is the fewest number of neighbors that any particular node has?\n",
    "    <li> What node(s) has the fewest number of neighbors?\n",
    "</ul>"
   ]
  },
  {
   "cell_type": "code",
   "execution_count": 107,
   "metadata": {},
   "outputs": [],
   "source": [
    "G = net.Graph()\n",
    "G.add_nodes_from(m1_sub_titles)\n",
    "G.add_edges_from(network_edges)\n",
    "#net.draw(G,with_labels=True, font_size = 6, node_size=300)\n",
    "#net.draw(G, font_size = 6, node_size=300)"
   ]
  },
  {
   "cell_type": "markdown",
   "metadata": {},
   "source": [
    "### 4. Calculate the Centrality"
   ]
  },
  {
   "cell_type": "markdown",
   "metadata": {},
   "source": [
    "#### Degree Centrality"
   ]
  },
  {
   "cell_type": "code",
   "execution_count": 108,
   "metadata": {},
   "outputs": [],
   "source": [
    "degree_centrality = net.degree_centrality(G)"
   ]
  },
  {
   "cell_type": "code",
   "execution_count": 109,
   "metadata": {},
   "outputs": [],
   "source": [
    "centrality_list = []\n",
    "centrality_list.append(degree_centrality)"
   ]
  },
  {
   "cell_type": "code",
   "execution_count": 110,
   "metadata": {},
   "outputs": [],
   "source": [
    "degree_centrality_df = pd.DataFrame(centrality_list).transpose().reset_index()\n",
    "\n",
    "degree_centrality_df = degree_centrality_df.rename(columns={'index':'title',0:'centrality'})"
   ]
  },
  {
   "cell_type": "markdown",
   "metadata": {},
   "source": [
    "#### Eigenvector Centrality"
   ]
  },
  {
   "cell_type": "code",
   "execution_count": 111,
   "metadata": {},
   "outputs": [],
   "source": [
    "eigenvector_centrality = net.eigenvector_centrality(G)"
   ]
  },
  {
   "cell_type": "code",
   "execution_count": 112,
   "metadata": {},
   "outputs": [],
   "source": [
    "centrality_list = []\n",
    "centrality_list.append(eigenvector_centrality)"
   ]
  },
  {
   "cell_type": "code",
   "execution_count": 113,
   "metadata": {},
   "outputs": [],
   "source": [
    "eigenvector_centrality_df = pd.DataFrame(centrality_list).transpose().reset_index()\n",
    "\n",
    "eigenvector_centrality_df = eigenvector_centrality_df.rename(columns={'index':'title',0:'centrality'})"
   ]
  },
  {
   "cell_type": "code",
   "execution_count": 114,
   "metadata": {},
   "outputs": [
    {
     "data": {
      "text/html": [
       "<div>\n",
       "<style scoped>\n",
       "    .dataframe tbody tr th:only-of-type {\n",
       "        vertical-align: middle;\n",
       "    }\n",
       "\n",
       "    .dataframe tbody tr th {\n",
       "        vertical-align: top;\n",
       "    }\n",
       "\n",
       "    .dataframe thead th {\n",
       "        text-align: right;\n",
       "    }\n",
       "</style>\n",
       "<table border=\"1\" class=\"dataframe\">\n",
       "  <thead>\n",
       "    <tr style=\"text-align: right;\">\n",
       "      <th></th>\n",
       "      <th>title</th>\n",
       "      <th>centrality</th>\n",
       "    </tr>\n",
       "  </thead>\n",
       "  <tbody>\n",
       "    <tr>\n",
       "      <th>0</th>\n",
       "      <td>Toy Story (1995)</td>\n",
       "      <td>0.047037</td>\n",
       "    </tr>\n",
       "    <tr>\n",
       "      <th>1</th>\n",
       "      <td>Grumpier Old Men (1995)</td>\n",
       "      <td>0.023855</td>\n",
       "    </tr>\n",
       "    <tr>\n",
       "      <th>2</th>\n",
       "      <td>Heat (1995)</td>\n",
       "      <td>0.035039</td>\n",
       "    </tr>\n",
       "    <tr>\n",
       "      <th>3</th>\n",
       "      <td>Seven (a.k.a. Se7en) (1995)</td>\n",
       "      <td>0.042372</td>\n",
       "    </tr>\n",
       "    <tr>\n",
       "      <th>4</th>\n",
       "      <td>Usual Suspects, The (1995)</td>\n",
       "      <td>0.044370</td>\n",
       "    </tr>\n",
       "  </tbody>\n",
       "</table>\n",
       "</div>"
      ],
      "text/plain": [
       "                         title  centrality\n",
       "0             Toy Story (1995)    0.047037\n",
       "1      Grumpier Old Men (1995)    0.023855\n",
       "2                  Heat (1995)    0.035039\n",
       "3  Seven (a.k.a. Se7en) (1995)    0.042372\n",
       "4   Usual Suspects, The (1995)    0.044370"
      ]
     },
     "execution_count": 114,
     "metadata": {},
     "output_type": "execute_result"
    }
   ],
   "source": [
    "eigenvector_centrality_df.head()"
   ]
  },
  {
   "cell_type": "code",
   "execution_count": null,
   "metadata": {},
   "outputs": [],
   "source": [
    "betweenness_centrality = net.betweenness_centrality(G)"
   ]
  },
  {
   "cell_type": "markdown",
   "metadata": {},
   "source": [
    "### 5. Network Analysis"
   ]
  },
  {
   "cell_type": "markdown",
   "metadata": {},
   "source": [
    "<b> a. How many nodes are included in the network?"
   ]
  },
  {
   "cell_type": "code",
   "execution_count": 115,
   "metadata": {},
   "outputs": [
    {
     "data": {
      "text/plain": [
       "4894"
      ]
     },
     "execution_count": 115,
     "metadata": {},
     "output_type": "execute_result"
    }
   ],
   "source": [
    "len(list(G.nodes()))"
   ]
  },
  {
   "cell_type": "markdown",
   "metadata": {},
   "source": [
    "There are 600 nodes in this network - meaning that of our 610 users with ratings. This represents, 98% of the users in the network"
   ]
  },
  {
   "cell_type": "markdown",
   "metadata": {},
   "source": [
    "<b> b. What is the diameter of the Graph?"
   ]
  },
  {
   "cell_type": "code",
   "execution_count": null,
   "metadata": {},
   "outputs": [],
   "source": [
    "#net.diameter(G)"
   ]
  },
  {
   "cell_type": "markdown",
   "metadata": {},
   "source": [
    "The diameter of the graph is 3"
   ]
  },
  {
   "cell_type": "markdown",
   "metadata": {},
   "source": [
    "<b> c. What is the size of the Graph?"
   ]
  },
  {
   "cell_type": "code",
   "execution_count": 116,
   "metadata": {},
   "outputs": [
    {
     "data": {
      "text/plain": [
       "1145704"
      ]
     },
     "execution_count": 116,
     "metadata": {},
     "output_type": "execute_result"
    }
   ],
   "source": [
    "G.size()"
   ]
  },
  {
   "cell_type": "markdown",
   "metadata": {},
   "source": [
    "There are a total of 1,145,704 connections amongst the users in this network"
   ]
  },
  {
   "cell_type": "markdown",
   "metadata": {},
   "source": [
    "<b>d.  What is the average and median number of neighbors for nodes?"
   ]
  },
  {
   "cell_type": "code",
   "execution_count": 117,
   "metadata": {},
   "outputs": [],
   "source": [
    "num_neighbors = [len(list(net.neighbors(G,user))) for user in list(G.nodes())]\n",
    "numbers_group = [{'title':user, 'num_neighbors':len(list(net.neighbors(G,user)))} for user in list(G.nodes())]\n",
    "mean_neighbors = mean(num_neighbors)\n",
    "median_neighbors = np.median(num_neighbors)"
   ]
  },
  {
   "cell_type": "code",
   "execution_count": 118,
   "metadata": {},
   "outputs": [
    {
     "data": {
      "text/html": [
       "<div>\n",
       "<style scoped>\n",
       "    .dataframe tbody tr th:only-of-type {\n",
       "        vertical-align: middle;\n",
       "    }\n",
       "\n",
       "    .dataframe tbody tr th {\n",
       "        vertical-align: top;\n",
       "    }\n",
       "\n",
       "    .dataframe thead th {\n",
       "        text-align: right;\n",
       "    }\n",
       "</style>\n",
       "<table border=\"1\" class=\"dataframe\">\n",
       "  <thead>\n",
       "    <tr style=\"text-align: right;\">\n",
       "      <th></th>\n",
       "      <th>title</th>\n",
       "      <th>num_neighbors</th>\n",
       "    </tr>\n",
       "  </thead>\n",
       "  <tbody>\n",
       "  </tbody>\n",
       "</table>\n",
       "</div>"
      ],
      "text/plain": [
       "Empty DataFrame\n",
       "Columns: [title, num_neighbors]\n",
       "Index: []"
      ]
     },
     "execution_count": 118,
     "metadata": {},
     "output_type": "execute_result"
    }
   ],
   "source": [
    "pd.DataFrame(numbers_group)[pd.DataFrame(numbers_group)['title'] == 'The Darkest Minds (2018)']"
   ]
  },
  {
   "cell_type": "code",
   "execution_count": 119,
   "metadata": {},
   "outputs": [
    {
     "name": "stdout",
     "output_type": "stream",
     "text": [
      "Mean # of Neighbors per User:  468.20760114425826\n",
      "Median # of Neighbors per User:  262.5\n"
     ]
    }
   ],
   "source": [
    "print(\"Mean # of Neighbors per User: \", mean_neighbors)\n",
    "print(\"Median # of Neighbors per User: \", median_neighbors)"
   ]
  },
  {
   "cell_type": "markdown",
   "metadata": {},
   "source": [
    "In our network, users had an average of 94.75 neighbors - or users that they were connected to who watched and rated 15 or more of the same movies. This number is much higher than the median of 60. This suggests that there are number of users who have watched so many movies that they had a larger number of users who watched and rated at least 20 of the same movies."
   ]
  },
  {
   "cell_type": "markdown",
   "metadata": {},
   "source": [
    "<b>e. What is the largest number of neighbors that any particular node has?"
   ]
  },
  {
   "cell_type": "code",
   "execution_count": 120,
   "metadata": {},
   "outputs": [
    {
     "data": {
      "text/plain": [
       "3426"
      ]
     },
     "execution_count": 120,
     "metadata": {},
     "output_type": "execute_result"
    }
   ],
   "source": [
    "max_neighbors = max(num_neighbors)\n",
    "max_neighbors"
   ]
  },
  {
   "cell_type": "markdown",
   "metadata": {},
   "source": [
    "The largest number of neighbors that any particular node has is 595 which represents"
   ]
  },
  {
   "cell_type": "markdown",
   "metadata": {},
   "source": [
    "<b>f. What node(s) has the largest number of neighbors?\n"
   ]
  },
  {
   "cell_type": "code",
   "execution_count": 121,
   "metadata": {},
   "outputs": [
    {
     "data": {
      "text/plain": [
       "['Matrix, The (1999)']"
      ]
     },
     "execution_count": 121,
     "metadata": {},
     "output_type": "execute_result"
    }
   ],
   "source": [
    "nodes_with_max = [user for user in list(G.nodes()) if len(list(net.neighbors(G,user))) == max_neighbors]\n",
    "nodes_with_max"
   ]
  },
  {
   "cell_type": "markdown",
   "metadata": {},
   "source": [
    "User 414 is the only user with the maximum number of neighbors in the network"
   ]
  },
  {
   "cell_type": "markdown",
   "metadata": {},
   "source": [
    "<b>g. What is the fewest number of neighbors that any particular node has?"
   ]
  },
  {
   "cell_type": "code",
   "execution_count": 122,
   "metadata": {},
   "outputs": [
    {
     "data": {
      "text/plain": [
       "19"
      ]
     },
     "execution_count": 122,
     "metadata": {},
     "output_type": "execute_result"
    }
   ],
   "source": [
    "min_neighbors = min(num_neighbors)\n",
    "min_neighbors"
   ]
  },
  {
   "cell_type": "markdown",
   "metadata": {},
   "source": [
    "<b>h. What node(s) has the fewest number of neighbors?"
   ]
  },
  {
   "cell_type": "code",
   "execution_count": 123,
   "metadata": {},
   "outputs": [
    {
     "data": {
      "text/plain": [
       "['Spies Like Us (1985)', 'District 13 (Banlieue 13) (2004)']"
      ]
     },
     "execution_count": 123,
     "metadata": {},
     "output_type": "execute_result"
    }
   ],
   "source": [
    "nodes_with_min = [user for user in list(G.nodes()) if len(list(net.neighbors(G,user))) == min_neighbors]\n",
    "nodes_with_min"
   ]
  },
  {
   "cell_type": "code",
   "execution_count": 124,
   "metadata": {},
   "outputs": [
    {
     "data": {
      "text/plain": [
       "2"
      ]
     },
     "execution_count": 124,
     "metadata": {},
     "output_type": "execute_result"
    }
   ],
   "source": [
    "len(nodes_with_min)"
   ]
  },
  {
   "cell_type": "markdown",
   "metadata": {},
   "source": [
    "There were 14 users in our network who only had 1 other user that watched at least the same 20 movies as them."
   ]
  },
  {
   "cell_type": "code",
   "execution_count": 125,
   "metadata": {},
   "outputs": [],
   "source": [
    "neighbors_df = pd.DataFrame(numbers_group)"
   ]
  },
  {
   "cell_type": "code",
   "execution_count": 126,
   "metadata": {},
   "outputs": [],
   "source": [
    "neighbors_df = pd.merge(neighbors_df, degree_centrality_df, how='left').rename(columns={'centrality':'degree'})\n"
   ]
  },
  {
   "cell_type": "code",
   "execution_count": 127,
   "metadata": {},
   "outputs": [],
   "source": [
    "neighbors_df = pd.merge(neighbors_df, eigenvector_centrality_df, how='left').rename(columns={'centrality':'eigenvector'})"
   ]
  },
  {
   "cell_type": "markdown",
   "metadata": {},
   "source": [
    "Here we will filter out the movies that are not included in the network"
   ]
  },
  {
   "cell_type": "code",
   "execution_count": 134,
   "metadata": {},
   "outputs": [],
   "source": [
    "movies_filtered = movies_expanded_df[movies_expanded_df['title'].isin(m1_sub_titles)]"
   ]
  },
  {
   "cell_type": "code",
   "execution_count": 135,
   "metadata": {},
   "outputs": [],
   "source": [
    "neighbors_expanded = pd.merge(movies_filtered.loc[:,['genre','title']],neighbors_df, how='left')"
   ]
  },
  {
   "cell_type": "code",
   "execution_count": 136,
   "metadata": {},
   "outputs": [
    {
     "data": {
      "text/html": [
       "<div>\n",
       "<style scoped>\n",
       "    .dataframe tbody tr th:only-of-type {\n",
       "        vertical-align: middle;\n",
       "    }\n",
       "\n",
       "    .dataframe tbody tr th {\n",
       "        vertical-align: top;\n",
       "    }\n",
       "\n",
       "    .dataframe thead th {\n",
       "        text-align: right;\n",
       "    }\n",
       "</style>\n",
       "<table border=\"1\" class=\"dataframe\">\n",
       "  <thead>\n",
       "    <tr style=\"text-align: right;\">\n",
       "      <th></th>\n",
       "      <th>genre</th>\n",
       "      <th>title</th>\n",
       "      <th>num_neighbors</th>\n",
       "      <th>degree</th>\n",
       "      <th>eigenvector</th>\n",
       "    </tr>\n",
       "  </thead>\n",
       "  <tbody>\n",
       "    <tr>\n",
       "      <th>11215</th>\n",
       "      <td>Thriller</td>\n",
       "      <td>Insurgent (2015)</td>\n",
       "      <td>20</td>\n",
       "      <td>0.004087</td>\n",
       "      <td>0.000569</td>\n",
       "    </tr>\n",
       "    <tr>\n",
       "      <th>11214</th>\n",
       "      <td>Sci-Fi</td>\n",
       "      <td>Insurgent (2015)</td>\n",
       "      <td>20</td>\n",
       "      <td>0.004087</td>\n",
       "      <td>0.000569</td>\n",
       "    </tr>\n",
       "    <tr>\n",
       "      <th>5055</th>\n",
       "      <td>Drama</td>\n",
       "      <td>Circus (2000)</td>\n",
       "      <td>20</td>\n",
       "      <td>0.004087</td>\n",
       "      <td>0.000415</td>\n",
       "    </tr>\n",
       "    <tr>\n",
       "      <th>11213</th>\n",
       "      <td>Action</td>\n",
       "      <td>Insurgent (2015)</td>\n",
       "      <td>20</td>\n",
       "      <td>0.004087</td>\n",
       "      <td>0.000569</td>\n",
       "    </tr>\n",
       "    <tr>\n",
       "      <th>5056</th>\n",
       "      <td>Thriller</td>\n",
       "      <td>Circus (2000)</td>\n",
       "      <td>20</td>\n",
       "      <td>0.004087</td>\n",
       "      <td>0.000415</td>\n",
       "    </tr>\n",
       "    <tr>\n",
       "      <th>10499</th>\n",
       "      <td>Documentary</td>\n",
       "      <td>Samsara (2011)</td>\n",
       "      <td>20</td>\n",
       "      <td>0.004087</td>\n",
       "      <td>0.000902</td>\n",
       "    </tr>\n",
       "    <tr>\n",
       "      <th>7780</th>\n",
       "      <td>Comedy</td>\n",
       "      <td>Spies Like Us (1985)</td>\n",
       "      <td>19</td>\n",
       "      <td>0.003883</td>\n",
       "      <td>0.000378</td>\n",
       "    </tr>\n",
       "    <tr>\n",
       "      <th>8305</th>\n",
       "      <td>Action</td>\n",
       "      <td>District 13 (Banlieue 13) (2004)</td>\n",
       "      <td>19</td>\n",
       "      <td>0.003883</td>\n",
       "      <td>0.000378</td>\n",
       "    </tr>\n",
       "    <tr>\n",
       "      <th>8306</th>\n",
       "      <td>Crime</td>\n",
       "      <td>District 13 (Banlieue 13) (2004)</td>\n",
       "      <td>19</td>\n",
       "      <td>0.003883</td>\n",
       "      <td>0.000378</td>\n",
       "    </tr>\n",
       "    <tr>\n",
       "      <th>8307</th>\n",
       "      <td>Sci-Fi</td>\n",
       "      <td>District 13 (Banlieue 13) (2004)</td>\n",
       "      <td>19</td>\n",
       "      <td>0.003883</td>\n",
       "      <td>0.000378</td>\n",
       "    </tr>\n",
       "  </tbody>\n",
       "</table>\n",
       "</div>"
      ],
      "text/plain": [
       "             genre                             title  num_neighbors    degree  \\\n",
       "11215     Thriller                  Insurgent (2015)             20  0.004087   \n",
       "11214       Sci-Fi                  Insurgent (2015)             20  0.004087   \n",
       "5055         Drama                     Circus (2000)             20  0.004087   \n",
       "11213       Action                  Insurgent (2015)             20  0.004087   \n",
       "5056      Thriller                     Circus (2000)             20  0.004087   \n",
       "10499  Documentary                    Samsara (2011)             20  0.004087   \n",
       "7780        Comedy              Spies Like Us (1985)             19  0.003883   \n",
       "8305        Action  District 13 (Banlieue 13) (2004)             19  0.003883   \n",
       "8306         Crime  District 13 (Banlieue 13) (2004)             19  0.003883   \n",
       "8307        Sci-Fi  District 13 (Banlieue 13) (2004)             19  0.003883   \n",
       "\n",
       "       eigenvector  \n",
       "11215     0.000569  \n",
       "11214     0.000569  \n",
       "5055      0.000415  \n",
       "11213     0.000569  \n",
       "5056      0.000415  \n",
       "10499     0.000902  \n",
       "7780      0.000378  \n",
       "8305      0.000378  \n",
       "8306      0.000378  \n",
       "8307      0.000378  "
      ]
     },
     "execution_count": 136,
     "metadata": {},
     "output_type": "execute_result"
    }
   ],
   "source": [
    "neighbors_expanded.sort_values(by='num_neighbors', ascending=False).tail(10)"
   ]
  },
  {
   "cell_type": "code",
   "execution_count": 139,
   "metadata": {},
   "outputs": [
    {
     "data": {
      "text/html": [
       "<div>\n",
       "<style scoped>\n",
       "    .dataframe tbody tr th:only-of-type {\n",
       "        vertical-align: middle;\n",
       "    }\n",
       "\n",
       "    .dataframe tbody tr th {\n",
       "        vertical-align: top;\n",
       "    }\n",
       "\n",
       "    .dataframe thead th {\n",
       "        text-align: right;\n",
       "    }\n",
       "</style>\n",
       "<table border=\"1\" class=\"dataframe\">\n",
       "  <thead>\n",
       "    <tr style=\"text-align: right;\">\n",
       "      <th></th>\n",
       "      <th>genre</th>\n",
       "      <th>title</th>\n",
       "      <th>num_neighbors</th>\n",
       "      <th>degree</th>\n",
       "      <th>eigenvector</th>\n",
       "    </tr>\n",
       "  </thead>\n",
       "  <tbody>\n",
       "    <tr>\n",
       "      <th>599</th>\n",
       "      <td>Drama</td>\n",
       "      <td>Forrest Gump (1994)</td>\n",
       "      <td>3419</td>\n",
       "      <td>0.698753</td>\n",
       "      <td>0.050478</td>\n",
       "    </tr>\n",
       "    <tr>\n",
       "      <th>500</th>\n",
       "      <td>Drama</td>\n",
       "      <td>Pulp Fiction (1994)</td>\n",
       "      <td>3353</td>\n",
       "      <td>0.685265</td>\n",
       "      <td>0.049426</td>\n",
       "    </tr>\n",
       "    <tr>\n",
       "      <th>535</th>\n",
       "      <td>Drama</td>\n",
       "      <td>Shawshank Redemption, The (1994)</td>\n",
       "      <td>3147</td>\n",
       "      <td>0.643164</td>\n",
       "      <td>0.048215</td>\n",
       "    </tr>\n",
       "    <tr>\n",
       "      <th>3955</th>\n",
       "      <td>Drama</td>\n",
       "      <td>American Beauty (1999)</td>\n",
       "      <td>3010</td>\n",
       "      <td>0.615165</td>\n",
       "      <td>0.046755</td>\n",
       "    </tr>\n",
       "    <tr>\n",
       "      <th>1255</th>\n",
       "      <td>Drama</td>\n",
       "      <td>Godfather, The (1972)</td>\n",
       "      <td>2946</td>\n",
       "      <td>0.602085</td>\n",
       "      <td>0.046215</td>\n",
       "    </tr>\n",
       "    <tr>\n",
       "      <th>2856</th>\n",
       "      <td>Drama</td>\n",
       "      <td>Saving Private Ryan (1998)</td>\n",
       "      <td>2939</td>\n",
       "      <td>0.600654</td>\n",
       "      <td>0.047290</td>\n",
       "    </tr>\n",
       "    <tr>\n",
       "      <th>208</th>\n",
       "      <td>Drama</td>\n",
       "      <td>Braveheart (1995)</td>\n",
       "      <td>2831</td>\n",
       "      <td>0.578582</td>\n",
       "      <td>0.046197</td>\n",
       "    </tr>\n",
       "    <tr>\n",
       "      <th>3850</th>\n",
       "      <td>Drama</td>\n",
       "      <td>Sixth Sense, The (1999)</td>\n",
       "      <td>2815</td>\n",
       "      <td>0.575312</td>\n",
       "      <td>0.045859</td>\n",
       "    </tr>\n",
       "    <tr>\n",
       "      <th>862</th>\n",
       "      <td>Drama</td>\n",
       "      <td>Schindler's List (1993)</td>\n",
       "      <td>2787</td>\n",
       "      <td>0.569589</td>\n",
       "      <td>0.045543</td>\n",
       "    </tr>\n",
       "    <tr>\n",
       "      <th>4088</th>\n",
       "      <td>Drama</td>\n",
       "      <td>Fight Club (1999)</td>\n",
       "      <td>2734</td>\n",
       "      <td>0.558757</td>\n",
       "      <td>0.044346</td>\n",
       "    </tr>\n",
       "  </tbody>\n",
       "</table>\n",
       "</div>"
      ],
      "text/plain": [
       "      genre                             title  num_neighbors    degree  \\\n",
       "599   Drama               Forrest Gump (1994)           3419  0.698753   \n",
       "500   Drama               Pulp Fiction (1994)           3353  0.685265   \n",
       "535   Drama  Shawshank Redemption, The (1994)           3147  0.643164   \n",
       "3955  Drama            American Beauty (1999)           3010  0.615165   \n",
       "1255  Drama             Godfather, The (1972)           2946  0.602085   \n",
       "2856  Drama        Saving Private Ryan (1998)           2939  0.600654   \n",
       "208   Drama                 Braveheart (1995)           2831  0.578582   \n",
       "3850  Drama           Sixth Sense, The (1999)           2815  0.575312   \n",
       "862   Drama           Schindler's List (1993)           2787  0.569589   \n",
       "4088  Drama                 Fight Club (1999)           2734  0.558757   \n",
       "\n",
       "      eigenvector  \n",
       "599      0.050478  \n",
       "500      0.049426  \n",
       "535      0.048215  \n",
       "3955     0.046755  \n",
       "1255     0.046215  \n",
       "2856     0.047290  \n",
       "208      0.046197  \n",
       "3850     0.045859  \n",
       "862      0.045543  \n",
       "4088     0.044346  "
      ]
     },
     "execution_count": 139,
     "metadata": {},
     "output_type": "execute_result"
    }
   ],
   "source": [
    "neighbors_expanded[neighbors_expanded['genre'] == 'Drama'].sort_values(by='degree', ascending=False).head(10)"
   ]
  },
  {
   "cell_type": "code",
   "execution_count": 141,
   "metadata": {},
   "outputs": [
    {
     "data": {
      "text/html": [
       "<div>\n",
       "<style scoped>\n",
       "    .dataframe tbody tr th:only-of-type {\n",
       "        vertical-align: middle;\n",
       "    }\n",
       "\n",
       "    .dataframe tbody tr th {\n",
       "        vertical-align: top;\n",
       "    }\n",
       "\n",
       "    .dataframe thead th {\n",
       "        text-align: right;\n",
       "    }\n",
       "</style>\n",
       "<table border=\"1\" class=\"dataframe\">\n",
       "  <thead>\n",
       "    <tr style=\"text-align: right;\">\n",
       "      <th></th>\n",
       "      <th>genre</th>\n",
       "      <th>title</th>\n",
       "      <th>num_neighbors</th>\n",
       "      <th>degree</th>\n",
       "      <th>eigenvector</th>\n",
       "    </tr>\n",
       "  </thead>\n",
       "  <tbody>\n",
       "    <tr>\n",
       "      <th>3619</th>\n",
       "      <td>Thriller</td>\n",
       "      <td>Matrix, The (1999)</td>\n",
       "      <td>3426</td>\n",
       "      <td>0.700184</td>\n",
       "      <td>0.050229</td>\n",
       "    </tr>\n",
       "    <tr>\n",
       "      <th>3618</th>\n",
       "      <td>Sci-Fi</td>\n",
       "      <td>Matrix, The (1999)</td>\n",
       "      <td>3426</td>\n",
       "      <td>0.700184</td>\n",
       "      <td>0.050229</td>\n",
       "    </tr>\n",
       "    <tr>\n",
       "      <th>3617</th>\n",
       "      <td>Action</td>\n",
       "      <td>Matrix, The (1999)</td>\n",
       "      <td>3426</td>\n",
       "      <td>0.700184</td>\n",
       "      <td>0.050229</td>\n",
       "    </tr>\n",
       "    <tr>\n",
       "      <th>601</th>\n",
       "      <td>War</td>\n",
       "      <td>Forrest Gump (1994)</td>\n",
       "      <td>3419</td>\n",
       "      <td>0.698753</td>\n",
       "      <td>0.050478</td>\n",
       "    </tr>\n",
       "    <tr>\n",
       "      <th>598</th>\n",
       "      <td>Comedy</td>\n",
       "      <td>Forrest Gump (1994)</td>\n",
       "      <td>3419</td>\n",
       "      <td>0.698753</td>\n",
       "      <td>0.050478</td>\n",
       "    </tr>\n",
       "    <tr>\n",
       "      <th>...</th>\n",
       "      <td>...</td>\n",
       "      <td>...</td>\n",
       "      <td>...</td>\n",
       "      <td>...</td>\n",
       "      <td>...</td>\n",
       "    </tr>\n",
       "    <tr>\n",
       "      <th>10499</th>\n",
       "      <td>Documentary</td>\n",
       "      <td>Samsara (2011)</td>\n",
       "      <td>20</td>\n",
       "      <td>0.004087</td>\n",
       "      <td>0.000902</td>\n",
       "    </tr>\n",
       "    <tr>\n",
       "      <th>7780</th>\n",
       "      <td>Comedy</td>\n",
       "      <td>Spies Like Us (1985)</td>\n",
       "      <td>19</td>\n",
       "      <td>0.003883</td>\n",
       "      <td>0.000378</td>\n",
       "    </tr>\n",
       "    <tr>\n",
       "      <th>8305</th>\n",
       "      <td>Action</td>\n",
       "      <td>District 13 (Banlieue 13) (2004)</td>\n",
       "      <td>19</td>\n",
       "      <td>0.003883</td>\n",
       "      <td>0.000378</td>\n",
       "    </tr>\n",
       "    <tr>\n",
       "      <th>8306</th>\n",
       "      <td>Crime</td>\n",
       "      <td>District 13 (Banlieue 13) (2004)</td>\n",
       "      <td>19</td>\n",
       "      <td>0.003883</td>\n",
       "      <td>0.000378</td>\n",
       "    </tr>\n",
       "    <tr>\n",
       "      <th>8307</th>\n",
       "      <td>Sci-Fi</td>\n",
       "      <td>District 13 (Banlieue 13) (2004)</td>\n",
       "      <td>19</td>\n",
       "      <td>0.003883</td>\n",
       "      <td>0.000378</td>\n",
       "    </tr>\n",
       "  </tbody>\n",
       "</table>\n",
       "<p>11816 rows × 5 columns</p>\n",
       "</div>"
      ],
      "text/plain": [
       "             genre                             title  num_neighbors    degree  \\\n",
       "3619      Thriller                Matrix, The (1999)           3426  0.700184   \n",
       "3618        Sci-Fi                Matrix, The (1999)           3426  0.700184   \n",
       "3617        Action                Matrix, The (1999)           3426  0.700184   \n",
       "601            War               Forrest Gump (1994)           3419  0.698753   \n",
       "598         Comedy               Forrest Gump (1994)           3419  0.698753   \n",
       "...            ...                               ...            ...       ...   \n",
       "10499  Documentary                    Samsara (2011)             20  0.004087   \n",
       "7780        Comedy              Spies Like Us (1985)             19  0.003883   \n",
       "8305        Action  District 13 (Banlieue 13) (2004)             19  0.003883   \n",
       "8306         Crime  District 13 (Banlieue 13) (2004)             19  0.003883   \n",
       "8307        Sci-Fi  District 13 (Banlieue 13) (2004)             19  0.003883   \n",
       "\n",
       "       eigenvector  \n",
       "3619      0.050229  \n",
       "3618      0.050229  \n",
       "3617      0.050229  \n",
       "601       0.050478  \n",
       "598       0.050478  \n",
       "...            ...  \n",
       "10499     0.000902  \n",
       "7780      0.000378  \n",
       "8305      0.000378  \n",
       "8306      0.000378  \n",
       "8307      0.000378  \n",
       "\n",
       "[11816 rows x 5 columns]"
      ]
     },
     "execution_count": 141,
     "metadata": {},
     "output_type": "execute_result"
    }
   ],
   "source": [
    "neighbors_expanded.sort_values(by='degree', ascending=False)"
   ]
  },
  {
   "cell_type": "markdown",
   "metadata": {},
   "source": [
    "### Centrality\n",
    "\n",
    "Some of the questions that are of interest would be:\n",
    "\n",
    "- What is the most popular movie?\n",
    "- What is the most popular movie across each genre?\n",
    "- "
   ]
  },
  {
   "cell_type": "markdown",
   "metadata": {},
   "source": [
    "### 6. Conclusion\n",
    "\n",
    "This analysis was helpful in driving some conclusions regarding a specific construction of the network of users who rated movies. One thing that I gained from this process is that network graphs are a way for us to evaluate different relationships amongst different things, but at the same time - as with other types of analysis problems - the real insights are gleaned from the particular questions that we ask of the data and the specific analyses that we apply to the data. Networks are particularly helpful for evaluating relationships and provide a data structure that is best suited for this type of analysis."
   ]
  }
 ],
 "metadata": {
  "kernelspec": {
   "display_name": "Python 3",
   "language": "python",
   "name": "python3"
  },
  "language_info": {
   "codemirror_mode": {
    "name": "ipython",
    "version": 3
   },
   "file_extension": ".py",
   "mimetype": "text/x-python",
   "name": "python",
   "nbconvert_exporter": "python",
   "pygments_lexer": "ipython3",
   "version": "3.7.6"
  }
 },
 "nbformat": 4,
 "nbformat_minor": 5
}
